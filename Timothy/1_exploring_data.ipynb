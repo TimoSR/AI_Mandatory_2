{
 "cells": [
  {
   "cell_type": "code",
   "execution_count": 4,
   "metadata": {},
   "outputs": [],
   "source": [
    "import numpy\n",
    "import matplotlib.pyplot as plt\n",
    "import gymnasium\n",
    "from gymnasium.wrappers import RecordVideo\n",
    "from gymnasium.utils.play import play"
   ]
  },
  {
   "cell_type": "code",
   "execution_count": 5,
   "metadata": {},
   "outputs": [],
   "source": [
    "#  sets the precision to 3 decimal places.\n",
    "numpy.set_printoptions(precision=3)"
   ]
  },
  {
   "cell_type": "code",
   "execution_count": 6,
   "metadata": {},
   "outputs": [
    {
     "name": "stderr",
     "output_type": "stream",
     "text": [
      "A.L.E: Arcade Learning Environment (version 0.8.1+53f58b7)\n",
      "[Powered by Stella]\n"
     ]
    }
   ],
   "source": [
    "env = gymnasium.make(\"ALE/SpaceInvaders-v5\", render_mode='rgb_array')"
   ]
  },
  {
   "attachments": {},
   "cell_type": "markdown",
   "metadata": {},
   "source": [
    "# SpaceInvaders has the action space Discrete(6)"
   ]
  },
  {
   "attachments": {},
   "cell_type": "markdown",
   "metadata": {},
   "source": [
    "| Value | Meaning    |\n",
    "|-------|------------|\n",
    "| 0     | NOOP       |\n",
    "| 1     | FIRE       |\n",
    "| 2     | RIGHT      |\n",
    "| 3     | LEFT       |\n",
    "| 4     | RIGHTFIRE  |\n",
    "| 5     | LEFTFIRE   |\n"
   ]
  },
  {
   "attachments": {},
   "cell_type": "markdown",
   "metadata": {},
   "source": [
    "# ENV reset variables"
   ]
  },
  {
   "cell_type": "code",
   "execution_count": 7,
   "metadata": {},
   "outputs": [],
   "source": [
    "obs, info = env.reset()"
   ]
  },
  {
   "cell_type": "code",
   "execution_count": 8,
   "metadata": {},
   "outputs": [
    {
     "name": "stdout",
     "output_type": "stream",
     "text": [
      "[[[ 0  0  0]\n",
      "  [ 0  0  0]\n",
      "  [ 0  0  0]\n",
      "  ...\n",
      "  [ 0  0  0]\n",
      "  [ 0  0  0]\n",
      "  [ 0  0  0]]\n",
      "\n",
      " [[ 0  0  0]\n",
      "  [ 0  0  0]\n",
      "  [ 0  0  0]\n",
      "  ...\n",
      "  [ 0  0  0]\n",
      "  [ 0  0  0]\n",
      "  [ 0  0  0]]\n",
      "\n",
      " [[ 0  0  0]\n",
      "  [ 0  0  0]\n",
      "  [ 0  0  0]\n",
      "  ...\n",
      "  [ 0  0  0]\n",
      "  [ 0  0  0]\n",
      "  [ 0  0  0]]\n",
      "\n",
      " ...\n",
      "\n",
      " [[80 89 22]\n",
      "  [80 89 22]\n",
      "  [80 89 22]\n",
      "  ...\n",
      "  [80 89 22]\n",
      "  [80 89 22]\n",
      "  [80 89 22]]\n",
      "\n",
      " [[80 89 22]\n",
      "  [80 89 22]\n",
      "  [80 89 22]\n",
      "  ...\n",
      "  [80 89 22]\n",
      "  [80 89 22]\n",
      "  [80 89 22]]\n",
      "\n",
      " [[80 89 22]\n",
      "  [80 89 22]\n",
      "  [80 89 22]\n",
      "  ...\n",
      "  [80 89 22]\n",
      "  [80 89 22]\n",
      "  [80 89 22]]]\n"
     ]
    }
   ],
   "source": [
    "print(obs)"
   ]
  },
  {
   "cell_type": "code",
   "execution_count": 9,
   "metadata": {},
   "outputs": [
    {
     "name": "stdout",
     "output_type": "stream",
     "text": [
      "{'lives': 3, 'episode_frame_number': 0, 'frame_number': 0}\n"
     ]
    }
   ],
   "source": [
    "print(info)"
   ]
  },
  {
   "attachments": {},
   "cell_type": "markdown",
   "metadata": {},
   "source": [
    "# ENV step variables"
   ]
  },
  {
   "cell_type": "code",
   "execution_count": 10,
   "metadata": {},
   "outputs": [],
   "source": [
    "action = env.action_space.sample() # Just a random agent\n",
    "obs, reward, terminated, truncated, info = env.step(action)"
   ]
  },
  {
   "cell_type": "code",
   "execution_count": 11,
   "metadata": {},
   "outputs": [
    {
     "name": "stdout",
     "output_type": "stream",
     "text": [
      "[[[ 0  0  0]\n",
      "  [ 0  0  0]\n",
      "  [ 0  0  0]\n",
      "  ...\n",
      "  [ 0  0  0]\n",
      "  [ 0  0  0]\n",
      "  [ 0  0  0]]\n",
      "\n",
      " [[ 0  0  0]\n",
      "  [ 0  0  0]\n",
      "  [ 0  0  0]\n",
      "  ...\n",
      "  [ 0  0  0]\n",
      "  [ 0  0  0]\n",
      "  [ 0  0  0]]\n",
      "\n",
      " [[ 0  0  0]\n",
      "  [ 0  0  0]\n",
      "  [ 0  0  0]\n",
      "  ...\n",
      "  [ 0  0  0]\n",
      "  [ 0  0  0]\n",
      "  [ 0  0  0]]\n",
      "\n",
      " ...\n",
      "\n",
      " [[80 89 22]\n",
      "  [80 89 22]\n",
      "  [80 89 22]\n",
      "  ...\n",
      "  [80 89 22]\n",
      "  [80 89 22]\n",
      "  [80 89 22]]\n",
      "\n",
      " [[80 89 22]\n",
      "  [80 89 22]\n",
      "  [80 89 22]\n",
      "  ...\n",
      "  [80 89 22]\n",
      "  [80 89 22]\n",
      "  [80 89 22]]\n",
      "\n",
      " [[80 89 22]\n",
      "  [80 89 22]\n",
      "  [80 89 22]\n",
      "  ...\n",
      "  [80 89 22]\n",
      "  [80 89 22]\n",
      "  [80 89 22]]]\n"
     ]
    }
   ],
   "source": [
    "print(obs)"
   ]
  },
  {
   "cell_type": "code",
   "execution_count": 12,
   "metadata": {},
   "outputs": [
    {
     "name": "stdout",
     "output_type": "stream",
     "text": [
      "0.0\n"
     ]
    }
   ],
   "source": [
    "print(reward)"
   ]
  },
  {
   "cell_type": "code",
   "execution_count": 13,
   "metadata": {},
   "outputs": [
    {
     "name": "stdout",
     "output_type": "stream",
     "text": [
      "False\n"
     ]
    }
   ],
   "source": [
    "print(terminated)"
   ]
  },
  {
   "cell_type": "code",
   "execution_count": 14,
   "metadata": {},
   "outputs": [
    {
     "name": "stdout",
     "output_type": "stream",
     "text": [
      "False\n"
     ]
    }
   ],
   "source": [
    "print(truncated)"
   ]
  },
  {
   "cell_type": "code",
   "execution_count": 15,
   "metadata": {},
   "outputs": [
    {
     "name": "stdout",
     "output_type": "stream",
     "text": [
      "{'lives': 3, 'episode_frame_number': 4, 'frame_number': 4}\n"
     ]
    }
   ],
   "source": [
    "print(info)"
   ]
  },
  {
   "attachments": {},
   "cell_type": "markdown",
   "metadata": {},
   "source": [
    "# Difficulty"
   ]
  },
  {
   "cell_type": "code",
   "execution_count": 16,
   "metadata": {},
   "outputs": [],
   "source": [
    "\n",
    "# To add diffculty to the game we must declar it, 0 is default difculty or 1 is\n",
    "difficulty=1\n",
    "\n",
    "env = gymnasium.make(\"ALE/SpaceInvaders-v5\", render_mode='rgb_array', difficulty = difficulty)"
   ]
  },
  {
   "attachments": {},
   "cell_type": "markdown",
   "metadata": {},
   "source": [
    "# High Score"
   ]
  },
  {
   "cell_type": "code",
   "execution_count": 17,
   "metadata": {},
   "outputs": [
    {
     "name": "stdout",
     "output_type": "stream",
     "text": [
      "EnvSpec(id='ALE/SpaceInvaders-v5', entry_point='shimmy.atari_env:AtariEnv', reward_threshold=None, nondeterministic=False, max_episode_steps=None, order_enforce=True, autoreset=False, disable_env_checker=False, apply_api_compatibility=False, kwargs={'game': 'space_invaders', 'obs_type': 'rgb', 'repeat_action_probability': 0.25, 'full_action_space': False, 'frameskip': 4, 'max_num_frames_per_episode': 108000, 'render_mode': 'rgb_array', 'difficulty': 1}, namespace='ALE', name='SpaceInvaders', version=5, additional_wrappers=(), vector_entry_point=None)\n",
      "<class 'int'>\n",
      "1\n"
     ]
    }
   ],
   "source": [
    "# To get access to env settings we use spec\n",
    "\n",
    "print(env.spec)\n",
    "\n",
    "# Gaining Access to diffuclty\n",
    "\n",
    "read_difficulty = env.unwrapped.spec.kwargs['difficulty']\n",
    "\n",
    "# Getting into into the data\n",
    "\n",
    "print(type(read_difficulty))\n",
    "print(read_difficulty)\n"
   ]
  },
  {
   "cell_type": "code",
   "execution_count": null,
   "metadata": {},
   "outputs": [],
   "source": []
  }
 ],
 "metadata": {
  "kernelspec": {
   "display_name": "AI_Mac_Timmy",
   "language": "python",
   "name": "python3"
  },
  "language_info": {
   "codemirror_mode": {
    "name": "ipython",
    "version": 3
   },
   "file_extension": ".py",
   "mimetype": "text/x-python",
   "name": "python",
   "nbconvert_exporter": "python",
   "pygments_lexer": "ipython3",
   "version": "3.10.10 | packaged by conda-forge | (main, Mar 24 2023, 20:17:34) [Clang 14.0.6 ]"
  },
  "vscode": {
   "interpreter": {
    "hash": "9f174ac5680a9056aadc6abe052c9121a33cf3812af105fe94bccd126eaeadc2"
   }
  }
 },
 "nbformat": 4,
 "nbformat_minor": 4
}
