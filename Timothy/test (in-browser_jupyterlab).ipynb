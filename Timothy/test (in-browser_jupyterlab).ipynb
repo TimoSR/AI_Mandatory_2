{
 "cells": [
  {
   "cell_type": "code",
   "execution_count": 1,
   "metadata": {
    "tags": []
   },
   "outputs": [],
   "source": [
    "import sys\n",
    "sys.path.append(\"..\")  # Add the parent directory to the Python path\n",
    "\n",
    "import random\n",
    "import time\n",
    "import numpy as np\n",
    "import matplotlib.pyplot as plt\n",
    "import gymnasium\n",
    "from gymnasium.wrappers import RecordVideo\n",
    "from gymnasium.utils.play import play"
   ]
  },
  {
   "cell_type": "code",
   "execution_count": 2,
   "metadata": {
    "tags": []
   },
   "outputs": [],
   "source": [
    "#  sets the precision to 3 decimal places.\n",
    "np.set_printoptions(precision=3)"
   ]
  },
  {
   "cell_type": "code",
   "execution_count": 3,
   "metadata": {
    "tags": []
   },
   "outputs": [
    {
     "name": "stderr",
     "output_type": "stream",
     "text": [
      "A.L.E: Arcade Learning Environment (version 0.8.1+53f58b7)\n",
      "[Powered by Stella]\n",
      "objc[97180]: Class SDLApplication is implemented in both /Users/archit3ct/anaconda3/envs/AI-Mac/lib/python3.10/site-packages/pygame/.dylibs/libSDL2-2.0.0.dylib (0x128c407e8) and /Users/archit3ct/anaconda3/envs/AI-Mac/lib/python3.10/site-packages/ale_py/libSDL2-2.0.dylib (0x149c5c080). One of the two will be used. Which one is undefined.\n",
      "objc[97180]: Class SDLAppDelegate is implemented in both /Users/archit3ct/anaconda3/envs/AI-Mac/lib/python3.10/site-packages/pygame/.dylibs/libSDL2-2.0.0.dylib (0x128c40838) and /Users/archit3ct/anaconda3/envs/AI-Mac/lib/python3.10/site-packages/ale_py/libSDL2-2.0.dylib (0x149c5c0d0). One of the two will be used. Which one is undefined.\n",
      "objc[97180]: Class SDLTranslatorResponder is implemented in both /Users/archit3ct/anaconda3/envs/AI-Mac/lib/python3.10/site-packages/pygame/.dylibs/libSDL2-2.0.0.dylib (0x128c408b0) and /Users/archit3ct/anaconda3/envs/AI-Mac/lib/python3.10/site-packages/ale_py/libSDL2-2.0.dylib (0x149c5c148). One of the two will be used. Which one is undefined.\n",
      "objc[97180]: Class SDLMessageBoxPresenter is implemented in both /Users/archit3ct/anaconda3/envs/AI-Mac/lib/python3.10/site-packages/pygame/.dylibs/libSDL2-2.0.0.dylib (0x128c408d8) and /Users/archit3ct/anaconda3/envs/AI-Mac/lib/python3.10/site-packages/ale_py/libSDL2-2.0.dylib (0x149c5c170). One of the two will be used. Which one is undefined.\n",
      "objc[97180]: Class SDL_cocoametalview is implemented in both /Users/archit3ct/anaconda3/envs/AI-Mac/lib/python3.10/site-packages/pygame/.dylibs/libSDL2-2.0.0.dylib (0x128c40928) and /Users/archit3ct/anaconda3/envs/AI-Mac/lib/python3.10/site-packages/ale_py/libSDL2-2.0.dylib (0x149c5c1c0). One of the two will be used. Which one is undefined.\n",
      "objc[97180]: Class SDLOpenGLContext is implemented in both /Users/archit3ct/anaconda3/envs/AI-Mac/lib/python3.10/site-packages/pygame/.dylibs/libSDL2-2.0.0.dylib (0x128c40978) and /Users/archit3ct/anaconda3/envs/AI-Mac/lib/python3.10/site-packages/ale_py/libSDL2-2.0.dylib (0x149c5c210). One of the two will be used. Which one is undefined.\n",
      "objc[97180]: Class SDLWindow is implemented in both /Users/archit3ct/anaconda3/envs/AI-Mac/lib/python3.10/site-packages/pygame/.dylibs/libSDL2-2.0.0.dylib (0x128c409c8) and /Users/archit3ct/anaconda3/envs/AI-Mac/lib/python3.10/site-packages/ale_py/libSDL2-2.0.dylib (0x149c5c260). One of the two will be used. Which one is undefined.\n",
      "objc[97180]: Class Cocoa_WindowListener is implemented in both /Users/archit3ct/anaconda3/envs/AI-Mac/lib/python3.10/site-packages/pygame/.dylibs/libSDL2-2.0.0.dylib (0x128c409f0) and /Users/archit3ct/anaconda3/envs/AI-Mac/lib/python3.10/site-packages/ale_py/libSDL2-2.0.dylib (0x149c5c288). One of the two will be used. Which one is undefined.\n",
      "objc[97180]: Class SDLView is implemented in both /Users/archit3ct/anaconda3/envs/AI-Mac/lib/python3.10/site-packages/pygame/.dylibs/libSDL2-2.0.0.dylib (0x128c40a68) and /Users/archit3ct/anaconda3/envs/AI-Mac/lib/python3.10/site-packages/ale_py/libSDL2-2.0.dylib (0x149c5c300). One of the two will be used. Which one is undefined.\n",
      "objc[97180]: Class METAL_RenderData is implemented in both /Users/archit3ct/anaconda3/envs/AI-Mac/lib/python3.10/site-packages/pygame/.dylibs/libSDL2-2.0.0.dylib (0x128c40ab8) and /Users/archit3ct/anaconda3/envs/AI-Mac/lib/python3.10/site-packages/ale_py/libSDL2-2.0.dylib (0x149c5c350). One of the two will be used. Which one is undefined.\n",
      "objc[97180]: Class METAL_TextureData is implemented in both /Users/archit3ct/anaconda3/envs/AI-Mac/lib/python3.10/site-packages/pygame/.dylibs/libSDL2-2.0.0.dylib (0x128c40b08) and /Users/archit3ct/anaconda3/envs/AI-Mac/lib/python3.10/site-packages/ale_py/libSDL2-2.0.dylib (0x149c5c3a0). One of the two will be used. Which one is undefined.\n",
      "Fatal Python error: pygame_parachute: (pygame parachute) Segmentation Fault\n",
      "Python runtime state: initialized\n",
      "\n",
      "Thread 0x0000000175d33000 (most recent call first):\n",
      "  File \"/Users/archit3ct/anaconda3/envs/AI-Mac/lib/python3.10/threading.py\", line 320 in wait\n",
      "  File \"/Users/archit3ct/anaconda3/envs/AI-Mac/lib/python3.10/threading.py\", line 607 in wait\n",
      "  File \"/Users/archit3ct/anaconda3/envs/AI-Mac/lib/python3.10/site-packages/IPython/core/history.py\", line 884 in run\n",
      "  File \"/Users/archit3ct/anaconda3/envs/AI-Mac/lib/python3.10/site-packages/IPython/core/history.py\", line 60 in only_when_enabled\n",
      "  File \"/Users/archit3ct/anaconda3/envs/AI-Mac/lib/python3.10/site-packages/decorator.py\", line 232 in fun\n",
      "  File \"/Users/archit3ct/anaconda3/envs/AI-Mac/lib/python3.10/threading.py\", line 1016 in _bootstrap_inner\n",
      "  File \"/Users/archit3ct/anaconda3/envs/AI-Mac/lib/python3.10/threading.py\", line 973 in _bootstrap\n",
      "\n",
      "Thread 0x0000000174d27000 (most recent call first):\n",
      "  File \"/Users/archit3ct/anaconda3/envs/AI-Mac/lib/python3.10/selectors.py\", line 562 in select\n",
      "  File \"/Users/archit3ct/anaconda3/envs/AI-Mac/lib/python3.10/asyncio/base_events.py\", line 1871 in _run_once\n",
      "  File \"/Users/archit3ct/anaconda3/envs/AI-Mac/lib/python3.10/asyncio/base_events.py\", line 603 in run_forever\n",
      "  File \"/Users/archit3ct/anaconda3/envs/AI-Mac/lib/python3.10/site-packages/tornado/platform/asyncio.py\", line 195 in start\n",
      "  File \"/Users/archit3ct/anaconda3/envs/AI-Mac/lib/python3.10/site-packages/ipykernel/control.py\", line 23 in run\n",
      "  File \"/Users/archit3ct/anaconda3/envs/AI-Mac/lib/python3.10/threading.py\", line 1016 in _bootstrap_inner\n",
      "  File \"/Users/archit3ct/anaconda3/envs/AI-Mac/lib/python3.10/threading.py\", line 973 in _bootstrap\n",
      "\n",
      "Thread 0x0000000173d1b000 (most recent call first):\n",
      "  File \"/Users/archit3ct/anaconda3/envs/AI-Mac/lib/python3.10/site-packages/ipykernel/iostream.py\", line 338 in _watch_pipe_fd\n",
      "  File \"/Users/archit3ct/anaconda3/envs/AI-Mac/lib/python3.10/threading.py\", line 953 in run\n",
      "  File \"/Users/archit3ct/anaconda3/envs/AI-Mac/lib/python3.10/threading.py\", line 1016 in _bootstrap_inner\n",
      "  File \"/Users/archit3ct/anaconda3/envs/AI-Mac/lib/python3.10/threading.py\", line 973 in _bootstrap\n",
      "\n",
      "Thread 0x0000000172d0f000 (most recent call first):\n",
      "  File \"/Users/archit3ct/anaconda3/envs/AI-Mac/lib/python3.10/site-packages/ipykernel/iostream.py\", line 334 in _watch_pipe_fd\n",
      "  File \"/Users/archit3ct/anaconda3/envs/AI-Mac/lib/python3.10/threading.py\", line 953 in run\n",
      "  File \"/Users/archit3ct/anaconda3/envs/AI-Mac/lib/python3.10/threading.py\", line 1016 in _bootstrap_inner\n",
      "  File \"/Users/archit3ct/anaconda3/envs/AI-Mac/lib/python3.10/threading.py\", line 973 in _bootstrap\n",
      "\n",
      "Thread 0x0000000171beb000 (most recent call first):\n",
      "  File \"/Users/archit3ct/anaconda3/envs/AI-Mac/lib/python3.10/site-packages/ipykernel/heartbeat.py\", line 106 in run\n",
      "  File \"/Users/archit3ct/anaconda3/envs/AI-Mac/lib/python3.10/threading.py\", line 1016 in _bootstrap_inner\n",
      "  File \"/Users/archit3ct/anaconda3/envs/AI-Mac/lib/python3.10/threading.py\", line 973 in _bootstrap\n",
      "\n",
      "Thread 0x0000000170bdf000 (most recent call first):\n",
      "  File \"/Users/archit3ct/anaconda3/envs/AI-Mac/lib/python3.10/selectors.py\", line 562 in select\n",
      "  File \"/Users/archit3ct/anaconda3/envs/AI-Mac/lib/python3.10/asyncio/base_events.py\", line 1871 in _run_once\n",
      "  File \"/Users/archit3ct/anaconda3/envs/AI-Mac/lib/python3.10/asyncio/base_events.py\", line 603 in run_forever\n",
      "  File \"/Users/archit3ct/anaconda3/envs/AI-Mac/lib/python3.10/site-packages/tornado/platform/asyncio.py\", line 195 in start\n",
      "  File \"/Users/archit3ct/anaconda3/envs/AI-Mac/lib/python3.10/site-packages/ipykernel/iostream.py\", line 76 in _thread_main\n",
      "  File \"/Users/archit3ct/anaconda3/envs/AI-Mac/lib/python3.10/threading.py\", line 953 in run\n",
      "  File \"/Users/archit3ct/anaconda3/envs/AI-Mac/lib/python3.10/threading.py\", line 1016 in _bootstrap_inner\n",
      "  File \"/Users/archit3ct/anaconda3/envs/AI-Mac/lib/python3.10/threading.py\", line 973 in _bootstrap\n",
      "\n",
      "Current thread 0x00000001dbb75b40 (most recent call first):\n",
      "  File \"/Users/archit3ct/anaconda3/envs/AI-Mac/lib/python3.10/site-packages/shimmy/atari_env.py\", line 225 in seed\n",
      "  File \"/Users/archit3ct/anaconda3/envs/AI-Mac/lib/python3.10/site-packages/shimmy/atari_env.py\", line 171 in __init__\n",
      "  File \"/Users/archit3ct/anaconda3/envs/AI-Mac/lib/python3.10/site-packages/gymnasium/envs/registration.py\", line 801 in make\n",
      "  File \"/var/folders/l5/q4487tr5709g4879jv7kvkq40000gn/T/ipykernel_97180/1699931607.py\", line 2 in <module>\n",
      "  File \"/Users/archit3ct/anaconda3/envs/AI-Mac/lib/python3.10/site-packages/IPython/core/interactiveshell.py\", line 3508 in run_code\n",
      "  File \"/Users/archit3ct/anaconda3/envs/AI-Mac/lib/python3.10/site-packages/IPython/core/interactiveshell.py\", line 3448 in run_ast_nodes\n",
      "  File \"/Users/archit3ct/anaconda3/envs/AI-Mac/lib/python3.10/site-packages/IPython/core/interactiveshell.py\", line 3269 in run_cell_async\n",
      "  File \"/Users/archit3ct/anaconda3/envs/AI-Mac/lib/python3.10/site-packages/IPython/core/async_helpers.py\", line 129 in _pseudo_sync_runner\n",
      "  File \"/Users/archit3ct/anaconda3/envs/AI-Mac/lib/python3.10/site-packages/IPython/core/interactiveshell.py\", line 3064 in _run_cell\n",
      "  File \"/Users/archit3ct/anaconda3/envs/AI-Mac/lib/python3.10/site-packages/IPython/core/interactiveshell.py\", line 3009 in run_cell\n",
      "  File \"/Users/archit3ct/anaconda3/envs/AI-Mac/lib/python3.10/site-packages/ipykernel/zmqshell.py\", line 540 in run_cell\n",
      "  File \"/Users/archit3ct/anaconda3/envs/AI-Mac/lib/python3.10/site-packages/ipykernel/ipkernel.py\", line 422 in do_execute\n",
      "  File \"/Users/archit3ct/anaconda3/envs/AI-Mac/lib/python3.10/site-packages/ipykernel/kernelbase.py\", line 729 in execute_request\n",
      "  File \"/Users/archit3ct/anaconda3/envs/AI-Mac/lib/python3.10/site-packages/ipykernel/kernelbase.py\", line 409 in dispatch_shell\n",
      "  File \"/Users/archit3ct/anaconda3/envs/AI-Mac/lib/python3.10/site-packages/ipykernel/kernelbase.py\", line 502 in process_one\n",
      "  File \"/Users/archit3ct/anaconda3/envs/AI-Mac/lib/python3.10/site-packages/ipykernel/kernelbase.py\", line 513 in dispatch_queue\n",
      "  File \"/Users/archit3ct/anaconda3/envs/AI-Mac/lib/python3.10/asyncio/events.py\", line 80 in _run\n",
      "  File \"/Users/archit3ct/anaconda3/envs/AI-Mac/lib/python3.10/asyncio/base_events.py\", line 1909 in _run_once\n",
      "  File \"/Users/archit3ct/anaconda3/envs/AI-Mac/lib/python3.10/asyncio/base_events.py\", line 603 in run_forever\n",
      "  File \"/Users/archit3ct/anaconda3/envs/AI-Mac/lib/python3.10/site-packages/tornado/platform/asyncio.py\", line 195 in start\n",
      "  File \"/Users/archit3ct/anaconda3/envs/AI-Mac/lib/python3.10/site-packages/ipykernel/kernelapp.py\", line 725 in start\n",
      "  File \"/Users/archit3ct/anaconda3/envs/AI-Mac/lib/python3.10/sit"
     ]
    },
    {
     "ename": "",
     "evalue": "",
     "output_type": "error",
     "traceback": [
      "\u001b[1;31mCanceled future for execute_request message before replies were done"
     ]
    },
    {
     "ename": "",
     "evalue": "",
     "output_type": "error",
     "traceback": [
      "\u001b[1;31mThe Kernel crashed while executing code in the the current cell or a previous cell. Please review the code in the cell(s) to identify a possible cause of the failure. Click <a href='https://aka.ms/vscodeJupyterKernelCrash'>here</a> for more info. View Jupyter <a href='command:jupyter.viewOutput'>log</a> for further details."
     ]
    }
   ],
   "source": [
    "# Creating the Gym enviroment\n",
    "env = gymnasium.make(\"ALE/SpaceInvaders-v5\", render_mode=\"human\")\n",
    "#env.metadata['render_fps'] = 60"
   ]
  },
  {
   "cell_type": "code",
   "execution_count": null,
   "metadata": {
    "tags": []
   },
   "outputs": [
    {
     "name": "stderr",
     "output_type": "stream",
     "text": [
      "/Users/archit3ct/anaconda3/envs/AI-Mac/lib/python3.10/site-packages/gymnasium/wrappers/record_video.py:87: UserWarning: \u001b[33mWARN: Overwriting existing videos at /Users/archit3ct/Code/Assignments/AI_Mandatory_2/Timothy/video folder (try specifying a different `video_folder` for the `RecordVideo` wrapper if this is not desired)\u001b[0m\n",
      "  logger.warn(\n"
     ]
    }
   ],
   "source": [
    "# Wrapping the enviroment with the monitoring\n",
    "output_dir = \"video\"\n",
    "env = RecordVideo(env, output_dir)"
   ]
  },
  {
   "cell_type": "code",
   "execution_count": null,
   "metadata": {},
   "outputs": [
    {
     "name": "stdout",
     "output_type": "stream",
     "text": [
      "Moviepy - Building video /Users/archit3ct/Code/Assignments/AI_Mandatory_2/Timothy/video/rl-video-episode-0.mp4.\n",
      "Moviepy - Writing video /Users/archit3ct/Code/Assignments/AI_Mandatory_2/Timothy/video/rl-video-episode-0.mp4\n",
      "\n"
     ]
    },
    {
     "ename": "TypeError",
     "evalue": "must be real number, not NoneType",
     "output_type": "error",
     "traceback": [
      "\u001b[0;31m---------------------------------------------------------------------------\u001b[0m",
      "\u001b[0;31mTypeError\u001b[0m                                 Traceback (most recent call last)",
      "Cell \u001b[0;32mIn[5], line 9\u001b[0m\n\u001b[1;32m      6\u001b[0m \u001b[39mwhile\u001b[39;00m \u001b[39mnot\u001b[39;00m done:\n\u001b[1;32m      7\u001b[0m     \u001b[39m# For demonstration purposes, we use a random agent\u001b[39;00m\n\u001b[1;32m      8\u001b[0m     action \u001b[39m=\u001b[39m env\u001b[39m.\u001b[39maction_space\u001b[39m.\u001b[39msample()\n\u001b[0;32m----> 9\u001b[0m     obs, reward, terminated, truncated, info \u001b[39m=\u001b[39m env\u001b[39m.\u001b[39;49mstep(action)\n",
      "File \u001b[0;32m~/anaconda3/envs/AI-Mac/lib/python3.10/site-packages/gymnasium/wrappers/record_video.py:180\u001b[0m, in \u001b[0;36mRecordVideo.step\u001b[0;34m(self, action)\u001b[0m\n\u001b[1;32m    178\u001b[0m \u001b[39mif\u001b[39;00m \u001b[39mnot\u001b[39;00m \u001b[39mself\u001b[39m\u001b[39m.\u001b[39mis_vector_env:\n\u001b[1;32m    179\u001b[0m     \u001b[39mif\u001b[39;00m terminateds \u001b[39mor\u001b[39;00m truncateds:\n\u001b[0;32m--> 180\u001b[0m         \u001b[39mself\u001b[39;49m\u001b[39m.\u001b[39;49mclose_video_recorder()\n\u001b[1;32m    181\u001b[0m \u001b[39melif\u001b[39;00m terminateds[\u001b[39m0\u001b[39m] \u001b[39mor\u001b[39;00m truncateds[\u001b[39m0\u001b[39m]:\n\u001b[1;32m    182\u001b[0m     \u001b[39mself\u001b[39m\u001b[39m.\u001b[39mclose_video_recorder()\n",
      "File \u001b[0;32m~/anaconda3/envs/AI-Mac/lib/python3.10/site-packages/gymnasium/wrappers/record_video.py:193\u001b[0m, in \u001b[0;36mRecordVideo.close_video_recorder\u001b[0;34m(self)\u001b[0m\n\u001b[1;32m    191\u001b[0m \u001b[39mif\u001b[39;00m \u001b[39mself\u001b[39m\u001b[39m.\u001b[39mrecording:\n\u001b[1;32m    192\u001b[0m     \u001b[39massert\u001b[39;00m \u001b[39mself\u001b[39m\u001b[39m.\u001b[39mvideo_recorder \u001b[39mis\u001b[39;00m \u001b[39mnot\u001b[39;00m \u001b[39mNone\u001b[39;00m\n\u001b[0;32m--> 193\u001b[0m     \u001b[39mself\u001b[39;49m\u001b[39m.\u001b[39;49mvideo_recorder\u001b[39m.\u001b[39;49mclose()\n\u001b[1;32m    194\u001b[0m \u001b[39mself\u001b[39m\u001b[39m.\u001b[39mrecording \u001b[39m=\u001b[39m \u001b[39mFalse\u001b[39;00m\n\u001b[1;32m    195\u001b[0m \u001b[39mself\u001b[39m\u001b[39m.\u001b[39mrecorded_frames \u001b[39m=\u001b[39m \u001b[39m1\u001b[39m\n",
      "File \u001b[0;32m~/anaconda3/envs/AI-Mac/lib/python3.10/site-packages/gymnasium/wrappers/monitoring/video_recorder.py:161\u001b[0m, in \u001b[0;36mVideoRecorder.close\u001b[0;34m(self)\u001b[0m\n\u001b[1;32m    159\u001b[0m     clip \u001b[39m=\u001b[39m ImageSequenceClip(\u001b[39mself\u001b[39m\u001b[39m.\u001b[39mrecorded_frames, fps\u001b[39m=\u001b[39m\u001b[39mself\u001b[39m\u001b[39m.\u001b[39mframes_per_sec)\n\u001b[1;32m    160\u001b[0m     moviepy_logger \u001b[39m=\u001b[39m \u001b[39mNone\u001b[39;00m \u001b[39mif\u001b[39;00m \u001b[39mself\u001b[39m\u001b[39m.\u001b[39mdisable_logger \u001b[39melse\u001b[39;00m \u001b[39m\"\u001b[39m\u001b[39mbar\u001b[39m\u001b[39m\"\u001b[39m\n\u001b[0;32m--> 161\u001b[0m     clip\u001b[39m.\u001b[39;49mwrite_videofile(\u001b[39mself\u001b[39;49m\u001b[39m.\u001b[39;49mpath, logger\u001b[39m=\u001b[39;49mmoviepy_logger)\n\u001b[1;32m    162\u001b[0m \u001b[39melse\u001b[39;00m:\n\u001b[1;32m    163\u001b[0m     \u001b[39m# No frames captured. Set metadata.\u001b[39;00m\n\u001b[1;32m    164\u001b[0m     \u001b[39mif\u001b[39;00m \u001b[39mself\u001b[39m\u001b[39m.\u001b[39mmetadata \u001b[39mis\u001b[39;00m \u001b[39mNone\u001b[39;00m:\n",
      "File \u001b[0;32m~/anaconda3/envs/AI-Mac/lib/python3.10/site-packages/decorator.py:232\u001b[0m, in \u001b[0;36mdecorate.<locals>.fun\u001b[0;34m(*args, **kw)\u001b[0m\n\u001b[1;32m    230\u001b[0m \u001b[39mif\u001b[39;00m \u001b[39mnot\u001b[39;00m kwsyntax:\n\u001b[1;32m    231\u001b[0m     args, kw \u001b[39m=\u001b[39m fix(args, kw, sig)\n\u001b[0;32m--> 232\u001b[0m \u001b[39mreturn\u001b[39;00m caller(func, \u001b[39m*\u001b[39;49m(extras \u001b[39m+\u001b[39;49m args), \u001b[39m*\u001b[39;49m\u001b[39m*\u001b[39;49mkw)\n",
      "File \u001b[0;32m~/anaconda3/envs/AI-Mac/lib/python3.10/site-packages/moviepy/decorators.py:54\u001b[0m, in \u001b[0;36mrequires_duration\u001b[0;34m(f, clip, *a, **k)\u001b[0m\n\u001b[1;32m     52\u001b[0m     \u001b[39mraise\u001b[39;00m \u001b[39mValueError\u001b[39;00m(\u001b[39m\"\u001b[39m\u001b[39mAttribute \u001b[39m\u001b[39m'\u001b[39m\u001b[39mduration\u001b[39m\u001b[39m'\u001b[39m\u001b[39m not set\u001b[39m\u001b[39m\"\u001b[39m)\n\u001b[1;32m     53\u001b[0m \u001b[39melse\u001b[39;00m:\n\u001b[0;32m---> 54\u001b[0m     \u001b[39mreturn\u001b[39;00m f(clip, \u001b[39m*\u001b[39;49ma, \u001b[39m*\u001b[39;49m\u001b[39m*\u001b[39;49mk)\n",
      "File \u001b[0;32m~/anaconda3/envs/AI-Mac/lib/python3.10/site-packages/decorator.py:232\u001b[0m, in \u001b[0;36mdecorate.<locals>.fun\u001b[0;34m(*args, **kw)\u001b[0m\n\u001b[1;32m    230\u001b[0m \u001b[39mif\u001b[39;00m \u001b[39mnot\u001b[39;00m kwsyntax:\n\u001b[1;32m    231\u001b[0m     args, kw \u001b[39m=\u001b[39m fix(args, kw, sig)\n\u001b[0;32m--> 232\u001b[0m \u001b[39mreturn\u001b[39;00m caller(func, \u001b[39m*\u001b[39;49m(extras \u001b[39m+\u001b[39;49m args), \u001b[39m*\u001b[39;49m\u001b[39m*\u001b[39;49mkw)\n",
      "File \u001b[0;32m~/anaconda3/envs/AI-Mac/lib/python3.10/site-packages/moviepy/decorators.py:135\u001b[0m, in \u001b[0;36muse_clip_fps_by_default\u001b[0;34m(f, clip, *a, **k)\u001b[0m\n\u001b[1;32m    130\u001b[0m new_a \u001b[39m=\u001b[39m [fun(arg) \u001b[39mif\u001b[39;00m (name\u001b[39m==\u001b[39m\u001b[39m'\u001b[39m\u001b[39mfps\u001b[39m\u001b[39m'\u001b[39m) \u001b[39melse\u001b[39;00m arg\n\u001b[1;32m    131\u001b[0m          \u001b[39mfor\u001b[39;00m (arg, name) \u001b[39min\u001b[39;00m \u001b[39mzip\u001b[39m(a, names)]\n\u001b[1;32m    132\u001b[0m new_kw \u001b[39m=\u001b[39m {k: fun(v) \u001b[39mif\u001b[39;00m k\u001b[39m==\u001b[39m\u001b[39m'\u001b[39m\u001b[39mfps\u001b[39m\u001b[39m'\u001b[39m \u001b[39melse\u001b[39;00m v\n\u001b[1;32m    133\u001b[0m          \u001b[39mfor\u001b[39;00m (k,v) \u001b[39min\u001b[39;00m k\u001b[39m.\u001b[39mitems()}\n\u001b[0;32m--> 135\u001b[0m \u001b[39mreturn\u001b[39;00m f(clip, \u001b[39m*\u001b[39;49mnew_a, \u001b[39m*\u001b[39;49m\u001b[39m*\u001b[39;49mnew_kw)\n",
      "File \u001b[0;32m~/anaconda3/envs/AI-Mac/lib/python3.10/site-packages/decorator.py:232\u001b[0m, in \u001b[0;36mdecorate.<locals>.fun\u001b[0;34m(*args, **kw)\u001b[0m\n\u001b[1;32m    230\u001b[0m \u001b[39mif\u001b[39;00m \u001b[39mnot\u001b[39;00m kwsyntax:\n\u001b[1;32m    231\u001b[0m     args, kw \u001b[39m=\u001b[39m fix(args, kw, sig)\n\u001b[0;32m--> 232\u001b[0m \u001b[39mreturn\u001b[39;00m caller(func, \u001b[39m*\u001b[39;49m(extras \u001b[39m+\u001b[39;49m args), \u001b[39m*\u001b[39;49m\u001b[39m*\u001b[39;49mkw)\n",
      "File \u001b[0;32m~/anaconda3/envs/AI-Mac/lib/python3.10/site-packages/moviepy/decorators.py:22\u001b[0m, in \u001b[0;36mconvert_masks_to_RGB\u001b[0;34m(f, clip, *a, **k)\u001b[0m\n\u001b[1;32m     20\u001b[0m \u001b[39mif\u001b[39;00m clip\u001b[39m.\u001b[39mismask:\n\u001b[1;32m     21\u001b[0m     clip \u001b[39m=\u001b[39m clip\u001b[39m.\u001b[39mto_RGB()\n\u001b[0;32m---> 22\u001b[0m \u001b[39mreturn\u001b[39;00m f(clip, \u001b[39m*\u001b[39;49ma, \u001b[39m*\u001b[39;49m\u001b[39m*\u001b[39;49mk)\n",
      "File \u001b[0;32m~/anaconda3/envs/AI-Mac/lib/python3.10/site-packages/moviepy/video/VideoClip.py:300\u001b[0m, in \u001b[0;36mVideoClip.write_videofile\u001b[0;34m(self, filename, fps, codec, bitrate, audio, audio_fps, preset, audio_nbytes, audio_codec, audio_bitrate, audio_bufsize, temp_audiofile, rewrite_audio, remove_temp, write_logfile, verbose, threads, ffmpeg_params, logger)\u001b[0m\n\u001b[1;32m    292\u001b[0m \u001b[39mif\u001b[39;00m make_audio:\n\u001b[1;32m    293\u001b[0m     \u001b[39mself\u001b[39m\u001b[39m.\u001b[39maudio\u001b[39m.\u001b[39mwrite_audiofile(audiofile, audio_fps,\n\u001b[1;32m    294\u001b[0m                                audio_nbytes, audio_bufsize,\n\u001b[1;32m    295\u001b[0m                                audio_codec, bitrate\u001b[39m=\u001b[39maudio_bitrate,\n\u001b[1;32m    296\u001b[0m                                write_logfile\u001b[39m=\u001b[39mwrite_logfile,\n\u001b[1;32m    297\u001b[0m                                verbose\u001b[39m=\u001b[39mverbose,\n\u001b[1;32m    298\u001b[0m                                logger\u001b[39m=\u001b[39mlogger)\n\u001b[0;32m--> 300\u001b[0m ffmpeg_write_video(\u001b[39mself\u001b[39;49m, filename, fps, codec,\n\u001b[1;32m    301\u001b[0m                    bitrate\u001b[39m=\u001b[39;49mbitrate,\n\u001b[1;32m    302\u001b[0m                    preset\u001b[39m=\u001b[39;49mpreset,\n\u001b[1;32m    303\u001b[0m                    write_logfile\u001b[39m=\u001b[39;49mwrite_logfile,\n\u001b[1;32m    304\u001b[0m                    audiofile\u001b[39m=\u001b[39;49maudiofile,\n\u001b[1;32m    305\u001b[0m                    verbose\u001b[39m=\u001b[39;49mverbose, threads\u001b[39m=\u001b[39;49mthreads,\n\u001b[1;32m    306\u001b[0m                    ffmpeg_params\u001b[39m=\u001b[39;49mffmpeg_params,\n\u001b[1;32m    307\u001b[0m                    logger\u001b[39m=\u001b[39;49mlogger)\n\u001b[1;32m    309\u001b[0m \u001b[39mif\u001b[39;00m remove_temp \u001b[39mand\u001b[39;00m make_audio:\n\u001b[1;32m    310\u001b[0m     \u001b[39mif\u001b[39;00m os\u001b[39m.\u001b[39mpath\u001b[39m.\u001b[39mexists(audiofile):\n",
      "File \u001b[0;32m~/anaconda3/envs/AI-Mac/lib/python3.10/site-packages/moviepy/video/io/ffmpeg_writer.py:213\u001b[0m, in \u001b[0;36mffmpeg_write_video\u001b[0;34m(clip, filename, fps, codec, bitrate, preset, withmask, write_logfile, audiofile, verbose, threads, ffmpeg_params, logger)\u001b[0m\n\u001b[1;32m    211\u001b[0m     logfile \u001b[39m=\u001b[39m \u001b[39mNone\u001b[39;00m\n\u001b[1;32m    212\u001b[0m logger(message\u001b[39m=\u001b[39m\u001b[39m'\u001b[39m\u001b[39mMoviepy - Writing video \u001b[39m\u001b[39m%s\u001b[39;00m\u001b[39m\\n\u001b[39;00m\u001b[39m'\u001b[39m \u001b[39m%\u001b[39m filename)\n\u001b[0;32m--> 213\u001b[0m \u001b[39mwith\u001b[39;00m FFMPEG_VideoWriter(filename, clip\u001b[39m.\u001b[39;49msize, fps, codec \u001b[39m=\u001b[39;49m codec,\n\u001b[1;32m    214\u001b[0m                             preset\u001b[39m=\u001b[39;49mpreset, bitrate\u001b[39m=\u001b[39;49mbitrate, logfile\u001b[39m=\u001b[39;49mlogfile,\n\u001b[1;32m    215\u001b[0m                             audiofile\u001b[39m=\u001b[39;49maudiofile, threads\u001b[39m=\u001b[39;49mthreads,\n\u001b[1;32m    216\u001b[0m                             ffmpeg_params\u001b[39m=\u001b[39;49mffmpeg_params) \u001b[39mas\u001b[39;00m writer:\n\u001b[1;32m    218\u001b[0m     nframes \u001b[39m=\u001b[39m \u001b[39mint\u001b[39m(clip\u001b[39m.\u001b[39mduration\u001b[39m*\u001b[39mfps)\n\u001b[1;32m    220\u001b[0m     \u001b[39mfor\u001b[39;00m t,frame \u001b[39min\u001b[39;00m clip\u001b[39m.\u001b[39miter_frames(logger\u001b[39m=\u001b[39mlogger, with_times\u001b[39m=\u001b[39m\u001b[39mTrue\u001b[39;00m,\n\u001b[1;32m    221\u001b[0m                                     fps\u001b[39m=\u001b[39mfps, dtype\u001b[39m=\u001b[39m\u001b[39m\"\u001b[39m\u001b[39muint8\u001b[39m\u001b[39m\"\u001b[39m):\n",
      "File \u001b[0;32m~/anaconda3/envs/AI-Mac/lib/python3.10/site-packages/moviepy/video/io/ffmpeg_writer.py:88\u001b[0m, in \u001b[0;36mFFMPEG_VideoWriter.__init__\u001b[0;34m(self, filename, size, fps, codec, audiofile, preset, bitrate, withmask, logfile, threads, ffmpeg_params)\u001b[0m\n\u001b[1;32m     77\u001b[0m \u001b[39mself\u001b[39m\u001b[39m.\u001b[39mext \u001b[39m=\u001b[39m \u001b[39mself\u001b[39m\u001b[39m.\u001b[39mfilename\u001b[39m.\u001b[39msplit(\u001b[39m\"\u001b[39m\u001b[39m.\u001b[39m\u001b[39m\"\u001b[39m)[\u001b[39m-\u001b[39m\u001b[39m1\u001b[39m]\n\u001b[1;32m     79\u001b[0m \u001b[39m# order is important\u001b[39;00m\n\u001b[1;32m     80\u001b[0m cmd \u001b[39m=\u001b[39m [\n\u001b[1;32m     81\u001b[0m     get_setting(\u001b[39m\"\u001b[39m\u001b[39mFFMPEG_BINARY\u001b[39m\u001b[39m\"\u001b[39m),\n\u001b[1;32m     82\u001b[0m     \u001b[39m'\u001b[39m\u001b[39m-y\u001b[39m\u001b[39m'\u001b[39m,\n\u001b[1;32m     83\u001b[0m     \u001b[39m'\u001b[39m\u001b[39m-loglevel\u001b[39m\u001b[39m'\u001b[39m, \u001b[39m'\u001b[39m\u001b[39merror\u001b[39m\u001b[39m'\u001b[39m \u001b[39mif\u001b[39;00m logfile \u001b[39m==\u001b[39m sp\u001b[39m.\u001b[39mPIPE \u001b[39melse\u001b[39;00m \u001b[39m'\u001b[39m\u001b[39minfo\u001b[39m\u001b[39m'\u001b[39m,\n\u001b[1;32m     84\u001b[0m     \u001b[39m'\u001b[39m\u001b[39m-f\u001b[39m\u001b[39m'\u001b[39m, \u001b[39m'\u001b[39m\u001b[39mrawvideo\u001b[39m\u001b[39m'\u001b[39m,\n\u001b[1;32m     85\u001b[0m     \u001b[39m'\u001b[39m\u001b[39m-vcodec\u001b[39m\u001b[39m'\u001b[39m, \u001b[39m'\u001b[39m\u001b[39mrawvideo\u001b[39m\u001b[39m'\u001b[39m,\n\u001b[1;32m     86\u001b[0m     \u001b[39m'\u001b[39m\u001b[39m-s\u001b[39m\u001b[39m'\u001b[39m, \u001b[39m'\u001b[39m\u001b[39m%d\u001b[39;00m\u001b[39mx\u001b[39m\u001b[39m%d\u001b[39;00m\u001b[39m'\u001b[39m \u001b[39m%\u001b[39m (size[\u001b[39m0\u001b[39m], size[\u001b[39m1\u001b[39m]),\n\u001b[1;32m     87\u001b[0m     \u001b[39m'\u001b[39m\u001b[39m-pix_fmt\u001b[39m\u001b[39m'\u001b[39m, \u001b[39m'\u001b[39m\u001b[39mrgba\u001b[39m\u001b[39m'\u001b[39m \u001b[39mif\u001b[39;00m withmask \u001b[39melse\u001b[39;00m \u001b[39m'\u001b[39m\u001b[39mrgb24\u001b[39m\u001b[39m'\u001b[39m,\n\u001b[0;32m---> 88\u001b[0m     \u001b[39m'\u001b[39m\u001b[39m-r\u001b[39m\u001b[39m'\u001b[39m, \u001b[39m'\u001b[39;49m\u001b[39m%.02f\u001b[39;49;00m\u001b[39m'\u001b[39;49m \u001b[39m%\u001b[39;49m fps,\n\u001b[1;32m     89\u001b[0m     \u001b[39m'\u001b[39m\u001b[39m-an\u001b[39m\u001b[39m'\u001b[39m, \u001b[39m'\u001b[39m\u001b[39m-i\u001b[39m\u001b[39m'\u001b[39m, \u001b[39m'\u001b[39m\u001b[39m-\u001b[39m\u001b[39m'\u001b[39m\n\u001b[1;32m     90\u001b[0m ]\n\u001b[1;32m     91\u001b[0m \u001b[39mif\u001b[39;00m audiofile \u001b[39mis\u001b[39;00m \u001b[39mnot\u001b[39;00m \u001b[39mNone\u001b[39;00m:\n\u001b[1;32m     92\u001b[0m     cmd\u001b[39m.\u001b[39mextend([\n\u001b[1;32m     93\u001b[0m         \u001b[39m'\u001b[39m\u001b[39m-i\u001b[39m\u001b[39m'\u001b[39m, audiofile,\n\u001b[1;32m     94\u001b[0m         \u001b[39m'\u001b[39m\u001b[39m-acodec\u001b[39m\u001b[39m'\u001b[39m, \u001b[39m'\u001b[39m\u001b[39mcopy\u001b[39m\u001b[39m'\u001b[39m\n\u001b[1;32m     95\u001b[0m     ])\n",
      "\u001b[0;31mTypeError\u001b[0m: must be real number, not NoneType"
     ]
    }
   ],
   "source": [
    "# Run the agent in the environment\n",
    "num_episodes = 5\n",
    "for episode in range(num_episodes):\n",
    "    observation = env.reset()\n",
    "    done = False\n",
    "    while not done:\n",
    "        # For demonstration purposes, we use a random agent\n",
    "        action = env.action_space.sample()\n",
    "        obs, reward, terminated, truncated, info = env.step(action)"
   ]
  },
  {
   "cell_type": "code",
   "execution_count": null,
   "metadata": {
    "tags": []
   },
   "outputs": [],
   "source": [
    "# Close the environment to finalize the video recording\n",
    "env.close()"
   ]
  }
 ],
 "metadata": {
  "kernelspec": {
   "display_name": "Python 3 (ipykernel)",
   "language": "python",
   "name": "python3"
  },
  "language_info": {
   "codemirror_mode": {
    "name": "ipython",
    "version": 3
   },
   "file_extension": ".py",
   "mimetype": "text/x-python",
   "name": "python",
   "nbconvert_exporter": "python",
   "pygments_lexer": "ipython3",
   "version": "3.10.10"
  }
 },
 "nbformat": 4,
 "nbformat_minor": 4
}
