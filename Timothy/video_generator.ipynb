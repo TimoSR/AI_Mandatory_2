{
 "cells": [
  {
   "cell_type": "code",
   "execution_count": 7,
   "metadata": {},
   "outputs": [],
   "source": [
    "import numpy\n",
    "import matplotlib.pyplot as plt\n",
    "import gymnasium\n",
    "from gymnasium.wrappers import RecordVideo\n",
    "from gymnasium.utils.play import play"
   ]
  },
  {
   "cell_type": "code",
   "execution_count": 8,
   "metadata": {},
   "outputs": [],
   "source": [
    "#  sets the precision to 3 decimal places.\n",
    "numpy.set_printoptions(precision=3)"
   ]
  },
  {
   "cell_type": "code",
   "execution_count": 9,
   "metadata": {},
   "outputs": [
    {
     "name": "stderr",
     "output_type": "stream",
     "text": [
      "/Users/archit3ct/anaconda3/envs/AI_Mac/lib/python3.10/site-packages/gymnasium/wrappers/record_video.py:87: UserWarning: \u001b[33mWARN: Overwriting existing videos at /Users/archit3ct/Code/Assignments/AI_Mandatory_2/Timothy/video folder (try specifying a different `video_folder` for the `RecordVideo` wrapper if this is not desired)\u001b[0m\n",
      "  logger.warn(\n"
     ]
    },
    {
     "name": "stdout",
     "output_type": "stream",
     "text": [
      "Moviepy - Building video /Users/archit3ct/Code/Assignments/AI_Mandatory_2/Timothy/video/rl-video-episode-0.mp4.\n",
      "Moviepy - Writing video /Users/archit3ct/Code/Assignments/AI_Mandatory_2/Timothy/video/rl-video-episode-0.mp4\n",
      "\n"
     ]
    },
    {
     "name": "stderr",
     "output_type": "stream",
     "text": [
      "                                                            \r"
     ]
    },
    {
     "name": "stdout",
     "output_type": "stream",
     "text": [
      "Moviepy - Done !\n",
      "Moviepy - video ready /Users/archit3ct/Code/Assignments/AI_Mandatory_2/Timothy/video/rl-video-episode-0.mp4\n",
      "Game Episode 0: Score: 80.0\n",
      "Game Episode 1: Score: 155.0\n",
      "Game Episode 2: Score: 80.0\n",
      "Game Episode 3: Score: 300.0\n",
      "Game Episode 4: Score: 415.0\n",
      "Game Episode 5: Score: 155.0\n",
      "Game Episode 6: Score: 155.0\n",
      "Game Episode 7: Score: 365.0\n",
      "Game Episode 8: Score: 80.0\n",
      "Game Episode 9: Score: 5.0\n",
      "Game Episode 10: Score: 155.0\n",
      "Game Episode 11: Score: 220.0\n",
      "Game Episode 12: Score: 110.0\n",
      "Game Episode 13: Score: 410.0\n",
      "Game Episode 14: Score: 75.0\n",
      "Game Episode 15: Score: 120.0\n",
      "Game Episode 16: Score: 110.0\n",
      "Game Episode 17: Score: 125.0\n",
      "Game Episode 18: Score: 15.0\n",
      "Game Episode 19: Score: 65.0\n",
      "Moviepy - Building video /Users/archit3ct/Code/Assignments/AI_Mandatory_2/Timothy/video/rl-video-episode-20.mp4.\n",
      "Moviepy - Writing video /Users/archit3ct/Code/Assignments/AI_Mandatory_2/Timothy/video/rl-video-episode-20.mp4\n",
      "\n"
     ]
    },
    {
     "name": "stderr",
     "output_type": "stream",
     "text": [
      "                                                    \r"
     ]
    },
    {
     "name": "stdout",
     "output_type": "stream",
     "text": [
      "Moviepy - Done !\n",
      "Moviepy - video ready /Users/archit3ct/Code/Assignments/AI_Mandatory_2/Timothy/video/rl-video-episode-20.mp4\n",
      "Game Episode 20: Score: 50.0\n",
      "Game Episode 21: Score: 105.0\n",
      "Game Episode 22: Score: 180.0\n",
      "Game Episode 23: Score: 170.0\n",
      "Game Episode 24: Score: 75.0\n",
      "Game Episode 25: Score: 35.0\n",
      "Game Episode 26: Score: 135.0\n",
      "Game Episode 27: Score: 180.0\n",
      "Game Episode 28: Score: 80.0\n",
      "Game Episode 29: Score: 90.0\n",
      "Game Episode 30: Score: 105.0\n",
      "Game Episode 31: Score: 185.0\n",
      "Game Episode 32: Score: 80.0\n",
      "Game Episode 33: Score: 120.0\n",
      "Game Episode 34: Score: 180.0\n",
      "Game Episode 35: Score: 275.0\n",
      "Game Episode 36: Score: 265.0\n",
      "Game Episode 37: Score: 80.0\n",
      "Game Episode 38: Score: 110.0\n",
      "Game Episode 39: Score: 155.0\n",
      "Moviepy - Building video /Users/archit3ct/Code/Assignments/AI_Mandatory_2/Timothy/video/rl-video-episode-40.mp4.\n",
      "Moviepy - Writing video /Users/archit3ct/Code/Assignments/AI_Mandatory_2/Timothy/video/rl-video-episode-40.mp4\n",
      "\n"
     ]
    },
    {
     "name": "stderr",
     "output_type": "stream",
     "text": [
      "                                                                \r"
     ]
    },
    {
     "name": "stdout",
     "output_type": "stream",
     "text": [
      "Moviepy - Done !\n",
      "Moviepy - video ready /Users/archit3ct/Code/Assignments/AI_Mandatory_2/Timothy/video/rl-video-episode-40.mp4\n",
      "Game Episode 40: Score: 335.0\n",
      "Game Episode 41: Score: 140.0\n",
      "Game Episode 42: Score: 210.0\n",
      "Game Episode 43: Score: 155.0\n",
      "Game Episode 44: Score: 105.0\n",
      "Game Episode 45: Score: 335.0\n",
      "Game Episode 46: Score: 155.0\n",
      "Game Episode 47: Score: 120.0\n",
      "Game Episode 48: Score: 50.0\n",
      "Game Episode 49: Score: 105.0\n",
      "Game Episode 50: Score: 135.0\n",
      "Game Episode 51: Score: 210.0\n",
      "Game Episode 52: Score: 125.0\n",
      "Game Episode 53: Score: 30.0\n",
      "Game Episode 54: Score: 130.0\n",
      "Game Episode 55: Score: 30.0\n",
      "Game Episode 56: Score: 20.0\n",
      "Game Episode 57: Score: 155.0\n",
      "Game Episode 58: Score: 460.0\n",
      "Game Episode 59: Score: 105.0\n",
      "Moviepy - Building video /Users/archit3ct/Code/Assignments/AI_Mandatory_2/Timothy/video/rl-video-episode-60.mp4.\n",
      "Moviepy - Writing video /Users/archit3ct/Code/Assignments/AI_Mandatory_2/Timothy/video/rl-video-episode-60.mp4\n",
      "\n"
     ]
    },
    {
     "name": "stderr",
     "output_type": "stream",
     "text": [
      "                                                                "
     ]
    },
    {
     "name": "stdout",
     "output_type": "stream",
     "text": [
      "Moviepy - Done !\n",
      "Moviepy - video ready /Users/archit3ct/Code/Assignments/AI_Mandatory_2/Timothy/video/rl-video-episode-60.mp4\n",
      "Game Episode 60: Score: 155.0\n"
     ]
    },
    {
     "name": "stderr",
     "output_type": "stream",
     "text": [
      "\r"
     ]
    },
    {
     "name": "stdout",
     "output_type": "stream",
     "text": [
      "Game Episode 61: Score: 380.0\n",
      "Game Episode 62: Score: 210.0\n",
      "Game Episode 63: Score: 445.0\n",
      "Game Episode 64: Score: 80.0\n",
      "Game Episode 65: Score: 410.0\n",
      "Game Episode 66: Score: 240.0\n",
      "Game Episode 67: Score: 60.0\n",
      "Game Episode 68: Score: 45.0\n",
      "Game Episode 69: Score: 55.0\n",
      "Game Episode 70: Score: 65.0\n",
      "Game Episode 71: Score: 135.0\n",
      "Game Episode 72: Score: 135.0\n",
      "Game Episode 73: Score: 10.0\n",
      "Game Episode 74: Score: 130.0\n",
      "Game Episode 75: Score: 130.0\n",
      "Game Episode 76: Score: 150.0\n",
      "Game Episode 77: Score: 275.0\n",
      "Game Episode 78: Score: 170.0\n",
      "Game Episode 79: Score: 205.0\n",
      "Moviepy - Building video /Users/archit3ct/Code/Assignments/AI_Mandatory_2/Timothy/video/rl-video-episode-80.mp4.\n",
      "Moviepy - Writing video /Users/archit3ct/Code/Assignments/AI_Mandatory_2/Timothy/video/rl-video-episode-80.mp4\n",
      "\n"
     ]
    },
    {
     "name": "stderr",
     "output_type": "stream",
     "text": [
      "                                                                \r"
     ]
    },
    {
     "name": "stdout",
     "output_type": "stream",
     "text": [
      "Moviepy - Done !\n",
      "Moviepy - video ready /Users/archit3ct/Code/Assignments/AI_Mandatory_2/Timothy/video/rl-video-episode-80.mp4\n",
      "Game Episode 80: Score: 215.0\n",
      "Game Episode 81: Score: 105.0\n",
      "Game Episode 82: Score: 105.0\n",
      "Game Episode 83: Score: 30.0\n",
      "Game Episode 84: Score: 580.0\n",
      "Game Episode 85: Score: 210.0\n",
      "Game Episode 86: Score: 110.0\n",
      "Game Episode 87: Score: 155.0\n",
      "Game Episode 88: Score: 105.0\n",
      "Game Episode 89: Score: 80.0\n",
      "Game Episode 90: Score: 180.0\n",
      "Game Episode 91: Score: 125.0\n",
      "Game Episode 92: Score: 50.0\n",
      "Game Episode 93: Score: 90.0\n",
      "Game Episode 94: Score: 75.0\n",
      "Game Episode 95: Score: 170.0\n",
      "Game Episode 96: Score: 35.0\n",
      "Game Episode 97: Score: 255.0\n",
      "Game Episode 98: Score: 125.0\n",
      "Game Episode 99: Score: 30.0\n",
      "Moviepy - Building video /Users/archit3ct/Code/Assignments/AI_Mandatory_2/Timothy/video/rl-video-episode-100.mp4.\n",
      "Moviepy - Writing video /Users/archit3ct/Code/Assignments/AI_Mandatory_2/Timothy/video/rl-video-episode-100.mp4\n",
      "\n"
     ]
    },
    {
     "name": "stderr",
     "output_type": "stream",
     "text": [
      "                                                                \r"
     ]
    },
    {
     "name": "stdout",
     "output_type": "stream",
     "text": [
      "Moviepy - Done !\n",
      "Moviepy - video ready /Users/archit3ct/Code/Assignments/AI_Mandatory_2/Timothy/video/rl-video-episode-100.mp4\n",
      "Game Episode 100: Score: 130.0\n",
      "Highest Score: 580.0\n"
     ]
    }
   ],
   "source": [
    "env = gymnasium.make(\"ALE/SpaceInvaders-v5\", render_mode='rgb_array')\n",
    "output_dir = \"video\"\n",
    "video_frequency = 20\n",
    "\n",
    "\n",
    "env = RecordVideo(env, output_dir, episode_trigger=lambda episode_id: (episode_id) % video_frequency == 0)\n",
    "env.metadata['render_fps'] = 24\n",
    "\n",
    "num_episodes = 100\n",
    "total_reward = 0\n",
    "highest_score = 0  # Initialize highest score variable\n",
    "\n",
    "for episode in range(1, num_episodes + 3):\n",
    "    if(total_reward > 0):\n",
    "        print(f'Game Episode {episode - 2}: Score: {total_reward}')\n",
    "    total_reward = 0\n",
    "    observation, info = env.reset()  # Getting start stats from the game\n",
    "    lives = info['lives']  # Initialize lives inside the loop\n",
    "    while lives != 0:\n",
    "        # For demonstration purposes, we use a random agent\n",
    "        action = env.action_space.sample()   # Just a random agent\n",
    "        obs, reward, terminated, truncated, info = env.step(action)\n",
    "        lives = info['lives']\n",
    "        total_reward = total_reward + reward\n",
    "\n",
    "    # Update highest score if current total reward is higher\n",
    "    if total_reward > highest_score:\n",
    "        highest_score = total_reward\n",
    "\n",
    "# Print the highest score achieved\n",
    "print(f\"Highest Score: {highest_score}\")\n",
    "\n",
    "# Close the environment to finalize the video recording\n",
    "env.close()\n"
   ]
  }
 ],
 "metadata": {
  "kernelspec": {
   "display_name": "Python 3 (ipykernel)",
   "language": "python",
   "name": "python3"
  },
  "language_info": {
   "codemirror_mode": {
    "name": "ipython",
    "version": 3
   },
   "file_extension": ".py",
   "mimetype": "text/x-python",
   "name": "python",
   "nbconvert_exporter": "python",
   "pygments_lexer": "ipython3",
   "version": "3.10.10"
  }
 },
 "nbformat": 4,
 "nbformat_minor": 4
}
