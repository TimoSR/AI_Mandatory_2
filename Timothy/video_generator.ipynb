{
 "cells": [
  {
   "cell_type": "code",
   "execution_count": 1,
   "metadata": {},
   "outputs": [],
   "source": [
    "import numpy\n",
    "import matplotlib.pyplot as plt\n",
    "import gymnasium\n",
    "from gymnasium.wrappers import RecordVideo\n",
    "from gymnasium.utils.play import play"
   ]
  },
  {
   "cell_type": "code",
   "execution_count": 2,
   "metadata": {},
   "outputs": [],
   "source": [
    "#  sets the precision to 3 decimal places.\n",
    "numpy.set_printoptions(precision=3)"
   ]
  },
  {
   "cell_type": "code",
   "execution_count": 3,
   "metadata": {},
   "outputs": [
    {
     "name": "stderr",
     "output_type": "stream",
     "text": [
      "A.L.E: Arcade Learning Environment (version 0.8.1+53f58b7)\n",
      "[Powered by Stella]\n",
      "/Users/archit3ct/anaconda3/envs/AI_Mac/lib/python3.10/site-packages/gymnasium/wrappers/record_video.py:87: UserWarning: \u001b[33mWARN: Overwriting existing videos at /Users/archit3ct/Code/Assignments/AI_Mandatory_2/Timothy/video folder (try specifying a different `video_folder` for the `RecordVideo` wrapper if this is not desired)\u001b[0m\n",
      "  logger.warn(\n"
     ]
    },
    {
     "name": "stdout",
     "output_type": "stream",
     "text": [
      "Moviepy - Building video /Users/archit3ct/Code/Assignments/AI_Mandatory_2/Timothy/video/rl-video-episode-0.mp4.\n",
      "Moviepy - Writing video /Users/archit3ct/Code/Assignments/AI_Mandatory_2/Timothy/video/rl-video-episode-0.mp4\n",
      "\n"
     ]
    },
    {
     "name": "stderr",
     "output_type": "stream",
     "text": [
      "                                                    "
     ]
    },
    {
     "name": "stdout",
     "output_type": "stream",
     "text": [
      "Moviepy - Done !\n",
      "Moviepy - video ready /Users/archit3ct/Code/Assignments/AI_Mandatory_2/Timothy/video/rl-video-episode-0.mp4\n",
      "Game Episode 0: 80.0\n"
     ]
    },
    {
     "name": "stderr",
     "output_type": "stream",
     "text": [
      "\r"
     ]
    },
    {
     "name": "stdout",
     "output_type": "stream",
     "text": [
      "Game Episode 1: 160.0\n",
      "Game Episode 2: 125.0\n",
      "Game Episode 3: 615.0\n",
      "Game Episode 4: 70.0\n",
      "Game Episode 5: 105.0\n",
      "Game Episode 6: 105.0\n",
      "Game Episode 7: 105.0\n",
      "Game Episode 8: 75.0\n",
      "Game Episode 9: 65.0\n",
      "Game Episode 10: 120.0\n",
      "Game Episode 11: 105.0\n",
      "Game Episode 12: 360.0\n",
      "Game Episode 13: 120.0\n",
      "Game Episode 14: 35.0\n",
      "Game Episode 15: 135.0\n",
      "Game Episode 16: 155.0\n",
      "Game Episode 17: 80.0\n",
      "Game Episode 18: 205.0\n",
      "Game Episode 19: 75.0\n",
      "Moviepy - Building video /Users/archit3ct/Code/Assignments/AI_Mandatory_2/Timothy/video/rl-video-episode-20.mp4.\n",
      "Moviepy - Writing video /Users/archit3ct/Code/Assignments/AI_Mandatory_2/Timothy/video/rl-video-episode-20.mp4\n",
      "\n"
     ]
    },
    {
     "name": "stderr",
     "output_type": "stream",
     "text": [
      "                                                                \r"
     ]
    },
    {
     "name": "stdout",
     "output_type": "stream",
     "text": [
      "Moviepy - Done !\n",
      "Moviepy - video ready /Users/archit3ct/Code/Assignments/AI_Mandatory_2/Timothy/video/rl-video-episode-20.mp4\n",
      "Game Episode 20: 90.0\n",
      "Game Episode 21: 75.0\n",
      "Game Episode 22: 380.0\n",
      "Game Episode 23: 210.0\n",
      "Game Episode 24: 250.0\n",
      "Game Episode 25: 35.0\n",
      "Game Episode 26: 40.0\n",
      "Game Episode 27: 135.0\n",
      "Game Episode 28: 20.0\n",
      "Game Episode 29: 95.0\n",
      "Game Episode 30: 215.0\n",
      "Game Episode 31: 75.0\n",
      "Game Episode 32: 185.0\n",
      "Game Episode 33: 90.0\n",
      "Game Episode 34: 365.0\n",
      "Game Episode 35: 80.0\n",
      "Game Episode 36: 515.0\n",
      "Game Episode 37: 185.0\n",
      "Game Episode 38: 135.0\n",
      "Game Episode 39: 185.0\n",
      "Moviepy - Building video /Users/archit3ct/Code/Assignments/AI_Mandatory_2/Timothy/video/rl-video-episode-40.mp4.\n",
      "Moviepy - Writing video /Users/archit3ct/Code/Assignments/AI_Mandatory_2/Timothy/video/rl-video-episode-40.mp4\n",
      "\n"
     ]
    },
    {
     "name": "stderr",
     "output_type": "stream",
     "text": [
      "                                                                "
     ]
    },
    {
     "name": "stdout",
     "output_type": "stream",
     "text": [
      "Moviepy - Done !\n",
      "Moviepy - video ready /Users/archit3ct/Code/Assignments/AI_Mandatory_2/Timothy/video/rl-video-episode-40.mp4\n",
      "Game Episode 40: 175.0\n"
     ]
    },
    {
     "name": "stderr",
     "output_type": "stream",
     "text": [
      "\r"
     ]
    },
    {
     "name": "stdout",
     "output_type": "stream",
     "text": [
      "Game Episode 41: 30.0\n",
      "Game Episode 42: 120.0\n",
      "Game Episode 43: 135.0\n",
      "Game Episode 44: 110.0\n",
      "Game Episode 45: 80.0\n",
      "Game Episode 46: 75.0\n",
      "Game Episode 47: 235.0\n",
      "Game Episode 48: 120.0\n",
      "Game Episode 49: 145.0\n",
      "Game Episode 50: 70.0\n",
      "Game Episode 51: 135.0\n",
      "Game Episode 52: 135.0\n",
      "Game Episode 53: 290.0\n",
      "Game Episode 54: 90.0\n",
      "Game Episode 55: 140.0\n",
      "Game Episode 56: 185.0\n",
      "Game Episode 57: 150.0\n",
      "Game Episode 58: 125.0\n",
      "Game Episode 59: 105.0\n",
      "Moviepy - Building video /Users/archit3ct/Code/Assignments/AI_Mandatory_2/Timothy/video/rl-video-episode-60.mp4.\n",
      "Moviepy - Writing video /Users/archit3ct/Code/Assignments/AI_Mandatory_2/Timothy/video/rl-video-episode-60.mp4\n",
      "\n"
     ]
    },
    {
     "name": "stderr",
     "output_type": "stream",
     "text": [
      "                                                    \r"
     ]
    },
    {
     "name": "stdout",
     "output_type": "stream",
     "text": [
      "Moviepy - Done !\n",
      "Moviepy - video ready /Users/archit3ct/Code/Assignments/AI_Mandatory_2/Timothy/video/rl-video-episode-60.mp4\n",
      "Game Episode 60: 110.0\n",
      "Game Episode 61: 35.0\n",
      "Game Episode 62: 105.0\n",
      "Game Episode 63: 155.0\n",
      "Game Episode 64: 135.0\n",
      "Game Episode 65: 110.0\n",
      "Game Episode 66: 110.0\n",
      "Game Episode 67: 60.0\n",
      "Game Episode 68: 65.0\n",
      "Game Episode 69: 210.0\n",
      "Game Episode 70: 120.0\n",
      "Game Episode 71: 545.0\n",
      "Game Episode 72: 210.0\n",
      "Game Episode 73: 120.0\n",
      "Game Episode 74: 110.0\n",
      "Game Episode 75: 275.0\n",
      "Game Episode 76: 395.0\n",
      "Game Episode 77: 15.0\n",
      "Game Episode 78: 95.0\n",
      "Game Episode 79: 110.0\n",
      "Moviepy - Building video /Users/archit3ct/Code/Assignments/AI_Mandatory_2/Timothy/video/rl-video-episode-80.mp4.\n",
      "Moviepy - Writing video /Users/archit3ct/Code/Assignments/AI_Mandatory_2/Timothy/video/rl-video-episode-80.mp4\n",
      "\n"
     ]
    },
    {
     "name": "stderr",
     "output_type": "stream",
     "text": [
      "                                                                "
     ]
    },
    {
     "name": "stdout",
     "output_type": "stream",
     "text": [
      "Moviepy - Done !\n",
      "Moviepy - video ready /Users/archit3ct/Code/Assignments/AI_Mandatory_2/Timothy/video/rl-video-episode-80.mp4\n",
      "Game Episode 80: 120.0\n"
     ]
    },
    {
     "name": "stderr",
     "output_type": "stream",
     "text": [
      "\r"
     ]
    },
    {
     "name": "stdout",
     "output_type": "stream",
     "text": [
      "Game Episode 81: 105.0\n",
      "Game Episode 82: 15.0\n",
      "Game Episode 83: 30.0\n",
      "Game Episode 84: 50.0\n",
      "Game Episode 85: 180.0\n",
      "Game Episode 86: 65.0\n",
      "Game Episode 87: 110.0\n",
      "Game Episode 88: 85.0\n",
      "Game Episode 89: 215.0\n",
      "Game Episode 90: 110.0\n",
      "Game Episode 91: 255.0\n",
      "Game Episode 92: 125.0\n",
      "Game Episode 93: 165.0\n",
      "Game Episode 94: 65.0\n",
      "Game Episode 95: 145.0\n",
      "Game Episode 96: 65.0\n",
      "Game Episode 97: 140.0\n",
      "Game Episode 98: 135.0\n",
      "Game Episode 99: 495.0\n",
      "Moviepy - Building video /Users/archit3ct/Code/Assignments/AI_Mandatory_2/Timothy/video/rl-video-episode-100.mp4.\n",
      "Moviepy - Writing video /Users/archit3ct/Code/Assignments/AI_Mandatory_2/Timothy/video/rl-video-episode-100.mp4\n",
      "\n"
     ]
    },
    {
     "name": "stderr",
     "output_type": "stream",
     "text": [
      "                                                    "
     ]
    },
    {
     "name": "stdout",
     "output_type": "stream",
     "text": [
      "Moviepy - Done !\n",
      "Moviepy - video ready /Users/archit3ct/Code/Assignments/AI_Mandatory_2/Timothy/video/rl-video-episode-100.mp4\n",
      "Game Episode 100: 45.0\n"
     ]
    },
    {
     "name": "stderr",
     "output_type": "stream",
     "text": [
      "\r"
     ]
    },
    {
     "name": "stdout",
     "output_type": "stream",
     "text": [
      "Highest Score: 615.0\n"
     ]
    }
   ],
   "source": [
    "env = gymnasium.make(\"ALE/SpaceInvaders-v5\", render_mode='rgb_array')\n",
    "output_dir = \"video\"\n",
    "video_frequency = 20\n",
    "\n",
    "env = RecordVideo(env, output_dir, episode_trigger=lambda episode_id: (episode_id) % video_frequency == 0)\n",
    "env.metadata['render_fps'] = 24\n",
    "\n",
    "num_episodes = 100\n",
    "total_reward = 0\n",
    "highest_score = 0  # Initialize highest score variable\n",
    "\n",
    "for episode in range(1, num_episodes + 3):\n",
    "    if(total_reward > 0):\n",
    "        print(f'Game Episode {episode - 2}: Score: {total_reward}')\n",
    "    total_reward = 0\n",
    "    observation, info = env.reset()  # Getting start stats from the game\n",
    "    lives = info['lives']  # Initialize lives inside the loop\n",
    "    while lives != 0:\n",
    "        # For demonstration purposes, we use a random agent\n",
    "        action = env.action_space.sample()  # Just a random agent\n",
    "        obs, reward, terminated, truncated, info = env.step(action)\n",
    "        lives = info['lives']\n",
    "        total_reward = total_reward + reward\n",
    "\n",
    "    # Update highest score if current total reward is higher\n",
    "    if total_reward > highest_score:\n",
    "        highest_score = total_reward\n",
    "\n",
    "# Print the highest score achieved\n",
    "print(f\"Highest Score: {highest_score}\")\n",
    "\n",
    "# Close the environment to finalize the video recording\n",
    "env.close()\n"
   ]
  }
 ],
 "metadata": {
  "kernelspec": {
   "display_name": "Python 3 (ipykernel)",
   "language": "python",
   "name": "python3"
  },
  "language_info": {
   "codemirror_mode": {
    "name": "ipython",
    "version": 3
   },
   "file_extension": ".py",
   "mimetype": "text/x-python",
   "name": "python",
   "nbconvert_exporter": "python",
   "pygments_lexer": "ipython3",
   "version": "3.10.10"
  }
 },
 "nbformat": 4,
 "nbformat_minor": 4
}
