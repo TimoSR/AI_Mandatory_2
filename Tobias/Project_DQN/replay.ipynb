{
 "cells": [
  {
   "cell_type": "code",
   "execution_count": 6,
   "id": "50dafe15-a5a9-471f-a835-b8d143db26c7",
   "metadata": {
    "tags": []
   },
   "outputs": [],
   "source": [
    "import import_ipynb\n",
    "import random, datetime\n",
    "from pathlib import Path\n",
    "\n",
    "import gymnasium\n",
    "from gymnasium.wrappers import FrameStack, GrayScaleObservation, TransformObservation\n",
    "import gymnasium as gym"
   ]
  },
  {
   "cell_type": "code",
   "execution_count": 7,
   "id": "f78caf35-e01f-4138-a1c6-014b488524e5",
   "metadata": {},
   "outputs": [],
   "source": [
    "class SkipFrame(gym.Wrapper):\n",
    "    def __init__(self, env, skip):\n",
    "        \"\"\"Return only every `skip`-th frame\"\"\"\n",
    "        super().__init__(env)\n",
    "        self._skip = skip\n",
    "\n",
    "    def step(self, action):\n",
    "        \"\"\"Repeat action, and sum reward\"\"\"\n",
    "        total_reward = 0.0\n",
    "        done = False\n",
    "        for i in range(self._skip):\n",
    "            # Accumulate reward and repeat the same action\n",
    "            obs, reward, done, truncated, info = self.env.step(action)\n",
    "            total_reward += reward\n",
    "            if done:\n",
    "                break\n",
    "        return obs, total_reward, done, truncated, info"
   ]
  },
  {
   "cell_type": "code",
   "execution_count": 8,
   "id": "ee886d43-bdc5-448b-a4fa-9e96e07e61b2",
   "metadata": {
    "tags": []
   },
   "outputs": [
    {
     "ename": "ValueError",
     "evalue": "checkpoints/2023-05-11T19-11-46/SpaceInvader_net_13.chkpt does not exist",
     "output_type": "error",
     "traceback": [
      "\u001b[0;31m---------------------------------------------------------------------------\u001b[0m",
      "\u001b[0;31mValueError\u001b[0m                                Traceback (most recent call last)",
      "Cell \u001b[0;32mIn[8], line 28\u001b[0m\n\u001b[1;32m     25\u001b[0m save_dir\u001b[38;5;241m.\u001b[39mmkdir(parents\u001b[38;5;241m=\u001b[39m\u001b[38;5;28;01mTrue\u001b[39;00m)\n\u001b[1;32m     27\u001b[0m checkpoint \u001b[38;5;241m=\u001b[39m Path(\u001b[38;5;124m'\u001b[39m\u001b[38;5;124mcheckpoints/2023-05-11T19-11-46/SpaceInvader_net_13.chkpt\u001b[39m\u001b[38;5;124m'\u001b[39m)\n\u001b[0;32m---> 28\u001b[0m spaceInvader \u001b[38;5;241m=\u001b[39m \u001b[43mSpaceInvader\u001b[49m\u001b[43m(\u001b[49m\u001b[43mstate_dim\u001b[49m\u001b[38;5;241;43m=\u001b[39;49m\u001b[43m(\u001b[49m\u001b[38;5;241;43m4\u001b[39;49m\u001b[43m,\u001b[49m\u001b[43m \u001b[49m\u001b[38;5;241;43m84\u001b[39;49m\u001b[43m,\u001b[49m\u001b[43m \u001b[49m\u001b[38;5;241;43m84\u001b[39;49m\u001b[43m)\u001b[49m\u001b[43m,\u001b[49m\u001b[43m \u001b[49m\u001b[43maction_dim\u001b[49m\u001b[38;5;241;43m=\u001b[39;49m\u001b[43menv\u001b[49m\u001b[38;5;241;43m.\u001b[39;49m\u001b[43maction_space\u001b[49m\u001b[38;5;241;43m.\u001b[39;49m\u001b[43mn\u001b[49m\u001b[43m,\u001b[49m\u001b[43m \u001b[49m\u001b[43msave_dir\u001b[49m\u001b[38;5;241;43m=\u001b[39;49m\u001b[43msave_dir\u001b[49m\u001b[43m,\u001b[49m\u001b[43m \u001b[49m\u001b[43mcheckpoint\u001b[49m\u001b[38;5;241;43m=\u001b[39;49m\u001b[43mcheckpoint\u001b[49m\u001b[43m)\u001b[49m\n\u001b[1;32m     29\u001b[0m spaceInvader\u001b[38;5;241m.\u001b[39mexploration_rate \u001b[38;5;241m=\u001b[39m spaceInvader\u001b[38;5;241m.\u001b[39mexploration_rate_min\n\u001b[1;32m     31\u001b[0m logger \u001b[38;5;241m=\u001b[39m MetricLogger(save_dir)\n",
      "File \u001b[0;32m<string>:28\u001b[0m, in \u001b[0;36m__init__\u001b[0;34m(self, state_dim, action_dim, save_dir, checkpoint)\u001b[0m\n",
      "File \u001b[0;32m<string>:158\u001b[0m, in \u001b[0;36mload\u001b[0;34m(self, load_path)\u001b[0m\n",
      "\u001b[0;31mValueError\u001b[0m: checkpoints/2023-05-11T19-11-46/SpaceInvader_net_13.chkpt does not exist"
     ]
    }
   ],
   "source": [
    "import random, datetime\n",
    "from pathlib import Path\n",
    "\n",
    "import gymnasium\n",
    "from gymnasium.wrappers import FrameStack, GrayScaleObservation, TransformObservation\n",
    "\n",
    "\n",
    "from metrics import MetricLogger\n",
    "from agent import SpaceInvader\n",
    "from wrappers import ResizeObservation\n",
    "\n",
    "env = gymnasium.make(\"ALE/SpaceInvaders-v5\", mode=2,render_mode=\"human\")\n",
    "\n",
    "\n",
    "\n",
    "env = SkipFrame(env, skip=4)\n",
    "env = GrayScaleObservation(env, keep_dim=False)\n",
    "env = ResizeObservation(env, shape=84)\n",
    "env = TransformObservation(env, f=lambda x: x / 255.)\n",
    "env = FrameStack(env, num_stack=4)\n",
    "\n",
    "env.reset()\n",
    "\n",
    "save_dir = Path('checkpoints') / datetime.datetime.now().strftime('%Y-%m-%dT%H-%M-%S')\n",
    "save_dir.mkdir(parents=True)\n",
    "\n",
    "checkpoint = Path('checkpoints/2023-05-11T19-11-46/SpaceInvader_net_13.chkpt')\n",
    "spaceInvader = SpaceInvader(state_dim=(4, 84, 84), action_dim=env.action_space.n, save_dir=save_dir, checkpoint=checkpoint)\n",
    "spaceInvader.exploration_rate = spaceInvader.exploration_rate_min\n",
    "\n",
    "logger = MetricLogger(save_dir)\n",
    "episodes = 100\n",
    "for e in range(episodes):\n",
    "\n",
    "    state = env.reset()\n",
    "    state = state[0]\n",
    "    # Play the game!\n",
    "    while True:\n",
    "\n",
    "        # 3. Show environment (the visual) [WIP]\n",
    "        # env.render()\n",
    "\n",
    "        # 4. Run agent on the state\n",
    "        action = spaceInvader.act(state)\n",
    "        # 5. Agent performs action\n",
    "        result = env.step(action)\n",
    "        next_state = result[0]\n",
    "        reward = result[1]\n",
    "        done = result[2]\n",
    "        info = result[3]\n",
    "        \n",
    "        # 6. Remember\n",
    "        spaceInvader.cache(state, next_state, action, reward, done)\n",
    "\n",
    "        # 7. Learn\n",
    "        q, loss = spaceInvader.learn()\n",
    "\n",
    "        # 8. Logging\n",
    "        logger.log_step(reward, loss, q)\n",
    "\n",
    "        # 9. Update state\n",
    "        state = next_state\n",
    "        # 10. Check if end of game\n",
    "        if done or info:\n",
    "            break\n",
    "    \n",
    "\n",
    "    logger.log_episode()\n",
    "\n",
    "    if e % 20 == 0:\n",
    "        logger.record(\n",
    "            episode=e,\n",
    "            epsilon=spaceInvader.exploration_rate,\n",
    "            step=spaceInvader.curr_step\n",
    "        )"
   ]
  },
  {
   "cell_type": "code",
   "execution_count": null,
   "id": "3905a20a-6bc7-4608-bc0d-7e13f9eb630e",
   "metadata": {},
   "outputs": [],
   "source": []
  },
  {
   "cell_type": "code",
   "execution_count": null,
   "id": "5042aaa9-6cb6-4971-8123-52910b0c523a",
   "metadata": {},
   "outputs": [],
   "source": []
  }
 ],
 "metadata": {
  "kernelspec": {
   "display_name": "Python 3 (ipykernel)",
   "language": "python",
   "name": "python3"
  },
  "language_info": {
   "codemirror_mode": {
    "name": "ipython",
    "version": 3
   },
   "file_extension": ".py",
   "mimetype": "text/x-python",
   "name": "python",
   "nbconvert_exporter": "python",
   "pygments_lexer": "ipython3",
   "version": "3.11.3"
  }
 },
 "nbformat": 4,
 "nbformat_minor": 5
}
