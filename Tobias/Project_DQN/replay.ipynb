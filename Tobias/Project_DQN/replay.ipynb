{
 "cells": [
  {
   "cell_type": "code",
   "execution_count": 1,
   "id": "316a3779-e40a-49f6-8d63-4292230cb26d",
   "metadata": {
    "tags": []
   },
   "outputs": [],
   "source": [
    "from gymnasium.wrappers import RecordVideo"
   ]
  },
  {
   "cell_type": "code",
   "execution_count": 2,
   "id": "50dafe15-a5a9-471f-a835-b8d143db26c7",
   "metadata": {
    "tags": []
   },
   "outputs": [],
   "source": [
    "import import_ipynb\n",
    "import random, datetime\n",
    "from pathlib import Path\n",
    "\n",
    "import gymnasium\n",
    "from gymnasium.wrappers import FrameStack, GrayScaleObservation, TransformObservation\n",
    "import gymnasium as gym"
   ]
  },
  {
   "cell_type": "code",
   "execution_count": 3,
   "id": "701a1712-1b77-46be-9219-7e4b5c7f5d80",
   "metadata": {
    "tags": []
   },
   "outputs": [
    {
     "name": "stdout",
     "output_type": "stream",
     "text": [
      "importing Jupyter notebook from trained_agent.ipynb\n",
      "importing Jupyter notebook from neural.ipynb\n"
     ]
    }
   ],
   "source": [
    "from trained_agent import SpaceInvader"
   ]
  },
  {
   "cell_type": "code",
   "execution_count": 4,
   "id": "f78caf35-e01f-4138-a1c6-014b488524e5",
   "metadata": {},
   "outputs": [],
   "source": [
    "class SkipFrame(gym.Wrapper):\n",
    "    def __init__(self, env, skip):\n",
    "        \"\"\"Return only every `skip`-th frame\"\"\"\n",
    "        super().__init__(env)\n",
    "        self._skip = skip\n",
    "\n",
    "    def step(self, action):\n",
    "        \"\"\"Repeat action, and sum reward\"\"\"\n",
    "        total_reward = 0.0\n",
    "        done = False\n",
    "        for i in range(self._skip):\n",
    "            # Accumulate reward and repeat the same action\n",
    "            obs, reward, done, truncated, info = self.env.step(action)\n",
    "            total_reward += reward\n",
    "            if done:\n",
    "                break\n",
    "        return obs, total_reward, done, truncated, info"
   ]
  },
  {
   "cell_type": "code",
   "execution_count": 5,
   "id": "ee886d43-bdc5-448b-a4fa-9e96e07e61b2",
   "metadata": {
    "tags": []
   },
   "outputs": [
    {
     "name": "stdout",
     "output_type": "stream",
     "text": [
      "importing Jupyter notebook from metrics.ipynb\n",
      "importing Jupyter notebook from wrappers.ipynb\n"
     ]
    },
    {
     "name": "stderr",
     "output_type": "stream",
     "text": [
      "A.L.E: Arcade Learning Environment (version 0.8.1+53f58b7)\n",
      "[Powered by Stella]\n",
      "/Users/tobiaspoulsen/Library/Caches/pypoetry/virtualenvs/tobiaspoulsen--jf9GMjB-py3.11/lib/python3.11/site-packages/gymnasium/wrappers/record_video.py:79: UserWarning: \u001b[33mWARN: Overwriting existing videos at /Users/tobiaspoulsen/Desktop/spaceIvander2.0/Project_DQN/video folder (try specifying a different `video_folder` for the `RecordVideo` wrapper if this is not desired)\u001b[0m\n",
      "  logger.warn(\n",
      "<string>:48: UserWarning: Creating a tensor from a list of numpy.ndarrays is extremely slow. Please consider converting the list to a single numpy.ndarray with numpy.array() before converting to a tensor. (Triggered internally at /Users/runner/work/pytorch/pytorch/pytorch/torch/csrc/utils/tensor_new.cpp:248.)\n",
      "/Users/tobiaspoulsen/Library/Caches/pypoetry/virtualenvs/tobiaspoulsen--jf9GMjB-py3.11/lib/python3.11/site-packages/gymnasium/utils/passive_env_checker.py:249: DeprecationWarning: `np.bool8` is a deprecated alias for `np.bool_`.  (Deprecated NumPy 1.24)\n",
      "  if not isinstance(terminated, (bool, np.bool8)):\n"
     ]
    },
    {
     "name": "stdout",
     "output_type": "stream",
     "text": [
      "Loading model at checkpoints/2023-05-11T19-11-46/SpaceInvader_net_13.chkpt with exploration rate 0.19691163516176424\n",
      "Moviepy - Building video /Users/tobiaspoulsen/Desktop/spaceIvander2.0/Project_DQN/video/rl-video-episode-1.mp4.\n",
      "Moviepy - Writing video /Users/tobiaspoulsen/Desktop/spaceIvander2.0/Project_DQN/video/rl-video-episode-1.mp4\n",
      "\n"
     ]
    },
    {
     "name": "stderr",
     "output_type": "stream",
     "text": [
      "                                                                                                 "
     ]
    },
    {
     "name": "stdout",
     "output_type": "stream",
     "text": [
      "Moviepy - Done !\n",
      "Moviepy - video ready /Users/tobiaspoulsen/Desktop/spaceIvander2.0/Project_DQN/video/rl-video-episode-1.mp4\n",
      "Episode 0 - Step 265 - Epsilon 0.1 - Mean Reward 540.0 - Mean Length 265.0 - Mean Loss 0.0 - Mean Q Value 0.0 - Time Delta 2.277 - Time 2023-05-21T18:28:18\n"
     ]
    },
    {
     "name": "stderr",
     "output_type": "stream",
     "text": [
      "\r"
     ]
    },
    {
     "name": "stdout",
     "output_type": "stream",
     "text": [
      "Moviepy - Building video /Users/tobiaspoulsen/Desktop/spaceIvander2.0/Project_DQN/video/rl-video-episode-1.mp4.\n",
      "Moviepy - Writing video /Users/tobiaspoulsen/Desktop/spaceIvander2.0/Project_DQN/video/rl-video-episode-1.mp4\n",
      "\n"
     ]
    },
    {
     "name": "stderr",
     "output_type": "stream",
     "text": [
      "                                                                                                 "
     ]
    },
    {
     "name": "stdout",
     "output_type": "stream",
     "text": [
      "Moviepy - Done !\n",
      "Moviepy - video ready /Users/tobiaspoulsen/Desktop/spaceIvander2.0/Project_DQN/video/rl-video-episode-1.mp4\n"
     ]
    },
    {
     "name": "stderr",
     "output_type": "stream",
     "text": [
      "\r"
     ]
    },
    {
     "name": "stdout",
     "output_type": "stream",
     "text": [
      "Episode 1 - Step 508 - Epsilon 0.1 - Mean Reward 502.5 - Mean Length 254.0 - Mean Loss 0.0 - Mean Q Value 0.0 - Time Delta 2.37 - Time 2023-05-21T18:28:20\n",
      "Moviepy - Building video /Users/tobiaspoulsen/Desktop/spaceIvander2.0/Project_DQN/video/rl-video-episode-2.mp4.\n",
      "Moviepy - Writing video /Users/tobiaspoulsen/Desktop/spaceIvander2.0/Project_DQN/video/rl-video-episode-2.mp4\n",
      "\n"
     ]
    },
    {
     "name": "stderr",
     "output_type": "stream",
     "text": [
      "                                                                                                 "
     ]
    },
    {
     "name": "stdout",
     "output_type": "stream",
     "text": [
      "Moviepy - Done !\n",
      "Moviepy - video ready /Users/tobiaspoulsen/Desktop/spaceIvander2.0/Project_DQN/video/rl-video-episode-2.mp4\n",
      "Episode 2 - Step 764 - Epsilon 0.1 - Mean Reward 520.0 - Mean Length 254.667 - Mean Loss 0.0 - Mean Q Value 0.0 - Time Delta 2.365 - Time 2023-05-21T18:28:23\n"
     ]
    },
    {
     "name": "stderr",
     "output_type": "stream",
     "text": [
      "\r"
     ]
    },
    {
     "name": "stdout",
     "output_type": "stream",
     "text": [
      "Moviepy - Building video /Users/tobiaspoulsen/Desktop/spaceIvander2.0/Project_DQN/video/rl-video-episode-3.mp4.\n",
      "Moviepy - Writing video /Users/tobiaspoulsen/Desktop/spaceIvander2.0/Project_DQN/video/rl-video-episode-3.mp4\n",
      "\n"
     ]
    },
    {
     "name": "stderr",
     "output_type": "stream",
     "text": [
      "                                                                                                 \r"
     ]
    },
    {
     "name": "stdout",
     "output_type": "stream",
     "text": [
      "Moviepy - Done !\n",
      "Moviepy - video ready /Users/tobiaspoulsen/Desktop/spaceIvander2.0/Project_DQN/video/rl-video-episode-3.mp4\n",
      "Episode 3 - Step 1047 - Epsilon 0.1 - Mean Reward 532.5 - Mean Length 261.75 - Mean Loss 0.0 - Mean Q Value 0.0 - Time Delta 2.595 - Time 2023-05-21T18:28:25\n",
      "Moviepy - Building video /Users/tobiaspoulsen/Desktop/spaceIvander2.0/Project_DQN/video/rl-video-episode-4.mp4.\n",
      "Moviepy - Writing video /Users/tobiaspoulsen/Desktop/spaceIvander2.0/Project_DQN/video/rl-video-episode-4.mp4\n",
      "\n"
     ]
    },
    {
     "name": "stderr",
     "output_type": "stream",
     "text": [
      "                                                                                                 \r"
     ]
    },
    {
     "name": "stdout",
     "output_type": "stream",
     "text": [
      "Moviepy - Done !\n",
      "Moviepy - video ready /Users/tobiaspoulsen/Desktop/spaceIvander2.0/Project_DQN/video/rl-video-episode-4.mp4\n",
      "Episode 4 - Step 1377 - Epsilon 0.1 - Mean Reward 582.0 - Mean Length 275.4 - Mean Loss 0.0 - Mean Q Value 0.0 - Time Delta 3.107 - Time 2023-05-21T18:28:29\n",
      "Moviepy - Building video /Users/tobiaspoulsen/Desktop/spaceIvander2.0/Project_DQN/video/rl-video-episode-5.mp4.\n",
      "Moviepy - Writing video /Users/tobiaspoulsen/Desktop/spaceIvander2.0/Project_DQN/video/rl-video-episode-5.mp4\n",
      "\n"
     ]
    },
    {
     "name": "stderr",
     "output_type": "stream",
     "text": [
      "                                                                                                 "
     ]
    },
    {
     "name": "stdout",
     "output_type": "stream",
     "text": [
      "Moviepy - Done !\n",
      "Moviepy - video ready /Users/tobiaspoulsen/Desktop/spaceIvander2.0/Project_DQN/video/rl-video-episode-5.mp4\n",
      "Episode 5 - Step 1551 - Epsilon 0.1 - Mean Reward 535.833 - Mean Length 258.5 - Mean Loss 0.0 - Mean Q Value 0.0 - Time Delta 1.687 - Time 2023-05-21T18:28:30\n"
     ]
    },
    {
     "name": "stderr",
     "output_type": "stream",
     "text": [
      "\r"
     ]
    },
    {
     "name": "stdout",
     "output_type": "stream",
     "text": [
      "Moviepy - Building video /Users/tobiaspoulsen/Desktop/spaceIvander2.0/Project_DQN/video/rl-video-episode-6.mp4.\n",
      "Moviepy - Writing video /Users/tobiaspoulsen/Desktop/spaceIvander2.0/Project_DQN/video/rl-video-episode-6.mp4\n",
      "\n"
     ]
    },
    {
     "name": "stderr",
     "output_type": "stream",
     "text": [
      "                                                                                                 \r"
     ]
    },
    {
     "name": "stdout",
     "output_type": "stream",
     "text": [
      "Moviepy - Done !\n",
      "Moviepy - video ready /Users/tobiaspoulsen/Desktop/spaceIvander2.0/Project_DQN/video/rl-video-episode-6.mp4\n",
      "Episode 6 - Step 1819 - Epsilon 0.1 - Mean Reward 554.286 - Mean Length 259.857 - Mean Loss 0.0 - Mean Q Value 0.0 - Time Delta 2.521 - Time 2023-05-21T18:28:33\n",
      "Moviepy - Building video /Users/tobiaspoulsen/Desktop/spaceIvander2.0/Project_DQN/video/rl-video-episode-7.mp4.\n",
      "Moviepy - Writing video /Users/tobiaspoulsen/Desktop/spaceIvander2.0/Project_DQN/video/rl-video-episode-7.mp4\n",
      "\n"
     ]
    },
    {
     "name": "stderr",
     "output_type": "stream",
     "text": [
      "                                                                                                 "
     ]
    },
    {
     "name": "stdout",
     "output_type": "stream",
     "text": [
      "Moviepy - Done !\n",
      "Moviepy - video ready /Users/tobiaspoulsen/Desktop/spaceIvander2.0/Project_DQN/video/rl-video-episode-7.mp4\n",
      "Episode 7 - Step 2024 - Epsilon 0.1 - Mean Reward 543.125 - Mean Length 253.0 - Mean Loss 0.0 - Mean Q Value 0.0 - Time Delta 1.969 - Time 2023-05-21T18:28:35\n"
     ]
    },
    {
     "name": "stderr",
     "output_type": "stream",
     "text": [
      "\r"
     ]
    },
    {
     "name": "stdout",
     "output_type": "stream",
     "text": [
      "Moviepy - Building video /Users/tobiaspoulsen/Desktop/spaceIvander2.0/Project_DQN/video/rl-video-episode-8.mp4.\n",
      "Moviepy - Writing video /Users/tobiaspoulsen/Desktop/spaceIvander2.0/Project_DQN/video/rl-video-episode-8.mp4\n",
      "\n"
     ]
    },
    {
     "name": "stderr",
     "output_type": "stream",
     "text": [
      "                                                                                                 "
     ]
    },
    {
     "name": "stdout",
     "output_type": "stream",
     "text": [
      "Moviepy - Done !\n",
      "Moviepy - video ready /Users/tobiaspoulsen/Desktop/spaceIvander2.0/Project_DQN/video/rl-video-episode-8.mp4\n",
      "Episode 8 - Step 2227 - Epsilon 0.1 - Mean Reward 538.333 - Mean Length 247.444 - Mean Loss 0.0 - Mean Q Value 0.0 - Time Delta 1.944 - Time 2023-05-21T18:28:37\n"
     ]
    },
    {
     "name": "stderr",
     "output_type": "stream",
     "text": [
      "\r"
     ]
    },
    {
     "name": "stdout",
     "output_type": "stream",
     "text": [
      "Moviepy - Building video /Users/tobiaspoulsen/Desktop/spaceIvander2.0/Project_DQN/video/rl-video-episode-9.mp4.\n",
      "Moviepy - Writing video /Users/tobiaspoulsen/Desktop/spaceIvander2.0/Project_DQN/video/rl-video-episode-9.mp4\n",
      "\n"
     ]
    },
    {
     "name": "stderr",
     "output_type": "stream",
     "text": [
      "                                                                                                 "
     ]
    },
    {
     "name": "stdout",
     "output_type": "stream",
     "text": [
      "Moviepy - Done !\n",
      "Moviepy - video ready /Users/tobiaspoulsen/Desktop/spaceIvander2.0/Project_DQN/video/rl-video-episode-9.mp4\n",
      "Episode 9 - Step 2424 - Epsilon 0.1 - Mean Reward 525.5 - Mean Length 242.4 - Mean Loss 0.0 - Mean Q Value 0.0 - Time Delta 1.917 - Time 2023-05-21T18:28:39\n"
     ]
    },
    {
     "name": "stderr",
     "output_type": "stream",
     "text": [
      "\r"
     ]
    },
    {
     "name": "stdout",
     "output_type": "stream",
     "text": [
      "Moviepy - Building video /Users/tobiaspoulsen/Desktop/spaceIvander2.0/Project_DQN/video/rl-video-episode-10.mp4.\n",
      "Moviepy - Writing video /Users/tobiaspoulsen/Desktop/spaceIvander2.0/Project_DQN/video/rl-video-episode-10.mp4\n",
      "\n"
     ]
    },
    {
     "name": "stderr",
     "output_type": "stream",
     "text": [
      "                                                                                                 "
     ]
    },
    {
     "name": "stdout",
     "output_type": "stream",
     "text": [
      "Moviepy - Done !\n",
      "Moviepy - video ready /Users/tobiaspoulsen/Desktop/spaceIvander2.0/Project_DQN/video/rl-video-episode-10.mp4\n",
      "Episode 10 - Step 2614 - Epsilon 0.1 - Mean Reward 514.545 - Mean Length 237.636 - Mean Loss 0.0 - Mean Q Value 0.0 - Time Delta 1.801 - Time 2023-05-21T18:28:40\n"
     ]
    },
    {
     "name": "stderr",
     "output_type": "stream",
     "text": [
      "\r"
     ]
    },
    {
     "name": "stdout",
     "output_type": "stream",
     "text": [
      "Moviepy - Building video /Users/tobiaspoulsen/Desktop/spaceIvander2.0/Project_DQN/video/rl-video-episode-11.mp4.\n",
      "Moviepy - Writing video /Users/tobiaspoulsen/Desktop/spaceIvander2.0/Project_DQN/video/rl-video-episode-11.mp4\n",
      "\n"
     ]
    },
    {
     "name": "stderr",
     "output_type": "stream",
     "text": [
      "                                                                                                 "
     ]
    },
    {
     "name": "stdout",
     "output_type": "stream",
     "text": [
      "Moviepy - Done !\n",
      "Moviepy - video ready /Users/tobiaspoulsen/Desktop/spaceIvander2.0/Project_DQN/video/rl-video-episode-11.mp4\n",
      "Episode 11 - Step 2807 - Epsilon 0.1 - Mean Reward 496.667 - Mean Length 233.917 - Mean Loss 0.0 - Mean Q Value 0.0 - Time Delta 1.913 - Time 2023-05-21T18:28:42\n"
     ]
    },
    {
     "name": "stderr",
     "output_type": "stream",
     "text": [
      "\r"
     ]
    },
    {
     "name": "stdout",
     "output_type": "stream",
     "text": [
      "Moviepy - Building video /Users/tobiaspoulsen/Desktop/spaceIvander2.0/Project_DQN/video/rl-video-episode-12.mp4.\n",
      "Moviepy - Writing video /Users/tobiaspoulsen/Desktop/spaceIvander2.0/Project_DQN/video/rl-video-episode-12.mp4\n",
      "\n"
     ]
    },
    {
     "name": "stderr",
     "output_type": "stream",
     "text": [
      "                                                                                                 \r"
     ]
    },
    {
     "name": "stdout",
     "output_type": "stream",
     "text": [
      "Moviepy - Done !\n",
      "Moviepy - video ready /Users/tobiaspoulsen/Desktop/spaceIvander2.0/Project_DQN/video/rl-video-episode-12.mp4\n",
      "Episode 12 - Step 3027 - Epsilon 0.1 - Mean Reward 494.615 - Mean Length 232.846 - Mean Loss 0.0 - Mean Q Value 0.0 - Time Delta 2.213 - Time 2023-05-21T18:28:45\n",
      "Moviepy - Building video /Users/tobiaspoulsen/Desktop/spaceIvander2.0/Project_DQN/video/rl-video-episode-13.mp4.\n",
      "Moviepy - Writing video /Users/tobiaspoulsen/Desktop/spaceIvander2.0/Project_DQN/video/rl-video-episode-13.mp4\n",
      "\n"
     ]
    },
    {
     "name": "stderr",
     "output_type": "stream",
     "text": [
      "                                                                                                 "
     ]
    },
    {
     "name": "stdout",
     "output_type": "stream",
     "text": [
      "Moviepy - Done !\n",
      "Moviepy - video ready /Users/tobiaspoulsen/Desktop/spaceIvander2.0/Project_DQN/video/rl-video-episode-13.mp4\n",
      "Episode 13 - Step 3229 - Epsilon 0.1 - Mean Reward 489.286 - Mean Length 230.643 - Mean Loss 0.0 - Mean Q Value 0.0 - Time Delta 1.934 - Time 2023-05-21T18:28:46\n"
     ]
    },
    {
     "name": "stderr",
     "output_type": "stream",
     "text": [
      "\r"
     ]
    },
    {
     "name": "stdout",
     "output_type": "stream",
     "text": [
      "Moviepy - Building video /Users/tobiaspoulsen/Desktop/spaceIvander2.0/Project_DQN/video/rl-video-episode-14.mp4.\n",
      "Moviepy - Writing video /Users/tobiaspoulsen/Desktop/spaceIvander2.0/Project_DQN/video/rl-video-episode-14.mp4\n",
      "\n"
     ]
    },
    {
     "name": "stderr",
     "output_type": "stream",
     "text": [
      "                                                                                                 "
     ]
    },
    {
     "name": "stdout",
     "output_type": "stream",
     "text": [
      "Moviepy - Done !\n",
      "Moviepy - video ready /Users/tobiaspoulsen/Desktop/spaceIvander2.0/Project_DQN/video/rl-video-episode-14.mp4\n",
      "Episode 14 - Step 3456 - Epsilon 0.1 - Mean Reward 489.333 - Mean Length 230.4 - Mean Loss 0.0 - Mean Q Value 0.0 - Time Delta 2.123 - Time 2023-05-21T18:28:49\n"
     ]
    },
    {
     "name": "stderr",
     "output_type": "stream",
     "text": [
      "\r"
     ]
    },
    {
     "name": "stdout",
     "output_type": "stream",
     "text": [
      "Moviepy - Building video /Users/tobiaspoulsen/Desktop/spaceIvander2.0/Project_DQN/video/rl-video-episode-15.mp4.\n",
      "Moviepy - Writing video /Users/tobiaspoulsen/Desktop/spaceIvander2.0/Project_DQN/video/rl-video-episode-15.mp4\n",
      "\n"
     ]
    },
    {
     "name": "stderr",
     "output_type": "stream",
     "text": [
      "                                                                                                 \r"
     ]
    },
    {
     "name": "stdout",
     "output_type": "stream",
     "text": [
      "Moviepy - Done !\n",
      "Moviepy - video ready /Users/tobiaspoulsen/Desktop/spaceIvander2.0/Project_DQN/video/rl-video-episode-15.mp4\n",
      "Episode 15 - Step 3770 - Epsilon 0.1 - Mean Reward 494.375 - Mean Length 235.625 - Mean Loss 0.0 - Mean Q Value 0.0 - Time Delta 3.023 - Time 2023-05-21T18:28:52\n",
      "Moviepy - Building video /Users/tobiaspoulsen/Desktop/spaceIvander2.0/Project_DQN/video/rl-video-episode-16.mp4.\n",
      "Moviepy - Writing video /Users/tobiaspoulsen/Desktop/spaceIvander2.0/Project_DQN/video/rl-video-episode-16.mp4\n",
      "\n"
     ]
    },
    {
     "name": "stderr",
     "output_type": "stream",
     "text": [
      "                                                                                                 \r"
     ]
    },
    {
     "name": "stdout",
     "output_type": "stream",
     "text": [
      "Moviepy - Done !\n",
      "Moviepy - video ready /Users/tobiaspoulsen/Desktop/spaceIvander2.0/Project_DQN/video/rl-video-episode-16.mp4\n",
      "Episode 16 - Step 4072 - Epsilon 0.1 - Mean Reward 499.118 - Mean Length 239.529 - Mean Loss 0.0 - Mean Q Value 0.0 - Time Delta 2.808 - Time 2023-05-21T18:28:54\n",
      "Moviepy - Building video /Users/tobiaspoulsen/Desktop/spaceIvander2.0/Project_DQN/video/rl-video-episode-17.mp4.\n",
      "Moviepy - Writing video /Users/tobiaspoulsen/Desktop/spaceIvander2.0/Project_DQN/video/rl-video-episode-17.mp4\n",
      "\n"
     ]
    },
    {
     "name": "stderr",
     "output_type": "stream",
     "text": [
      "                                                                                                 "
     ]
    },
    {
     "name": "stdout",
     "output_type": "stream",
     "text": [
      "Moviepy - Done !\n",
      "Moviepy - video ready /Users/tobiaspoulsen/Desktop/spaceIvander2.0/Project_DQN/video/rl-video-episode-17.mp4\n",
      "Episode 17 - Step 4249 - Epsilon 0.1 - Mean Reward 491.667 - Mean Length 236.056 - Mean Loss 0.0 - Mean Q Value 0.0 - Time Delta 1.72 - Time 2023-05-21T18:28:56\n"
     ]
    },
    {
     "name": "stderr",
     "output_type": "stream",
     "text": [
      "\r"
     ]
    },
    {
     "name": "stdout",
     "output_type": "stream",
     "text": [
      "Moviepy - Building video /Users/tobiaspoulsen/Desktop/spaceIvander2.0/Project_DQN/video/rl-video-episode-18.mp4.\n",
      "Moviepy - Writing video /Users/tobiaspoulsen/Desktop/spaceIvander2.0/Project_DQN/video/rl-video-episode-18.mp4\n",
      "\n"
     ]
    },
    {
     "name": "stderr",
     "output_type": "stream",
     "text": [
      "                                                                                                 \r"
     ]
    },
    {
     "name": "stdout",
     "output_type": "stream",
     "text": [
      "Moviepy - Done !\n",
      "Moviepy - video ready /Users/tobiaspoulsen/Desktop/spaceIvander2.0/Project_DQN/video/rl-video-episode-18.mp4\n",
      "Episode 18 - Step 4543 - Epsilon 0.1 - Mean Reward 499.737 - Mean Length 239.105 - Mean Loss 0.0 - Mean Q Value 0.0 - Time Delta 2.697 - Time 2023-05-21T18:28:59\n",
      "Moviepy - Building video /Users/tobiaspoulsen/Desktop/spaceIvander2.0/Project_DQN/video/rl-video-episode-19.mp4.\n",
      "Moviepy - Writing video /Users/tobiaspoulsen/Desktop/spaceIvander2.0/Project_DQN/video/rl-video-episode-19.mp4\n",
      "\n"
     ]
    },
    {
     "name": "stderr",
     "output_type": "stream",
     "text": [
      "                                                                                                 \r"
     ]
    },
    {
     "name": "stdout",
     "output_type": "stream",
     "text": [
      "Moviepy - Done !\n",
      "Moviepy - video ready /Users/tobiaspoulsen/Desktop/spaceIvander2.0/Project_DQN/video/rl-video-episode-19.mp4\n",
      "Episode 19 - Step 4819 - Epsilon 0.1 - Mean Reward 498.75 - Mean Length 240.95 - Mean Loss 0.0 - Mean Q Value 0.0 - Time Delta 2.524 - Time 2023-05-21T18:29:01\n",
      "Moviepy - Building video /Users/tobiaspoulsen/Desktop/spaceIvander2.0/Project_DQN/video/rl-video-episode-20.mp4.\n",
      "Moviepy - Writing video /Users/tobiaspoulsen/Desktop/spaceIvander2.0/Project_DQN/video/rl-video-episode-20.mp4\n",
      "\n"
     ]
    },
    {
     "name": "stderr",
     "output_type": "stream",
     "text": [
      "                                                                                                 \r"
     ]
    },
    {
     "name": "stdout",
     "output_type": "stream",
     "text": [
      "Moviepy - Done !\n",
      "Moviepy - video ready /Users/tobiaspoulsen/Desktop/spaceIvander2.0/Project_DQN/video/rl-video-episode-20.mp4\n",
      "Episode 20 - Step 5157 - Epsilon 0.1 - Mean Reward 502.381 - Mean Length 245.571 - Mean Loss 0.0 - Mean Q Value 0.0 - Time Delta 3.079 - Time 2023-05-21T18:29:04\n",
      "Moviepy - Building video /Users/tobiaspoulsen/Desktop/spaceIvander2.0/Project_DQN/video/rl-video-episode-21.mp4.\n",
      "Moviepy - Writing video /Users/tobiaspoulsen/Desktop/spaceIvander2.0/Project_DQN/video/rl-video-episode-21.mp4\n",
      "\n"
     ]
    },
    {
     "name": "stderr",
     "output_type": "stream",
     "text": [
      "                                                                                                 "
     ]
    },
    {
     "name": "stdout",
     "output_type": "stream",
     "text": [
      "Moviepy - Done !\n",
      "Moviepy - video ready /Users/tobiaspoulsen/Desktop/spaceIvander2.0/Project_DQN/video/rl-video-episode-21.mp4\n",
      "Episode 21 - Step 5338 - Epsilon 0.1 - Mean Reward 494.545 - Mean Length 242.636 - Mean Loss 0.0 - Mean Q Value 0.0 - Time Delta 1.783 - Time 2023-05-21T18:29:06\n"
     ]
    },
    {
     "name": "stderr",
     "output_type": "stream",
     "text": [
      "\r"
     ]
    },
    {
     "name": "stdout",
     "output_type": "stream",
     "text": [
      "Moviepy - Building video /Users/tobiaspoulsen/Desktop/spaceIvander2.0/Project_DQN/video/rl-video-episode-22.mp4.\n",
      "Moviepy - Writing video /Users/tobiaspoulsen/Desktop/spaceIvander2.0/Project_DQN/video/rl-video-episode-22.mp4\n",
      "\n"
     ]
    },
    {
     "name": "stderr",
     "output_type": "stream",
     "text": [
      "                                                                                                 "
     ]
    },
    {
     "name": "stdout",
     "output_type": "stream",
     "text": [
      "Moviepy - Done !\n",
      "Moviepy - video ready /Users/tobiaspoulsen/Desktop/spaceIvander2.0/Project_DQN/video/rl-video-episode-22.mp4\n",
      "Episode 22 - Step 5482 - Epsilon 0.1 - Mean Reward 483.696 - Mean Length 238.348 - Mean Loss 0.0 - Mean Q Value 0.0 - Time Delta 1.426 - Time 2023-05-21T18:29:08\n"
     ]
    },
    {
     "name": "stderr",
     "output_type": "stream",
     "text": [
      "\r"
     ]
    },
    {
     "name": "stdout",
     "output_type": "stream",
     "text": [
      "Moviepy - Building video /Users/tobiaspoulsen/Desktop/spaceIvander2.0/Project_DQN/video/rl-video-episode-23.mp4.\n",
      "Moviepy - Writing video /Users/tobiaspoulsen/Desktop/spaceIvander2.0/Project_DQN/video/rl-video-episode-23.mp4\n",
      "\n"
     ]
    },
    {
     "name": "stderr",
     "output_type": "stream",
     "text": [
      "                                                                                                 "
     ]
    },
    {
     "name": "stdout",
     "output_type": "stream",
     "text": [
      "Moviepy - Done !\n",
      "Moviepy - video ready /Users/tobiaspoulsen/Desktop/spaceIvander2.0/Project_DQN/video/rl-video-episode-23.mp4\n",
      "Episode 23 - Step 5689 - Epsilon 0.1 - Mean Reward 478.542 - Mean Length 237.042 - Mean Loss 0.0 - Mean Q Value 0.0 - Time Delta 1.948 - Time 2023-05-21T18:29:10\n"
     ]
    },
    {
     "name": "stderr",
     "output_type": "stream",
     "text": [
      "\r"
     ]
    },
    {
     "name": "stdout",
     "output_type": "stream",
     "text": [
      "Moviepy - Building video /Users/tobiaspoulsen/Desktop/spaceIvander2.0/Project_DQN/video/rl-video-episode-24.mp4.\n",
      "Moviepy - Writing video /Users/tobiaspoulsen/Desktop/spaceIvander2.0/Project_DQN/video/rl-video-episode-24.mp4\n",
      "\n"
     ]
    },
    {
     "name": "stderr",
     "output_type": "stream",
     "text": [
      "                                                                                                 \r"
     ]
    },
    {
     "name": "stdout",
     "output_type": "stream",
     "text": [
      "Moviepy - Done !\n",
      "Moviepy - video ready /Users/tobiaspoulsen/Desktop/spaceIvander2.0/Project_DQN/video/rl-video-episode-24.mp4\n",
      "Episode 24 - Step 5989 - Epsilon 0.1 - Mean Reward 484.6 - Mean Length 239.56 - Mean Loss 0.0 - Mean Q Value 0.0 - Time Delta 2.757 - Time 2023-05-21T18:29:12\n",
      "Moviepy - Building video /Users/tobiaspoulsen/Desktop/spaceIvander2.0/Project_DQN/video/rl-video-episode-25.mp4.\n",
      "Moviepy - Writing video /Users/tobiaspoulsen/Desktop/spaceIvander2.0/Project_DQN/video/rl-video-episode-25.mp4\n",
      "\n"
     ]
    },
    {
     "name": "stderr",
     "output_type": "stream",
     "text": [
      "                                                                                                 \r"
     ]
    },
    {
     "name": "stdout",
     "output_type": "stream",
     "text": [
      "Moviepy - Done !\n",
      "Moviepy - video ready /Users/tobiaspoulsen/Desktop/spaceIvander2.0/Project_DQN/video/rl-video-episode-25.mp4\n",
      "Episode 25 - Step 6274 - Epsilon 0.1 - Mean Reward 484.615 - Mean Length 241.308 - Mean Loss 0.0 - Mean Q Value 0.0 - Time Delta 2.701 - Time 2023-05-21T18:29:15\n",
      "Moviepy - Building video /Users/tobiaspoulsen/Desktop/spaceIvander2.0/Project_DQN/video/rl-video-episode-26.mp4.\n",
      "Moviepy - Writing video /Users/tobiaspoulsen/Desktop/spaceIvander2.0/Project_DQN/video/rl-video-episode-26.mp4\n",
      "\n"
     ]
    },
    {
     "name": "stderr",
     "output_type": "stream",
     "text": [
      "                                                                                                 "
     ]
    },
    {
     "name": "stdout",
     "output_type": "stream",
     "text": [
      "Moviepy - Done !\n",
      "Moviepy - video ready /Users/tobiaspoulsen/Desktop/spaceIvander2.0/Project_DQN/video/rl-video-episode-26.mp4\n",
      "Episode 26 - Step 6503 - Epsilon 0.1 - Mean Reward 484.259 - Mean Length 240.852 - Mean Loss 0.0 - Mean Q Value 0.0 - Time Delta 2.273 - Time 2023-05-21T18:29:17\n"
     ]
    },
    {
     "name": "stderr",
     "output_type": "stream",
     "text": [
      "\r"
     ]
    },
    {
     "name": "stdout",
     "output_type": "stream",
     "text": [
      "Moviepy - Building video /Users/tobiaspoulsen/Desktop/spaceIvander2.0/Project_DQN/video/rl-video-episode-27.mp4.\n",
      "Moviepy - Writing video /Users/tobiaspoulsen/Desktop/spaceIvander2.0/Project_DQN/video/rl-video-episode-27.mp4\n",
      "\n"
     ]
    },
    {
     "name": "stderr",
     "output_type": "stream",
     "text": [
      "                                                                                                 \r"
     ]
    },
    {
     "name": "stdout",
     "output_type": "stream",
     "text": [
      "Moviepy - Done !\n",
      "Moviepy - video ready /Users/tobiaspoulsen/Desktop/spaceIvander2.0/Project_DQN/video/rl-video-episode-27.mp4\n",
      "Episode 27 - Step 6809 - Epsilon 0.1 - Mean Reward 499.643 - Mean Length 243.179 - Mean Loss 0.0 - Mean Q Value 0.0 - Time Delta 2.824 - Time 2023-05-21T18:29:20\n",
      "Moviepy - Building video /Users/tobiaspoulsen/Desktop/spaceIvander2.0/Project_DQN/video/rl-video-episode-28.mp4.\n",
      "Moviepy - Writing video /Users/tobiaspoulsen/Desktop/spaceIvander2.0/Project_DQN/video/rl-video-episode-28.mp4\n",
      "\n"
     ]
    },
    {
     "name": "stderr",
     "output_type": "stream",
     "text": [
      "                                                                                                 \r"
     ]
    },
    {
     "name": "stdout",
     "output_type": "stream",
     "text": [
      "Moviepy - Done !\n",
      "Moviepy - video ready /Users/tobiaspoulsen/Desktop/spaceIvander2.0/Project_DQN/video/rl-video-episode-28.mp4\n",
      "Episode 28 - Step 7073 - Epsilon 0.1 - Mean Reward 503.276 - Mean Length 243.897 - Mean Loss 0.0 - Mean Q Value 0.0 - Time Delta 2.436 - Time 2023-05-21T18:29:23\n",
      "Moviepy - Building video /Users/tobiaspoulsen/Desktop/spaceIvander2.0/Project_DQN/video/rl-video-episode-29.mp4.\n",
      "Moviepy - Writing video /Users/tobiaspoulsen/Desktop/spaceIvander2.0/Project_DQN/video/rl-video-episode-29.mp4\n",
      "\n"
     ]
    },
    {
     "name": "stderr",
     "output_type": "stream",
     "text": [
      "                                                                                                 "
     ]
    },
    {
     "name": "stdout",
     "output_type": "stream",
     "text": [
      "Moviepy - Done !\n",
      "Moviepy - video ready /Users/tobiaspoulsen/Desktop/spaceIvander2.0/Project_DQN/video/rl-video-episode-29.mp4\n",
      "Episode 29 - Step 7305 - Epsilon 0.1 - Mean Reward 505.667 - Mean Length 243.5 - Mean Loss 0.0 - Mean Q Value 0.0 - Time Delta 2.157 - Time 2023-05-21T18:29:25\n"
     ]
    },
    {
     "name": "stderr",
     "output_type": "stream",
     "text": [
      "\r"
     ]
    },
    {
     "name": "stdout",
     "output_type": "stream",
     "text": [
      "Moviepy - Building video /Users/tobiaspoulsen/Desktop/spaceIvander2.0/Project_DQN/video/rl-video-episode-30.mp4.\n",
      "Moviepy - Writing video /Users/tobiaspoulsen/Desktop/spaceIvander2.0/Project_DQN/video/rl-video-episode-30.mp4\n",
      "\n"
     ]
    },
    {
     "name": "stderr",
     "output_type": "stream",
     "text": [
      "                                                                                                 "
     ]
    },
    {
     "name": "stdout",
     "output_type": "stream",
     "text": [
      "Moviepy - Done !\n",
      "Moviepy - video ready /Users/tobiaspoulsen/Desktop/spaceIvander2.0/Project_DQN/video/rl-video-episode-30.mp4\n",
      "Episode 30 - Step 7513 - Epsilon 0.1 - Mean Reward 511.935 - Mean Length 242.355 - Mean Loss 0.0 - Mean Q Value 0.0 - Time Delta 1.961 - Time 2023-05-21T18:29:27\n"
     ]
    },
    {
     "name": "stderr",
     "output_type": "stream",
     "text": [
      "\r"
     ]
    },
    {
     "name": "stdout",
     "output_type": "stream",
     "text": [
      "Moviepy - Building video /Users/tobiaspoulsen/Desktop/spaceIvander2.0/Project_DQN/video/rl-video-episode-31.mp4.\n",
      "Moviepy - Writing video /Users/tobiaspoulsen/Desktop/spaceIvander2.0/Project_DQN/video/rl-video-episode-31.mp4\n",
      "\n"
     ]
    },
    {
     "name": "stderr",
     "output_type": "stream",
     "text": [
      "                                                                                                 "
     ]
    },
    {
     "name": "stdout",
     "output_type": "stream",
     "text": [
      "Moviepy - Done !\n",
      "Moviepy - video ready /Users/tobiaspoulsen/Desktop/spaceIvander2.0/Project_DQN/video/rl-video-episode-31.mp4\n",
      "Episode 31 - Step 7713 - Epsilon 0.1 - Mean Reward 508.438 - Mean Length 241.031 - Mean Loss 0.0 - Mean Q Value 0.0 - Time Delta 1.906 - Time 2023-05-21T18:29:29\n"
     ]
    },
    {
     "name": "stderr",
     "output_type": "stream",
     "text": [
      "\r"
     ]
    },
    {
     "name": "stdout",
     "output_type": "stream",
     "text": [
      "Moviepy - Building video /Users/tobiaspoulsen/Desktop/spaceIvander2.0/Project_DQN/video/rl-video-episode-32.mp4.\n",
      "Moviepy - Writing video /Users/tobiaspoulsen/Desktop/spaceIvander2.0/Project_DQN/video/rl-video-episode-32.mp4\n",
      "\n"
     ]
    },
    {
     "name": "stderr",
     "output_type": "stream",
     "text": [
      "                                                                                                 "
     ]
    },
    {
     "name": "stdout",
     "output_type": "stream",
     "text": [
      "Moviepy - Done !\n",
      "Moviepy - video ready /Users/tobiaspoulsen/Desktop/spaceIvander2.0/Project_DQN/video/rl-video-episode-32.mp4\n",
      "Episode 32 - Step 7915 - Epsilon 0.1 - Mean Reward 506.061 - Mean Length 239.848 - Mean Loss 0.0 - Mean Q Value 0.0 - Time Delta 1.921 - Time 2023-05-21T18:29:31\n"
     ]
    },
    {
     "name": "stderr",
     "output_type": "stream",
     "text": [
      "\r"
     ]
    },
    {
     "name": "stdout",
     "output_type": "stream",
     "text": [
      "Moviepy - Building video /Users/tobiaspoulsen/Desktop/spaceIvander2.0/Project_DQN/video/rl-video-episode-33.mp4.\n",
      "Moviepy - Writing video /Users/tobiaspoulsen/Desktop/spaceIvander2.0/Project_DQN/video/rl-video-episode-33.mp4\n",
      "\n"
     ]
    },
    {
     "name": "stderr",
     "output_type": "stream",
     "text": [
      "                                                                                                 \r"
     ]
    },
    {
     "name": "stdout",
     "output_type": "stream",
     "text": [
      "Moviepy - Done !\n",
      "Moviepy - video ready /Users/tobiaspoulsen/Desktop/spaceIvander2.0/Project_DQN/video/rl-video-episode-33.mp4\n",
      "Episode 33 - Step 8165 - Epsilon 0.1 - Mean Reward 509.559 - Mean Length 240.147 - Mean Loss 0.0 - Mean Q Value 0.0 - Time Delta 2.444 - Time 2023-05-21T18:29:33\n",
      "Moviepy - Building video /Users/tobiaspoulsen/Desktop/spaceIvander2.0/Project_DQN/video/rl-video-episode-34.mp4.\n",
      "Moviepy - Writing video /Users/tobiaspoulsen/Desktop/spaceIvander2.0/Project_DQN/video/rl-video-episode-34.mp4\n",
      "\n"
     ]
    },
    {
     "name": "stderr",
     "output_type": "stream",
     "text": [
      "                                                                                                 \r"
     ]
    },
    {
     "name": "stdout",
     "output_type": "stream",
     "text": [
      "Moviepy - Done !\n",
      "Moviepy - video ready /Users/tobiaspoulsen/Desktop/spaceIvander2.0/Project_DQN/video/rl-video-episode-34.mp4\n",
      "Episode 34 - Step 8464 - Epsilon 0.1 - Mean Reward 511.571 - Mean Length 241.829 - Mean Loss 0.0 - Mean Q Value 0.0 - Time Delta 2.741 - Time 2023-05-21T18:29:36\n",
      "Moviepy - Building video /Users/tobiaspoulsen/Desktop/spaceIvander2.0/Project_DQN/video/rl-video-episode-35.mp4.\n",
      "Moviepy - Writing video /Users/tobiaspoulsen/Desktop/spaceIvander2.0/Project_DQN/video/rl-video-episode-35.mp4\n",
      "\n"
     ]
    },
    {
     "name": "stderr",
     "output_type": "stream",
     "text": [
      "                                                                                                 \r"
     ]
    },
    {
     "name": "stdout",
     "output_type": "stream",
     "text": [
      "Moviepy - Done !\n",
      "Moviepy - video ready /Users/tobiaspoulsen/Desktop/spaceIvander2.0/Project_DQN/video/rl-video-episode-35.mp4\n",
      "Episode 35 - Step 8815 - Epsilon 0.1 - Mean Reward 511.25 - Mean Length 244.861 - Mean Loss 0.0 - Mean Q Value 0.0 - Time Delta 3.192 - Time 2023-05-21T18:29:39\n",
      "Moviepy - Building video /Users/tobiaspoulsen/Desktop/spaceIvander2.0/Project_DQN/video/rl-video-episode-36.mp4.\n",
      "Moviepy - Writing video /Users/tobiaspoulsen/Desktop/spaceIvander2.0/Project_DQN/video/rl-video-episode-36.mp4\n",
      "\n"
     ]
    },
    {
     "name": "stderr",
     "output_type": "stream",
     "text": [
      "                                                                                                 \r"
     ]
    },
    {
     "name": "stdout",
     "output_type": "stream",
     "text": [
      "Moviepy - Done !\n",
      "Moviepy - video ready /Users/tobiaspoulsen/Desktop/spaceIvander2.0/Project_DQN/video/rl-video-episode-36.mp4\n",
      "Episode 36 - Step 9137 - Epsilon 0.1 - Mean Reward 511.757 - Mean Length 246.946 - Mean Loss 0.0 - Mean Q Value 0.0 - Time Delta 3.076 - Time 2023-05-21T18:29:42\n",
      "Moviepy - Building video /Users/tobiaspoulsen/Desktop/spaceIvander2.0/Project_DQN/video/rl-video-episode-37.mp4.\n",
      "Moviepy - Writing video /Users/tobiaspoulsen/Desktop/spaceIvander2.0/Project_DQN/video/rl-video-episode-37.mp4\n",
      "\n"
     ]
    },
    {
     "name": "stderr",
     "output_type": "stream",
     "text": [
      "                                                                                                 \r"
     ]
    },
    {
     "name": "stdout",
     "output_type": "stream",
     "text": [
      "Moviepy - Done !\n",
      "Moviepy - video ready /Users/tobiaspoulsen/Desktop/spaceIvander2.0/Project_DQN/video/rl-video-episode-37.mp4\n",
      "Episode 37 - Step 9461 - Epsilon 0.1 - Mean Reward 522.237 - Mean Length 248.974 - Mean Loss 0.0 - Mean Q Value 0.0 - Time Delta 3.026 - Time 2023-05-21T18:29:45\n",
      "Moviepy - Building video /Users/tobiaspoulsen/Desktop/spaceIvander2.0/Project_DQN/video/rl-video-episode-38.mp4.\n",
      "Moviepy - Writing video /Users/tobiaspoulsen/Desktop/spaceIvander2.0/Project_DQN/video/rl-video-episode-38.mp4\n",
      "\n"
     ]
    },
    {
     "name": "stderr",
     "output_type": "stream",
     "text": [
      "                                                                                                 "
     ]
    },
    {
     "name": "stdout",
     "output_type": "stream",
     "text": [
      "Moviepy - Done !\n",
      "Moviepy - video ready /Users/tobiaspoulsen/Desktop/spaceIvander2.0/Project_DQN/video/rl-video-episode-38.mp4\n",
      "Episode 38 - Step 9660 - Epsilon 0.1 - Mean Reward 519.359 - Mean Length 247.692 - Mean Loss 0.0 - Mean Q Value 0.0 - Time Delta 1.927 - Time 2023-05-21T18:29:47\n"
     ]
    },
    {
     "name": "stderr",
     "output_type": "stream",
     "text": [
      "\r"
     ]
    },
    {
     "name": "stdout",
     "output_type": "stream",
     "text": [
      "Moviepy - Building video /Users/tobiaspoulsen/Desktop/spaceIvander2.0/Project_DQN/video/rl-video-episode-39.mp4.\n",
      "Moviepy - Writing video /Users/tobiaspoulsen/Desktop/spaceIvander2.0/Project_DQN/video/rl-video-episode-39.mp4\n",
      "\n"
     ]
    },
    {
     "name": "stderr",
     "output_type": "stream",
     "text": [
      "                                                                                                 "
     ]
    },
    {
     "name": "stdout",
     "output_type": "stream",
     "text": [
      "Moviepy - Done !\n",
      "Moviepy - video ready /Users/tobiaspoulsen/Desktop/spaceIvander2.0/Project_DQN/video/rl-video-episode-39.mp4\n",
      "Episode 39 - Step 9828 - Epsilon 0.1 - Mean Reward 514.375 - Mean Length 245.7 - Mean Loss 0.0 - Mean Q Value 0.0 - Time Delta 1.637 - Time 2023-05-21T18:29:49\n"
     ]
    },
    {
     "name": "stderr",
     "output_type": "stream",
     "text": [
      "\r"
     ]
    },
    {
     "name": "stdout",
     "output_type": "stream",
     "text": [
      "Moviepy - Building video /Users/tobiaspoulsen/Desktop/spaceIvander2.0/Project_DQN/video/rl-video-episode-40.mp4.\n",
      "Moviepy - Writing video /Users/tobiaspoulsen/Desktop/spaceIvander2.0/Project_DQN/video/rl-video-episode-40.mp4\n",
      "\n"
     ]
    },
    {
     "name": "stderr",
     "output_type": "stream",
     "text": [
      "                                                                                                 \r"
     ]
    },
    {
     "name": "stdout",
     "output_type": "stream",
     "text": [
      "Moviepy - Done !\n",
      "Moviepy - video ready /Users/tobiaspoulsen/Desktop/spaceIvander2.0/Project_DQN/video/rl-video-episode-40.mp4\n",
      "Episode 40 - Step 10074 - Epsilon 0.1 - Mean Reward 520.61 - Mean Length 245.707 - Mean Loss 0.0 - Mean Q Value 0.0 - Time Delta 2.311 - Time 2023-05-21T18:29:51\n",
      "Moviepy - Building video /Users/tobiaspoulsen/Desktop/spaceIvander2.0/Project_DQN/video/rl-video-episode-41.mp4.\n",
      "Moviepy - Writing video /Users/tobiaspoulsen/Desktop/spaceIvander2.0/Project_DQN/video/rl-video-episode-41.mp4\n",
      "\n"
     ]
    },
    {
     "name": "stderr",
     "output_type": "stream",
     "text": [
      "                                                                                                 \r"
     ]
    },
    {
     "name": "stdout",
     "output_type": "stream",
     "text": [
      "Moviepy - Done !\n",
      "Moviepy - video ready /Users/tobiaspoulsen/Desktop/spaceIvander2.0/Project_DQN/video/rl-video-episode-41.mp4\n",
      "Episode 41 - Step 10343 - Epsilon 0.1 - Mean Reward 521.19 - Mean Length 246.262 - Mean Loss 0.0 - Mean Q Value 0.0 - Time Delta 2.496 - Time 2023-05-21T18:29:53\n",
      "Moviepy - Building video /Users/tobiaspoulsen/Desktop/spaceIvander2.0/Project_DQN/video/rl-video-episode-42.mp4.\n",
      "Moviepy - Writing video /Users/tobiaspoulsen/Desktop/spaceIvander2.0/Project_DQN/video/rl-video-episode-42.mp4\n",
      "\n"
     ]
    },
    {
     "name": "stderr",
     "output_type": "stream",
     "text": [
      "                                                                                                 "
     ]
    },
    {
     "name": "stdout",
     "output_type": "stream",
     "text": [
      "Moviepy - Done !\n",
      "Moviepy - video ready /Users/tobiaspoulsen/Desktop/spaceIvander2.0/Project_DQN/video/rl-video-episode-42.mp4\n",
      "Episode 42 - Step 10560 - Epsilon 0.1 - Mean Reward 518.837 - Mean Length 245.581 - Mean Loss 0.0 - Mean Q Value 0.0 - Time Delta 2.052 - Time 2023-05-21T18:29:55\n"
     ]
    },
    {
     "name": "stderr",
     "output_type": "stream",
     "text": [
      "\r"
     ]
    },
    {
     "name": "stdout",
     "output_type": "stream",
     "text": [
      "Moviepy - Building video /Users/tobiaspoulsen/Desktop/spaceIvander2.0/Project_DQN/video/rl-video-episode-43.mp4.\n",
      "Moviepy - Writing video /Users/tobiaspoulsen/Desktop/spaceIvander2.0/Project_DQN/video/rl-video-episode-43.mp4\n",
      "\n"
     ]
    },
    {
     "name": "stderr",
     "output_type": "stream",
     "text": [
      "                                                                                                 \r"
     ]
    },
    {
     "name": "stdout",
     "output_type": "stream",
     "text": [
      "Moviepy - Done !\n",
      "Moviepy - video ready /Users/tobiaspoulsen/Desktop/spaceIvander2.0/Project_DQN/video/rl-video-episode-43.mp4\n",
      "Episode 43 - Step 10739 - Epsilon 0.1 - Mean Reward 514.091 - Mean Length 244.068 - Mean Loss 0.0 - Mean Q Value 0.0 - Time Delta 1.789 - Time 2023-05-21T18:29:57\n",
      "Moviepy - Building video /Users/tobiaspoulsen/Desktop/spaceIvander2.0/Project_DQN/video/rl-video-episode-44.mp4.\n",
      "Moviepy - Writing video /Users/tobiaspoulsen/Desktop/spaceIvander2.0/Project_DQN/video/rl-video-episode-44.mp4\n",
      "\n"
     ]
    },
    {
     "name": "stderr",
     "output_type": "stream",
     "text": [
      "                                                                                                 "
     ]
    },
    {
     "name": "stdout",
     "output_type": "stream",
     "text": [
      "Moviepy - Done !\n",
      "Moviepy - video ready /Users/tobiaspoulsen/Desktop/spaceIvander2.0/Project_DQN/video/rl-video-episode-44.mp4\n",
      "Episode 44 - Step 10970 - Epsilon 0.1 - Mean Reward 513.111 - Mean Length 243.778 - Mean Loss 0.0 - Mean Q Value 0.0 - Time Delta 2.168 - Time 2023-05-21T18:29:59\n"
     ]
    },
    {
     "name": "stderr",
     "output_type": "stream",
     "text": [
      "\r"
     ]
    },
    {
     "name": "stdout",
     "output_type": "stream",
     "text": [
      "Moviepy - Building video /Users/tobiaspoulsen/Desktop/spaceIvander2.0/Project_DQN/video/rl-video-episode-45.mp4.\n",
      "Moviepy - Writing video /Users/tobiaspoulsen/Desktop/spaceIvander2.0/Project_DQN/video/rl-video-episode-45.mp4\n",
      "\n"
     ]
    },
    {
     "name": "stderr",
     "output_type": "stream",
     "text": [
      "                                                                                                 "
     ]
    },
    {
     "name": "stdout",
     "output_type": "stream",
     "text": [
      "Moviepy - Done !\n",
      "Moviepy - video ready /Users/tobiaspoulsen/Desktop/spaceIvander2.0/Project_DQN/video/rl-video-episode-45.mp4\n",
      "Episode 45 - Step 11195 - Epsilon 0.1 - Mean Reward 511.196 - Mean Length 243.37 - Mean Loss 0.0 - Mean Q Value 0.0 - Time Delta 2.11 - Time 2023-05-21T18:30:01\n"
     ]
    },
    {
     "name": "stderr",
     "output_type": "stream",
     "text": [
      "\r"
     ]
    },
    {
     "name": "stdout",
     "output_type": "stream",
     "text": [
      "Moviepy - Building video /Users/tobiaspoulsen/Desktop/spaceIvander2.0/Project_DQN/video/rl-video-episode-46.mp4.\n",
      "Moviepy - Writing video /Users/tobiaspoulsen/Desktop/spaceIvander2.0/Project_DQN/video/rl-video-episode-46.mp4\n",
      "\n"
     ]
    },
    {
     "name": "stderr",
     "output_type": "stream",
     "text": [
      "                                                                                                 "
     ]
    },
    {
     "name": "stdout",
     "output_type": "stream",
     "text": [
      "Moviepy - Done !\n",
      "Moviepy - video ready /Users/tobiaspoulsen/Desktop/spaceIvander2.0/Project_DQN/video/rl-video-episode-46.mp4\n",
      "Episode 46 - Step 11363 - Epsilon 0.1 - Mean Reward 506.489 - Mean Length 241.766 - Mean Loss 0.0 - Mean Q Value 0.0 - Time Delta 1.621 - Time 2023-05-21T18:30:03\n"
     ]
    },
    {
     "name": "stderr",
     "output_type": "stream",
     "text": [
      "\r"
     ]
    },
    {
     "name": "stdout",
     "output_type": "stream",
     "text": [
      "Moviepy - Building video /Users/tobiaspoulsen/Desktop/spaceIvander2.0/Project_DQN/video/rl-video-episode-47.mp4.\n",
      "Moviepy - Writing video /Users/tobiaspoulsen/Desktop/spaceIvander2.0/Project_DQN/video/rl-video-episode-47.mp4\n",
      "\n"
     ]
    },
    {
     "name": "stderr",
     "output_type": "stream",
     "text": [
      "                                                                                                 \r"
     ]
    },
    {
     "name": "stdout",
     "output_type": "stream",
     "text": [
      "Moviepy - Done !\n",
      "Moviepy - video ready /Users/tobiaspoulsen/Desktop/spaceIvander2.0/Project_DQN/video/rl-video-episode-47.mp4\n",
      "Episode 47 - Step 11625 - Epsilon 0.1 - Mean Reward 509.479 - Mean Length 242.188 - Mean Loss 0.0 - Mean Q Value 0.0 - Time Delta 2.405 - Time 2023-05-21T18:30:06\n",
      "Moviepy - Building video /Users/tobiaspoulsen/Desktop/spaceIvander2.0/Project_DQN/video/rl-video-episode-48.mp4.\n",
      "Moviepy - Writing video /Users/tobiaspoulsen/Desktop/spaceIvander2.0/Project_DQN/video/rl-video-episode-48.mp4\n",
      "\n"
     ]
    },
    {
     "name": "stderr",
     "output_type": "stream",
     "text": [
      "                                                                                                 "
     ]
    },
    {
     "name": "stdout",
     "output_type": "stream",
     "text": [
      "Moviepy - Done !\n",
      "Moviepy - video ready /Users/tobiaspoulsen/Desktop/spaceIvander2.0/Project_DQN/video/rl-video-episode-48.mp4\n",
      "Episode 48 - Step 11829 - Epsilon 0.1 - Mean Reward 513.571 - Mean Length 241.408 - Mean Loss 0.0 - Mean Q Value 0.0 - Time Delta 2.01 - Time 2023-05-21T18:30:08\n"
     ]
    },
    {
     "name": "stderr",
     "output_type": "stream",
     "text": [
      "\r"
     ]
    },
    {
     "name": "stdout",
     "output_type": "stream",
     "text": [
      "Moviepy - Building video /Users/tobiaspoulsen/Desktop/spaceIvander2.0/Project_DQN/video/rl-video-episode-49.mp4.\n",
      "Moviepy - Writing video /Users/tobiaspoulsen/Desktop/spaceIvander2.0/Project_DQN/video/rl-video-episode-49.mp4\n",
      "\n"
     ]
    },
    {
     "name": "stderr",
     "output_type": "stream",
     "text": [
      "                                                                                                 \r"
     ]
    },
    {
     "name": "stdout",
     "output_type": "stream",
     "text": [
      "Moviepy - Done !\n",
      "Moviepy - video ready /Users/tobiaspoulsen/Desktop/spaceIvander2.0/Project_DQN/video/rl-video-episode-49.mp4\n",
      "Episode 49 - Step 12100 - Epsilon 0.1 - Mean Reward 518.8 - Mean Length 242.0 - Mean Loss 0.0 - Mean Q Value 0.0 - Time Delta 2.47 - Time 2023-05-21T18:30:10\n",
      "Moviepy - Building video /Users/tobiaspoulsen/Desktop/spaceIvander2.0/Project_DQN/video/rl-video-episode-50.mp4.\n",
      "Moviepy - Writing video /Users/tobiaspoulsen/Desktop/spaceIvander2.0/Project_DQN/video/rl-video-episode-50.mp4\n",
      "\n"
     ]
    },
    {
     "name": "stderr",
     "output_type": "stream",
     "text": [
      "                                                                                                 \r"
     ]
    },
    {
     "name": "stdout",
     "output_type": "stream",
     "text": [
      "Moviepy - Done !\n",
      "Moviepy - video ready /Users/tobiaspoulsen/Desktop/spaceIvander2.0/Project_DQN/video/rl-video-episode-50.mp4\n",
      "Episode 50 - Step 12427 - Epsilon 0.1 - Mean Reward 520.49 - Mean Length 243.667 - Mean Loss 0.0 - Mean Q Value 0.0 - Time Delta 2.907 - Time 2023-05-21T18:30:13\n",
      "Moviepy - Building video /Users/tobiaspoulsen/Desktop/spaceIvander2.0/Project_DQN/video/rl-video-episode-51.mp4.\n",
      "Moviepy - Writing video /Users/tobiaspoulsen/Desktop/spaceIvander2.0/Project_DQN/video/rl-video-episode-51.mp4\n",
      "\n"
     ]
    },
    {
     "name": "stderr",
     "output_type": "stream",
     "text": [
      "                                                                                                 "
     ]
    },
    {
     "name": "stdout",
     "output_type": "stream",
     "text": [
      "Moviepy - Done !\n",
      "Moviepy - video ready /Users/tobiaspoulsen/Desktop/spaceIvander2.0/Project_DQN/video/rl-video-episode-51.mp4\n",
      "Episode 51 - Step 12642 - Epsilon 0.1 - Mean Reward 519.327 - Mean Length 243.115 - Mean Loss 0.0 - Mean Q Value 0.0 - Time Delta 2.101 - Time 2023-05-21T18:30:15\n"
     ]
    },
    {
     "name": "stderr",
     "output_type": "stream",
     "text": [
      "\r"
     ]
    },
    {
     "name": "stdout",
     "output_type": "stream",
     "text": [
      "Moviepy - Building video /Users/tobiaspoulsen/Desktop/spaceIvander2.0/Project_DQN/video/rl-video-episode-52.mp4.\n",
      "Moviepy - Writing video /Users/tobiaspoulsen/Desktop/spaceIvander2.0/Project_DQN/video/rl-video-episode-52.mp4\n",
      "\n"
     ]
    },
    {
     "name": "stderr",
     "output_type": "stream",
     "text": [
      "                                                                                                 \r"
     ]
    },
    {
     "name": "stdout",
     "output_type": "stream",
     "text": [
      "Moviepy - Done !\n",
      "Moviepy - video ready /Users/tobiaspoulsen/Desktop/spaceIvander2.0/Project_DQN/video/rl-video-episode-52.mp4\n",
      "Episode 52 - Step 12871 - Epsilon 0.1 - Mean Reward 519.34 - Mean Length 242.849 - Mean Loss 0.0 - Mean Q Value 0.0 - Time Delta 2.179 - Time 2023-05-21T18:30:17\n",
      "Moviepy - Building video /Users/tobiaspoulsen/Desktop/spaceIvander2.0/Project_DQN/video/rl-video-episode-53.mp4.\n",
      "Moviepy - Writing video /Users/tobiaspoulsen/Desktop/spaceIvander2.0/Project_DQN/video/rl-video-episode-53.mp4\n",
      "\n"
     ]
    },
    {
     "name": "stderr",
     "output_type": "stream",
     "text": [
      "                                                                                                 \r"
     ]
    },
    {
     "name": "stdout",
     "output_type": "stream",
     "text": [
      "Moviepy - Done !\n",
      "Moviepy - video ready /Users/tobiaspoulsen/Desktop/spaceIvander2.0/Project_DQN/video/rl-video-episode-53.mp4\n",
      "Episode 53 - Step 13171 - Epsilon 0.1 - Mean Reward 520.926 - Mean Length 243.907 - Mean Loss 0.0 - Mean Q Value 0.0 - Time Delta 2.908 - Time 2023-05-21T18:30:20\n",
      "Moviepy - Building video /Users/tobiaspoulsen/Desktop/spaceIvander2.0/Project_DQN/video/rl-video-episode-54.mp4.\n",
      "Moviepy - Writing video /Users/tobiaspoulsen/Desktop/spaceIvander2.0/Project_DQN/video/rl-video-episode-54.mp4\n",
      "\n"
     ]
    },
    {
     "name": "stderr",
     "output_type": "stream",
     "text": [
      "                                                                                                 \r"
     ]
    },
    {
     "name": "stdout",
     "output_type": "stream",
     "text": [
      "Moviepy - Done !\n",
      "Moviepy - video ready /Users/tobiaspoulsen/Desktop/spaceIvander2.0/Project_DQN/video/rl-video-episode-54.mp4\n",
      "Episode 54 - Step 13435 - Epsilon 0.1 - Mean Reward 521.545 - Mean Length 244.273 - Mean Loss 0.0 - Mean Q Value 0.0 - Time Delta 2.533 - Time 2023-05-21T18:30:23\n",
      "Moviepy - Building video /Users/tobiaspoulsen/Desktop/spaceIvander2.0/Project_DQN/video/rl-video-episode-55.mp4.\n",
      "Moviepy - Writing video /Users/tobiaspoulsen/Desktop/spaceIvander2.0/Project_DQN/video/rl-video-episode-55.mp4\n",
      "\n"
     ]
    },
    {
     "name": "stderr",
     "output_type": "stream",
     "text": [
      "                                                                                                 "
     ]
    },
    {
     "name": "stdout",
     "output_type": "stream",
     "text": [
      "Moviepy - Done !\n",
      "Moviepy - video ready /Users/tobiaspoulsen/Desktop/spaceIvander2.0/Project_DQN/video/rl-video-episode-55.mp4\n",
      "Episode 55 - Step 13645 - Epsilon 0.1 - Mean Reward 519.464 - Mean Length 243.661 - Mean Loss 0.0 - Mean Q Value 0.0 - Time Delta 1.957 - Time 2023-05-21T18:30:25\n"
     ]
    },
    {
     "name": "stderr",
     "output_type": "stream",
     "text": [
      "\r"
     ]
    },
    {
     "name": "stdout",
     "output_type": "stream",
     "text": [
      "Moviepy - Building video /Users/tobiaspoulsen/Desktop/spaceIvander2.0/Project_DQN/video/rl-video-episode-56.mp4.\n",
      "Moviepy - Writing video /Users/tobiaspoulsen/Desktop/spaceIvander2.0/Project_DQN/video/rl-video-episode-56.mp4\n",
      "\n"
     ]
    },
    {
     "name": "stderr",
     "output_type": "stream",
     "text": [
      "                                                                                                 \r"
     ]
    },
    {
     "name": "stdout",
     "output_type": "stream",
     "text": [
      "Moviepy - Done !\n",
      "Moviepy - video ready /Users/tobiaspoulsen/Desktop/spaceIvander2.0/Project_DQN/video/rl-video-episode-56.mp4\n",
      "Episode 56 - Step 13966 - Epsilon 0.1 - Mean Reward 522.281 - Mean Length 245.018 - Mean Loss 0.0 - Mean Q Value 0.0 - Time Delta 2.866 - Time 2023-05-21T18:30:27\n",
      "Moviepy - Building video /Users/tobiaspoulsen/Desktop/spaceIvander2.0/Project_DQN/video/rl-video-episode-57.mp4.\n",
      "Moviepy - Writing video /Users/tobiaspoulsen/Desktop/spaceIvander2.0/Project_DQN/video/rl-video-episode-57.mp4\n",
      "\n"
     ]
    },
    {
     "name": "stderr",
     "output_type": "stream",
     "text": [
      "                                                                                                 \r"
     ]
    },
    {
     "name": "stdout",
     "output_type": "stream",
     "text": [
      "Moviepy - Done !\n",
      "Moviepy - video ready /Users/tobiaspoulsen/Desktop/spaceIvander2.0/Project_DQN/video/rl-video-episode-57.mp4\n",
      "Episode 57 - Step 14322 - Epsilon 0.1 - Mean Reward 526.638 - Mean Length 246.931 - Mean Loss 0.0 - Mean Q Value 0.0 - Time Delta 3.172 - Time 2023-05-21T18:30:31\n",
      "Moviepy - Building video /Users/tobiaspoulsen/Desktop/spaceIvander2.0/Project_DQN/video/rl-video-episode-58.mp4.\n",
      "Moviepy - Writing video /Users/tobiaspoulsen/Desktop/spaceIvander2.0/Project_DQN/video/rl-video-episode-58.mp4\n",
      "\n"
     ]
    },
    {
     "name": "stderr",
     "output_type": "stream",
     "text": [
      "                                                                                                 \r"
     ]
    },
    {
     "name": "stdout",
     "output_type": "stream",
     "text": [
      "Moviepy - Done !\n",
      "Moviepy - video ready /Users/tobiaspoulsen/Desktop/spaceIvander2.0/Project_DQN/video/rl-video-episode-58.mp4\n",
      "Episode 58 - Step 14630 - Epsilon 0.1 - Mean Reward 527.881 - Mean Length 247.966 - Mean Loss 0.0 - Mean Q Value 0.0 - Time Delta 2.819 - Time 2023-05-21T18:30:33\n",
      "Moviepy - Building video /Users/tobiaspoulsen/Desktop/spaceIvander2.0/Project_DQN/video/rl-video-episode-59.mp4.\n",
      "Moviepy - Writing video /Users/tobiaspoulsen/Desktop/spaceIvander2.0/Project_DQN/video/rl-video-episode-59.mp4\n",
      "\n"
     ]
    },
    {
     "name": "stderr",
     "output_type": "stream",
     "text": [
      "                                                                                                 \r"
     ]
    },
    {
     "name": "stdout",
     "output_type": "stream",
     "text": [
      "Moviepy - Done !\n",
      "Moviepy - video ready /Users/tobiaspoulsen/Desktop/spaceIvander2.0/Project_DQN/video/rl-video-episode-59.mp4\n",
      "Episode 59 - Step 14858 - Epsilon 0.1 - Mean Reward 528.083 - Mean Length 247.633 - Mean Loss 0.0 - Mean Q Value 0.0 - Time Delta 2.208 - Time 2023-05-21T18:30:36\n",
      "Moviepy - Building video /Users/tobiaspoulsen/Desktop/spaceIvander2.0/Project_DQN/video/rl-video-episode-60.mp4.\n",
      "Moviepy - Writing video /Users/tobiaspoulsen/Desktop/spaceIvander2.0/Project_DQN/video/rl-video-episode-60.mp4\n",
      "\n"
     ]
    },
    {
     "name": "stderr",
     "output_type": "stream",
     "text": [
      "                                                                                                 "
     ]
    },
    {
     "name": "stdout",
     "output_type": "stream",
     "text": [
      "Moviepy - Done !\n",
      "Moviepy - video ready /Users/tobiaspoulsen/Desktop/spaceIvander2.0/Project_DQN/video/rl-video-episode-60.mp4\n",
      "Episode 60 - Step 14993 - Epsilon 0.1 - Mean Reward 524.344 - Mean Length 245.787 - Mean Loss 0.0 - Mean Q Value 0.0 - Time Delta 1.553 - Time 2023-05-21T18:30:37\n"
     ]
    },
    {
     "name": "stderr",
     "output_type": "stream",
     "text": [
      "\r"
     ]
    },
    {
     "name": "stdout",
     "output_type": "stream",
     "text": [
      "Moviepy - Building video /Users/tobiaspoulsen/Desktop/spaceIvander2.0/Project_DQN/video/rl-video-episode-61.mp4.\n",
      "Moviepy - Writing video /Users/tobiaspoulsen/Desktop/spaceIvander2.0/Project_DQN/video/rl-video-episode-61.mp4\n",
      "\n"
     ]
    },
    {
     "name": "stderr",
     "output_type": "stream",
     "text": [
      "                                                                                                 "
     ]
    },
    {
     "name": "stdout",
     "output_type": "stream",
     "text": [
      "Moviepy - Done !\n",
      "Moviepy - video ready /Users/tobiaspoulsen/Desktop/spaceIvander2.0/Project_DQN/video/rl-video-episode-61.mp4\n",
      "Episode 61 - Step 15193 - Epsilon 0.1 - Mean Reward 522.097 - Mean Length 245.048 - Mean Loss 0.0 - Mean Q Value 0.0 - Time Delta 1.897 - Time 2023-05-21T18:30:39\n"
     ]
    },
    {
     "name": "stderr",
     "output_type": "stream",
     "text": [
      "\r"
     ]
    },
    {
     "name": "stdout",
     "output_type": "stream",
     "text": [
      "Moviepy - Building video /Users/tobiaspoulsen/Desktop/spaceIvander2.0/Project_DQN/video/rl-video-episode-62.mp4.\n",
      "Moviepy - Writing video /Users/tobiaspoulsen/Desktop/spaceIvander2.0/Project_DQN/video/rl-video-episode-62.mp4\n",
      "\n"
     ]
    },
    {
     "name": "stderr",
     "output_type": "stream",
     "text": [
      "                                                                                                 \r"
     ]
    },
    {
     "name": "stdout",
     "output_type": "stream",
     "text": [
      "Moviepy - Done !\n",
      "Moviepy - video ready /Users/tobiaspoulsen/Desktop/spaceIvander2.0/Project_DQN/video/rl-video-episode-62.mp4\n",
      "Episode 62 - Step 15465 - Epsilon 0.1 - Mean Reward 522.063 - Mean Length 245.476 - Mean Loss 0.0 - Mean Q Value 0.0 - Time Delta 2.498 - Time 2023-05-21T18:30:42\n",
      "Moviepy - Building video /Users/tobiaspoulsen/Desktop/spaceIvander2.0/Project_DQN/video/rl-video-episode-63.mp4.\n",
      "Moviepy - Writing video /Users/tobiaspoulsen/Desktop/spaceIvander2.0/Project_DQN/video/rl-video-episode-63.mp4\n",
      "\n"
     ]
    },
    {
     "name": "stderr",
     "output_type": "stream",
     "text": [
      "                                                                                                 \r"
     ]
    },
    {
     "name": "stdout",
     "output_type": "stream",
     "text": [
      "Moviepy - Done !\n",
      "Moviepy - video ready /Users/tobiaspoulsen/Desktop/spaceIvander2.0/Project_DQN/video/rl-video-episode-63.mp4\n",
      "Episode 63 - Step 15664 - Epsilon 0.1 - Mean Reward 519.453 - Mean Length 244.75 - Mean Loss 0.0 - Mean Q Value 0.0 - Time Delta 1.966 - Time 2023-05-21T18:30:44\n",
      "Moviepy - Building video /Users/tobiaspoulsen/Desktop/spaceIvander2.0/Project_DQN/video/rl-video-episode-64.mp4.\n",
      "Moviepy - Writing video /Users/tobiaspoulsen/Desktop/spaceIvander2.0/Project_DQN/video/rl-video-episode-64.mp4\n",
      "\n"
     ]
    },
    {
     "name": "stderr",
     "output_type": "stream",
     "text": [
      "                                                                                                 "
     ]
    },
    {
     "name": "stdout",
     "output_type": "stream",
     "text": [
      "Moviepy - Done !\n",
      "Moviepy - video ready /Users/tobiaspoulsen/Desktop/spaceIvander2.0/Project_DQN/video/rl-video-episode-64.mp4\n",
      "Episode 64 - Step 15843 - Epsilon 0.1 - Mean Reward 517.385 - Mean Length 243.738 - Mean Loss 0.0 - Mean Q Value 0.0 - Time Delta 1.788 - Time 2023-05-21T18:30:45\n"
     ]
    },
    {
     "name": "stderr",
     "output_type": "stream",
     "text": [
      "\r"
     ]
    },
    {
     "name": "stdout",
     "output_type": "stream",
     "text": [
      "Moviepy - Building video /Users/tobiaspoulsen/Desktop/spaceIvander2.0/Project_DQN/video/rl-video-episode-65.mp4.\n",
      "Moviepy - Writing video /Users/tobiaspoulsen/Desktop/spaceIvander2.0/Project_DQN/video/rl-video-episode-65.mp4\n",
      "\n"
     ]
    },
    {
     "name": "stderr",
     "output_type": "stream",
     "text": [
      "                                                                                                 \r"
     ]
    },
    {
     "name": "stdout",
     "output_type": "stream",
     "text": [
      "Moviepy - Done !\n",
      "Moviepy - video ready /Users/tobiaspoulsen/Desktop/spaceIvander2.0/Project_DQN/video/rl-video-episode-65.mp4\n",
      "Episode 65 - Step 16139 - Epsilon 0.1 - Mean Reward 520.758 - Mean Length 244.53 - Mean Loss 0.0 - Mean Q Value 0.0 - Time Delta 2.801 - Time 2023-05-21T18:30:48\n",
      "Moviepy - Building video /Users/tobiaspoulsen/Desktop/spaceIvander2.0/Project_DQN/video/rl-video-episode-66.mp4.\n",
      "Moviepy - Writing video /Users/tobiaspoulsen/Desktop/spaceIvander2.0/Project_DQN/video/rl-video-episode-66.mp4\n",
      "\n"
     ]
    },
    {
     "name": "stderr",
     "output_type": "stream",
     "text": [
      "                                                                                                 \r"
     ]
    },
    {
     "name": "stdout",
     "output_type": "stream",
     "text": [
      "Moviepy - Done !\n",
      "Moviepy - video ready /Users/tobiaspoulsen/Desktop/spaceIvander2.0/Project_DQN/video/rl-video-episode-66.mp4\n",
      "Episode 66 - Step 16464 - Epsilon 0.1 - Mean Reward 522.015 - Mean Length 245.731 - Mean Loss 0.0 - Mean Q Value 0.0 - Time Delta 3.01 - Time 2023-05-21T18:30:51\n",
      "Moviepy - Building video /Users/tobiaspoulsen/Desktop/spaceIvander2.0/Project_DQN/video/rl-video-episode-67.mp4.\n",
      "Moviepy - Writing video /Users/tobiaspoulsen/Desktop/spaceIvander2.0/Project_DQN/video/rl-video-episode-67.mp4\n",
      "\n"
     ]
    },
    {
     "name": "stderr",
     "output_type": "stream",
     "text": [
      "                                                                                                 "
     ]
    },
    {
     "name": "stdout",
     "output_type": "stream",
     "text": [
      "Moviepy - Done !\n",
      "Moviepy - video ready /Users/tobiaspoulsen/Desktop/spaceIvander2.0/Project_DQN/video/rl-video-episode-67.mp4\n",
      "Episode 67 - Step 16632 - Epsilon 0.1 - Mean Reward 519.485 - Mean Length 244.588 - Mean Loss 0.0 - Mean Q Value 0.0 - Time Delta 1.631 - Time 2023-05-21T18:30:53\n"
     ]
    },
    {
     "name": "stderr",
     "output_type": "stream",
     "text": [
      "\r"
     ]
    },
    {
     "name": "stdout",
     "output_type": "stream",
     "text": [
      "Moviepy - Building video /Users/tobiaspoulsen/Desktop/spaceIvander2.0/Project_DQN/video/rl-video-episode-68.mp4.\n",
      "Moviepy - Writing video /Users/tobiaspoulsen/Desktop/spaceIvander2.0/Project_DQN/video/rl-video-episode-68.mp4\n",
      "\n"
     ]
    },
    {
     "name": "stderr",
     "output_type": "stream",
     "text": [
      "                                                                                                 "
     ]
    },
    {
     "name": "stdout",
     "output_type": "stream",
     "text": [
      "Moviepy - Done !\n",
      "Moviepy - video ready /Users/tobiaspoulsen/Desktop/spaceIvander2.0/Project_DQN/video/rl-video-episode-68.mp4\n",
      "Episode 68 - Step 16825 - Epsilon 0.1 - Mean Reward 518.333 - Mean Length 243.841 - Mean Loss 0.0 - Mean Q Value 0.0 - Time Delta 1.835 - Time 2023-05-21T18:30:55\n"
     ]
    },
    {
     "name": "stderr",
     "output_type": "stream",
     "text": [
      "\r"
     ]
    },
    {
     "name": "stdout",
     "output_type": "stream",
     "text": [
      "Moviepy - Building video /Users/tobiaspoulsen/Desktop/spaceIvander2.0/Project_DQN/video/rl-video-episode-69.mp4.\n",
      "Moviepy - Writing video /Users/tobiaspoulsen/Desktop/spaceIvander2.0/Project_DQN/video/rl-video-episode-69.mp4\n",
      "\n"
     ]
    },
    {
     "name": "stderr",
     "output_type": "stream",
     "text": [
      "                                                                                                 "
     ]
    },
    {
     "name": "stdout",
     "output_type": "stream",
     "text": [
      "Moviepy - Done !\n",
      "Moviepy - video ready /Users/tobiaspoulsen/Desktop/spaceIvander2.0/Project_DQN/video/rl-video-episode-69.mp4\n",
      "Episode 69 - Step 16962 - Epsilon 0.1 - Mean Reward 515.286 - Mean Length 242.314 - Mean Loss 0.0 - Mean Q Value 0.0 - Time Delta 1.496 - Time 2023-05-21T18:30:56\n"
     ]
    },
    {
     "name": "stderr",
     "output_type": "stream",
     "text": [
      "\r"
     ]
    },
    {
     "name": "stdout",
     "output_type": "stream",
     "text": [
      "Moviepy - Building video /Users/tobiaspoulsen/Desktop/spaceIvander2.0/Project_DQN/video/rl-video-episode-70.mp4.\n",
      "Moviepy - Writing video /Users/tobiaspoulsen/Desktop/spaceIvander2.0/Project_DQN/video/rl-video-episode-70.mp4\n",
      "\n"
     ]
    },
    {
     "name": "stderr",
     "output_type": "stream",
     "text": [
      "                                                                                                 "
     ]
    },
    {
     "name": "stdout",
     "output_type": "stream",
     "text": [
      "Moviepy - Done !\n",
      "Moviepy - video ready /Users/tobiaspoulsen/Desktop/spaceIvander2.0/Project_DQN/video/rl-video-episode-70.mp4\n"
     ]
    },
    {
     "name": "stderr",
     "output_type": "stream",
     "text": [
      "\r"
     ]
    },
    {
     "name": "stdout",
     "output_type": "stream",
     "text": [
      "Episode 70 - Step 17163 - Epsilon 0.1 - Mean Reward 514.155 - Mean Length 241.732 - Mean Loss 0.0 - Mean Q Value 0.0 - Time Delta 2.041 - Time 2023-05-21T18:30:58\n",
      "Moviepy - Building video /Users/tobiaspoulsen/Desktop/spaceIvander2.0/Project_DQN/video/rl-video-episode-71.mp4.\n",
      "Moviepy - Writing video /Users/tobiaspoulsen/Desktop/spaceIvander2.0/Project_DQN/video/rl-video-episode-71.mp4\n",
      "\n"
     ]
    },
    {
     "name": "stderr",
     "output_type": "stream",
     "text": [
      "                                                                                                 "
     ]
    },
    {
     "name": "stdout",
     "output_type": "stream",
     "text": [
      "Moviepy - Done !\n",
      "Moviepy - video ready /Users/tobiaspoulsen/Desktop/spaceIvander2.0/Project_DQN/video/rl-video-episode-71.mp4\n",
      "Episode 71 - Step 17325 - Epsilon 0.1 - Mean Reward 511.458 - Mean Length 240.625 - Mean Loss 0.0 - Mean Q Value 0.0 - Time Delta 1.646 - Time 2023-05-21T18:31:00\n"
     ]
    },
    {
     "name": "stderr",
     "output_type": "stream",
     "text": [
      "\r"
     ]
    },
    {
     "name": "stdout",
     "output_type": "stream",
     "text": [
      "Moviepy - Building video /Users/tobiaspoulsen/Desktop/spaceIvander2.0/Project_DQN/video/rl-video-episode-72.mp4.\n",
      "Moviepy - Writing video /Users/tobiaspoulsen/Desktop/spaceIvander2.0/Project_DQN/video/rl-video-episode-72.mp4\n",
      "\n"
     ]
    },
    {
     "name": "stderr",
     "output_type": "stream",
     "text": [
      "                                                                                                 "
     ]
    },
    {
     "name": "stdout",
     "output_type": "stream",
     "text": [
      "Moviepy - Done !\n",
      "Moviepy - video ready /Users/tobiaspoulsen/Desktop/spaceIvander2.0/Project_DQN/video/rl-video-episode-72.mp4\n",
      "Episode 72 - Step 17495 - Epsilon 0.1 - Mean Reward 508.904 - Mean Length 239.658 - Mean Loss 0.0 - Mean Q Value 0.0 - Time Delta 1.699 - Time 2023-05-21T18:31:02\n"
     ]
    },
    {
     "name": "stderr",
     "output_type": "stream",
     "text": [
      "\r"
     ]
    },
    {
     "ename": "KeyboardInterrupt",
     "evalue": "",
     "output_type": "error",
     "traceback": [
      "\u001b[0;31m---------------------------------------------------------------------------\u001b[0m",
      "\u001b[0;31mKeyboardInterrupt\u001b[0m                         Traceback (most recent call last)",
      "Cell \u001b[0;32mIn[5], line 58\u001b[0m\n\u001b[1;32m     55\u001b[0m info \u001b[38;5;241m=\u001b[39m result[\u001b[38;5;241m3\u001b[39m]\n\u001b[1;32m     57\u001b[0m \u001b[38;5;66;03m# 6. Remember\u001b[39;00m\n\u001b[0;32m---> 58\u001b[0m \u001b[43mspaceInvader\u001b[49m\u001b[38;5;241;43m.\u001b[39;49m\u001b[43mcache\u001b[49m\u001b[43m(\u001b[49m\u001b[43mstate\u001b[49m\u001b[43m,\u001b[49m\u001b[43m \u001b[49m\u001b[43mnext_state\u001b[49m\u001b[43m,\u001b[49m\u001b[43m \u001b[49m\u001b[43maction\u001b[49m\u001b[43m,\u001b[49m\u001b[43m \u001b[49m\u001b[43mreward\u001b[49m\u001b[43m,\u001b[49m\u001b[43m \u001b[49m\u001b[43mdone\u001b[49m\u001b[43m)\u001b[49m\n\u001b[1;32m     60\u001b[0m \u001b[38;5;66;03m# 7. Learn\u001b[39;00m\n\u001b[1;32m     61\u001b[0m q, loss \u001b[38;5;241m=\u001b[39m spaceInvader\u001b[38;5;241m.\u001b[39mlearn()\n",
      "File \u001b[0;32m<string>:72\u001b[0m, in \u001b[0;36mcache\u001b[0;34m(self, state, next_state, action, reward, done)\u001b[0m\n",
      "\u001b[0;31mKeyboardInterrupt\u001b[0m: "
     ]
    },
    {
     "data": {
      "text/plain": [
       "<Figure size 640x480 with 0 Axes>"
      ]
     },
     "metadata": {},
     "output_type": "display_data"
    }
   ],
   "source": [
    "import random, datetime\n",
    "from pathlib import Path\n",
    "\n",
    "import gymnasium\n",
    "from gymnasium.wrappers import FrameStack, GrayScaleObservation, TransformObservation\n",
    "\n",
    "\n",
    "from metrics import MetricLogger\n",
    "#from agent import SpaceInvader\n",
    "from wrappers import ResizeObservation\n",
    "\n",
    "env = gymnasium.make(\"ALE/SpaceInvaders-v5\", mode=2,render_mode=\"rgb_array\")\n",
    "\n",
    "#video recording\n",
    "output_dir = \"video\"\n",
    "video_output_frequency = 1\n",
    "env = RecordVideo(env, output_dir, episode_trigger=lambda episode_id: episode_id == 1 or (episode_id != 0 and (episode_id) % video_output_frequency == 0))\n",
    "env.metadata['render_fps'] = 24\n",
    "\n",
    "\n",
    "env = SkipFrame(env, skip=4)\n",
    "env = GrayScaleObservation(env, keep_dim=False)\n",
    "env = ResizeObservation(env, shape=84)\n",
    "env = TransformObservation(env, f=lambda x: x / 255.)\n",
    "env = FrameStack(env, num_stack=4)\n",
    "\n",
    "env.reset()\n",
    "\n",
    "save_dir = Path('checkpoints') / datetime.datetime.now().strftime('%Y-%m-%dT%H-%M-%S')\n",
    "save_dir.mkdir(parents=True)\n",
    "\n",
    "checkpoint = Path('checkpoints/2023-05-11T19-11-46/SpaceInvader_net_13.chkpt')\n",
    "spaceInvader = SpaceInvader(state_dim=(4, 84, 84), action_dim=env.action_space.n, save_dir=save_dir, checkpoint=checkpoint)\n",
    "spaceInvader.exploration_rate = spaceInvader.exploration_rate_min\n",
    "\n",
    "logger = MetricLogger(save_dir)\n",
    "episodes = 100\n",
    "for e in range(episodes):\n",
    "\n",
    "    state = env.reset()\n",
    "    state = state[0]\n",
    "    # Play the game!\n",
    "    while True:\n",
    "\n",
    "        # 3. Show environment (the visual) [WIP]\n",
    "        # env.render()\n",
    "\n",
    "        # 4. Run agent on the state\n",
    "        action = spaceInvader.act(state)\n",
    "        # 5. Agent performs action\n",
    "        result = env.step(action)\n",
    "        next_state = result[0]\n",
    "        reward = result[1]\n",
    "        done = result[2]\n",
    "        info = result[3]\n",
    "        \n",
    "        # 6. Remember\n",
    "        spaceInvader.cache(state, next_state, action, reward, done)\n",
    "\n",
    "        # 7. Learn\n",
    "        q, loss = spaceInvader.learn()\n",
    "\n",
    "        # 8. Logging\n",
    "        logger.log_step(reward, loss, q)\n",
    "\n",
    "        # 9. Update state\n",
    "        state = next_state\n",
    "        # 10. Check if end of game\n",
    "        if done or info:\n",
    "            break\n",
    "    \n",
    "    env.close()\n",
    "    logger.log_episode()\n",
    "\n",
    "    if e % 1 == 0:\n",
    "        logger.record(\n",
    "            episode=e,\n",
    "            epsilon=spaceInvader.exploration_rate,\n",
    "            step=spaceInvader.curr_step\n",
    "        )"
   ]
  },
  {
   "cell_type": "code",
   "execution_count": null,
   "id": "3905a20a-6bc7-4608-bc0d-7e13f9eb630e",
   "metadata": {},
   "outputs": [],
   "source": []
  },
  {
   "cell_type": "code",
   "execution_count": null,
   "id": "5042aaa9-6cb6-4971-8123-52910b0c523a",
   "metadata": {},
   "outputs": [],
   "source": []
  }
 ],
 "metadata": {
  "kernelspec": {
   "display_name": "Python 3 (ipykernel)",
   "language": "python",
   "name": "python3"
  },
  "language_info": {
   "codemirror_mode": {
    "name": "ipython",
    "version": 3
   },
   "file_extension": ".py",
   "mimetype": "text/x-python",
   "name": "python",
   "nbconvert_exporter": "python",
   "pygments_lexer": "ipython3",
   "version": "3.11.3"
  }
 },
 "nbformat": 4,
 "nbformat_minor": 5
}
