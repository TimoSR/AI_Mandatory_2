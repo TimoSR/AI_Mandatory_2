{
 "cells": [
  {
   "cell_type": "code",
   "execution_count": null,
   "metadata": {
    "tags": []
   },
   "outputs": [],
   "source": []
  },
  {
   "cell_type": "code",
   "execution_count": 1,
   "metadata": {
    "tags": []
   },
   "outputs": [],
   "source": [
    "import import_ipynb"
   ]
  },
  {
   "cell_type": "code",
   "execution_count": 2,
   "metadata": {
    "tags": []
   },
   "outputs": [
    {
     "name": "stdout",
     "output_type": "stream",
     "text": [
      "importing Jupyter notebook from env_video_recorder.ipynb\n"
     ]
    }
   ],
   "source": [
    "from env_video_recorder import EnvVideoRecorder"
   ]
  },
  {
   "cell_type": "code",
   "execution_count": null,
   "metadata": {
    "tags": []
   },
   "outputs": [],
   "source": []
  },
  {
   "cell_type": "code",
   "execution_count": null,
   "metadata": {
    "tags": []
   },
   "outputs": [],
   "source": []
  },
  {
   "cell_type": "code",
   "execution_count": 3,
   "metadata": {
    "tags": []
   },
   "outputs": [
    {
     "name": "stdout",
     "output_type": "stream",
     "text": [
      "Package                       Version\n",
      "----------------------------- -----------\n",
      "absl-py                       1.4.0\n",
      "aiofiles                      22.1.0\n",
      "aiosqlite                     0.19.0\n",
      "ale-py                        0.8.1\n",
      "anyio                         3.6.2\n",
      "appnope                       0.1.3\n",
      "argon2-cffi                   21.3.0\n",
      "argon2-cffi-bindings          21.2.0\n",
      "array-record                  0.2.0\n",
      "arrow                         1.2.3\n",
      "asttokens                     2.2.1\n",
      "astunparse                    1.6.3\n",
      "attrs                         23.1.0\n",
      "AutoROM                       0.4.2\n",
      "AutoROM.accept-rom-license    0.6.1\n",
      "Babel                         2.12.1\n",
      "backcall                      0.2.0\n",
      "backports.functools-lru-cache 1.6.4\n",
      "bayesian-optimization         1.4.3\n",
      "beautifulsoup4                4.12.2\n",
      "bleach                        6.0.0\n",
      "blinker                       1.6.2\n",
      "boto3                         1.26.129\n",
      "botocore                      1.29.129\n",
      "brotlipy                      0.7.0\n",
      "cached-property               1.5.2\n",
      "cachetools                    5.3.0\n",
      "certifi                       2023.5.7\n",
      "cffi                          1.15.1\n",
      "charset-normalizer            3.1.0\n",
      "click                         8.1.3\n",
      "cloudpickle                   2.2.1\n",
      "colorama                      0.4.6\n",
      "comm                          0.1.3\n",
      "contourpy                     1.0.7\n",
      "cryptography                  40.0.2\n",
      "cycler                        0.11.0\n",
      "debugpy                       1.6.7\n",
      "decorator                     5.1.1\n",
      "defusedxml                    0.7.1\n",
      "dm-tree                       0.1.8\n",
      "entrypoints                   0.4\n",
      "etils                         1.2.0\n",
      "executing                     1.2.0\n",
      "Farama-Notifications          0.0.4\n",
      "fastjsonschema                2.16.3\n",
      "Flask                         2.3.2\n",
      "flatbuffers                   23.3.3\n",
      "flit_core                     3.8.0\n",
      "fonttools                     4.28.5\n",
      "fqdn                          1.5.1\n",
      "gast                          0.4.0\n",
      "gensim                        4.3.1\n",
      "google-auth                   2.17.3\n",
      "google-auth-oauthlib          1.0.0\n",
      "google-pasta                  0.2.0\n",
      "googleapis-common-protos      1.59.0\n",
      "grpcio                        1.54.0\n",
      "gym                           0.26.2\n",
      "gym-notices                   0.0.8\n",
      "gymnasium                     0.28.1\n",
      "h5py                          3.8.0\n",
      "htmlmin                       0.1.12\n",
      "idna                          3.4\n",
      "ImageHash                     4.3.1\n",
      "imageio                       2.28.1\n",
      "imageio-ffmpeg                0.4.8\n",
      "import-ipynb                  0.1.4\n",
      "importlib-metadata            6.6.0\n",
      "importlib-resources           5.12.0\n",
      "ipykernel                     6.23.0\n",
      "ipython                       8.13.2\n",
      "ipython-genutils              0.2.0\n",
      "ipywidgets                    8.0.6\n",
      "isoduration                   20.11.0\n",
      "itsdangerous                  2.1.2\n",
      "jax                           0.4.8\n",
      "jax-jumpy                     1.0.0\n",
      "jedi                          0.18.2\n",
      "Jinja2                        3.1.2\n",
      "jmespath                      1.0.1\n",
      "joblib                        1.2.0\n",
      "json5                         0.9.11\n",
      "jsonpointer                   2.3\n",
      "jsonschema                    4.17.3\n",
      "jupyter                       1.0.0\n",
      "jupyter_client                8.2.0\n",
      "jupyter-console               6.6.3\n",
      "jupyter_core                  5.3.0\n",
      "jupyter-events                0.6.3\n",
      "jupyter_server                2.5.0\n",
      "jupyter_server_fileid         0.9.0\n",
      "jupyter_server_terminals      0.4.4\n",
      "jupyter_server_ydoc           0.8.0\n",
      "jupyter-ydoc                  0.2.4\n",
      "jupyterlab                    3.6.3\n",
      "jupyterlab-pygments           0.2.2\n",
      "jupyterlab_server             2.22.1\n",
      "jupyterlab-widgets            3.0.7\n",
      "kaggle                        1.5.13\n",
      "keras                         2.12.0\n",
      "kiwisolver                    1.4.4\n",
      "libclang                      16.0.0\n",
      "lxml                          4.9.2\n",
      "Markdown                      3.4.3\n",
      "MarkupSafe                    2.1.2\n",
      "matplotlib                    3.6.3\n",
      "matplotlib-inline             0.1.6\n",
      "mistune                       2.0.5\n",
      "ml-dtypes                     0.1.0\n",
      "multimethod                   1.4\n",
      "munkres                       1.1.4\n",
      "nbclassic                     1.0.0\n",
      "nbclient                      0.7.4\n",
      "nbconvert                     7.3.1\n",
      "nbformat                      5.8.0\n",
      "nest-asyncio                  1.5.6\n",
      "networkx                      3.1\n",
      "nltk                          3.8.1\n",
      "notebook                      6.5.4\n",
      "notebook_shim                 0.2.3\n",
      "numpy                         1.23.5\n",
      "oauthlib                      3.2.2\n",
      "opencv-python                 4.7.0.72\n",
      "opt-einsum                    3.3.0\n",
      "packaging                     23.1\n",
      "pandas                        1.5.3\n",
      "pandas-datareader             0.10.0\n",
      "pandas-profiling              0.0.dev0\n",
      "pandocfilters                 1.5.0\n",
      "parso                         0.8.3\n",
      "patsy                         0.5.3\n",
      "pexpect                       4.8.0\n",
      "phik                          0.12.3\n",
      "pickleshare                   0.7.5\n",
      "Pillow                        9.5.0\n",
      "pip                           23.1.2\n",
      "pkgutil_resolve_name          1.3.10\n",
      "platformdirs                  3.5.0\n",
      "ply                           3.11\n",
      "prometheus-client             0.16.0\n",
      "promise                       2.3\n",
      "prompt-toolkit                3.0.38\n",
      "protobuf                      4.22.4\n",
      "psutil                        5.9.5\n",
      "ptyprocess                    0.7.0\n",
      "pure-eval                     0.2.2\n",
      "pyasn1                        0.5.0\n",
      "pyasn1-modules                0.3.0\n",
      "pycparser                     2.21\n",
      "pydantic                      1.10.7\n",
      "pygame                        2.1.0\n",
      "Pygments                      2.15.1\n",
      "pyobjc-core                   9.1.1\n",
      "pyobjc-framework-Cocoa        9.1.1\n",
      "pyOpenSSL                     23.1.1\n",
      "pyparsing                     3.0.9\n",
      "PyQt5                         5.15.7\n",
      "PyQt5-sip                     12.11.0\n",
      "pyrsistent                    0.19.3\n",
      "PySocks                       1.7.1\n",
      "python-dateutil               2.8.2\n",
      "python-json-logger            2.0.7\n",
      "python-slugify                8.0.1\n",
      "pytz                          2023.3\n",
      "PyWavelets                    1.4.1\n",
      "PyYAML                        6.0\n",
      "pyzmq                         25.0.2\n",
      "qtconsole                     5.4.3\n",
      "QtPy                          2.3.1\n",
      "regex                         2023.5.5\n",
      "requests                      2.28.2\n",
      "requests-oauthlib             1.3.1\n",
      "rfc3339-validator             0.1.4\n",
      "rfc3986-validator             0.1.1\n",
      "rsa                           4.9\n",
      "s3transfer                    0.6.1\n",
      "scikit-learn                  1.2.2\n",
      "scipy                         1.9.3\n",
      "seaborn                       0.12.2\n",
      "Send2Trash                    1.8.2\n",
      "setuptools                    67.7.2\n",
      "sip                           6.7.9\n",
      "six                           1.16.0\n",
      "smart-open                    6.3.0\n",
      "sniffio                       1.3.0\n",
      "soupsieve                     2.3.2.post1\n",
      "stable-baselines              2.10.2\n",
      "stack-data                    0.6.2\n",
      "statsmodels                   0.13.5\n",
      "swig                          4.1.1\n",
      "tangled-up-in-unicode         0.2.0\n",
      "tensorboard                   2.12.3\n",
      "tensorboard-data-server       0.7.0\n",
      "tensorflow-datasets           4.9.2\n",
      "tensorflow-estimator          2.12.0\n",
      "tensorflow-io-gcs-filesystem  0.32.0\n",
      "tensorflow-macos              2.12.0\n",
      "tensorflow-metadata           1.13.1\n",
      "termcolor                     2.3.0\n",
      "terminado                     0.17.1\n",
      "text-unidecode                1.3\n",
      "textblob                      0.15.3\n",
      "threadpoolctl                 3.1.0\n",
      "tinycss2                      1.2.1\n",
      "toml                          0.10.2\n",
      "tomli                         2.0.1\n",
      "tornado                       6.3\n",
      "tqdm                          4.64.1\n",
      "traitlets                     5.9.0\n",
      "typeguard                     2.13.3\n",
      "typing_extensions             4.5.0\n",
      "uri-template                  1.2.0\n",
      "urllib3                       1.26.15\n",
      "visions                       0.7.5\n",
      "wcwidth                       0.2.6\n",
      "webcolors                     1.13\n",
      "webencodings                  0.5.1\n",
      "websocket-client              1.5.1\n",
      "Werkzeug                      2.3.3\n",
      "wheel                         0.40.0\n",
      "widgetsnbextension            4.0.7\n",
      "wordcloud                     1.9.1.1\n",
      "wrapt                         1.14.1\n",
      "y-py                          0.5.9\n",
      "ypy-websocket                 0.8.2\n",
      "zipp                          3.15.0\n",
      "Note: you may need to restart the kernel to use updated packages.\n"
     ]
    }
   ],
   "source": []
  },
  {
   "cell_type": "code",
   "execution_count": 4,
   "metadata": {
    "tags": []
   },
   "outputs": [
    {
     "name": "stderr",
     "output_type": "stream",
     "text": [
      "2023-05-09 20:46:09.575307: I tensorflow/core/platform/cpu_feature_guard.cc:182] This TensorFlow binary is optimized to use available CPU instructions in performance-critical operations.\n",
      "To enable the following instructions: SSE4.1 SSE4.2, in other operations, rebuild TensorFlow with the appropriate compiler flags.\n"
     ]
    }
   ],
   "source": [
    "import time\n",
    "import random\n",
    "import numpy as np\n",
    "import matplotlib.pyplot as plt\n",
    "import tensorflow as tf"
   ]
  },
  {
   "cell_type": "code",
   "execution_count": 5,
   "metadata": {
    "tags": []
   },
   "outputs": [],
   "source": [
    "import gym \n",
    "import random\n",
    "import numpy as np\n",
    "#gymnasium.make(\"ALE/SpaceInvaders-v5\") should be 5 for none human version"
   ]
  },
  {
   "cell_type": "code",
   "execution_count": 6,
   "metadata": {
    "tags": []
   },
   "outputs": [],
   "source": [
    "#pip install gym\\[atari\\]"
   ]
  },
  {
   "cell_type": "code",
   "execution_count": 7,
   "metadata": {
    "tags": []
   },
   "outputs": [
    {
     "name": "stderr",
     "output_type": "stream",
     "text": [
      "A.L.E: Arcade Learning Environment (version 0.8.1+53f58b7)\n",
      "[Powered by Stella]\n"
     ]
    }
   ],
   "source": [
    "env = gym.make('SpaceInvaders-v4',render_mode='rgb_array')\n",
    "height, width, channels = env.observation_space.shape\n",
    "actions = env.action_space.n"
   ]
  },
  {
   "cell_type": "code",
   "execution_count": 8,
   "metadata": {},
   "outputs": [],
   "source": [
    "action_space_size = env.action_space.n\n"
   ]
  },
  {
   "cell_type": "code",
   "execution_count": 9,
   "metadata": {
    "tags": []
   },
   "outputs": [],
   "source": [
    "rec = EnvVideoRecorder(env)"
   ]
  },
  {
   "cell_type": "code",
   "execution_count": 10,
   "metadata": {
    "tags": []
   },
   "outputs": [
    {
     "data": {
      "text/plain": [
       "(array([[[ 0,  0,  0],\n",
       "         [ 0,  0,  0],\n",
       "         [ 0,  0,  0],\n",
       "         ...,\n",
       "         [ 0,  0,  0],\n",
       "         [ 0,  0,  0],\n",
       "         [ 0,  0,  0]],\n",
       " \n",
       "        [[ 0,  0,  0],\n",
       "         [ 0,  0,  0],\n",
       "         [ 0,  0,  0],\n",
       "         ...,\n",
       "         [ 0,  0,  0],\n",
       "         [ 0,  0,  0],\n",
       "         [ 0,  0,  0]],\n",
       " \n",
       "        [[ 0,  0,  0],\n",
       "         [ 0,  0,  0],\n",
       "         [ 0,  0,  0],\n",
       "         ...,\n",
       "         [ 0,  0,  0],\n",
       "         [ 0,  0,  0],\n",
       "         [ 0,  0,  0]],\n",
       " \n",
       "        ...,\n",
       " \n",
       "        [[80, 89, 22],\n",
       "         [80, 89, 22],\n",
       "         [80, 89, 22],\n",
       "         ...,\n",
       "         [80, 89, 22],\n",
       "         [80, 89, 22],\n",
       "         [80, 89, 22]],\n",
       " \n",
       "        [[80, 89, 22],\n",
       "         [80, 89, 22],\n",
       "         [80, 89, 22],\n",
       "         ...,\n",
       "         [80, 89, 22],\n",
       "         [80, 89, 22],\n",
       "         [80, 89, 22]],\n",
       " \n",
       "        [[80, 89, 22],\n",
       "         [80, 89, 22],\n",
       "         [80, 89, 22],\n",
       "         ...,\n",
       "         [80, 89, 22],\n",
       "         [80, 89, 22],\n",
       "         [80, 89, 22]]], dtype=uint8),\n",
       " {'lives': 3, 'episode_frame_number': 0, 'frame_number': 0})"
      ]
     },
     "execution_count": 10,
     "metadata": {},
     "output_type": "execute_result"
    }
   ],
   "source": [
    "rec.reset() "
   ]
  },
  {
   "cell_type": "code",
   "execution_count": 11,
   "metadata": {
    "tags": []
   },
   "outputs": [
    {
     "name": "stderr",
     "output_type": "stream",
     "text": [
      "/opt/anaconda3/envs/AI-Mac/lib/python3.9/site-packages/gym/utils/passive_env_checker.py:289: UserWarning: \u001b[33mWARN: No render fps was declared in the environment (env.metadata['render_fps'] is None or not defined), rendering may occur at inconsistent fps.\u001b[0m\n",
      "  logger.warn(\n"
     ]
    }
   ],
   "source": [
    "while True:\n",
    "    rec.render()\n",
    "    action = 0\n",
    "    observation, reward, terminated, truncated, info = rec.step(action)\n",
    "    if terminated:\n",
    "        break"
   ]
  },
  {
   "cell_type": "code",
   "execution_count": 12,
   "metadata": {
    "tags": []
   },
   "outputs": [
    {
     "name": "stderr",
     "output_type": "stream",
     "text": [
      "WARNING:imageio_ffmpeg:IMAGEIO FFMPEG_WRITER WARNING: input image is not divisible by macro_block_size=16, resizing from (160, 210) to (160, 224) to ensure video compatibility with most codecs and players. To prevent resizing, make your input image divisible by the macro_block_size or set the macro_block_size to 1 (risking incompatibility).\n"
     ]
    }
   ],
   "source": [
    "rec.save('video/dq-0.mp4') "
   ]
  },
  {
   "cell_type": "code",
   "execution_count": 13,
   "metadata": {
    "tags": []
   },
   "outputs": [
    {
     "data": {
      "text/html": [
       "\n",
       "            <video with=\"608\" height=\"400\" controls>\n",
       "                <source src=\"data:video/mp4;base64,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\" type=\"video/mp4\" />\n",
       "                Please use a browser that supports the HTML video tag.\n",
       "            </video>\n",
       "            "
      ],
      "text/plain": [
       "<IPython.core.display.HTML object>"
      ]
     },
     "execution_count": 13,
     "metadata": {},
     "output_type": "execute_result"
    }
   ],
   "source": [
    "rec.embed_jupyter() "
   ]
  },
  {
   "cell_type": "code",
   "execution_count": 14,
   "metadata": {
    "tags": []
   },
   "outputs": [
    {
     "data": {
      "text/plain": [
       "[<matplotlib.lines.Line2D at 0x118a87880>]"
      ]
     },
     "execution_count": 14,
     "metadata": {},
     "output_type": "execute_result"
    },
    {
     "data": {
      "image/png": "[encoded data removed]",
      "text/plain": [
       "<Figure size 640x480 with 1 Axes>"
      ]
     },
     "metadata": {},
     "output_type": "display_data"
    }
   ],
   "source": [
    "plt.plot(range(len(rec)), rec.rewards()) "
   ]
  },
  {
   "cell_type": "markdown",
   "metadata": {},
   "source": [
    "# Preproccesing enviorment "
   ]
  },
  {
   "cell_type": "code",
   "execution_count": null,
   "metadata": {
    "tags": []
   },
   "outputs": [],
   "source": []
  },
  {
   "cell_type": "code",
   "execution_count": 15,
   "metadata": {
    "tags": []
   },
   "outputs": [],
   "source": [
    "from gym.wrappers import GrayScaleObservation\n",
    "\n"
   ]
  },
  {
   "cell_type": "code",
   "execution_count": 73,
   "metadata": {
    "tags": []
   },
   "outputs": [],
   "source": [
    "#pip install gym\\[other\\]"
   ]
  },
  {
   "cell_type": "code",
   "execution_count": 51,
   "metadata": {
    "tags": []
   },
   "outputs": [],
   "source": [
    "env = gym.make('SpaceInvaders-v4', render_mode='rgb_array')"
   ]
  },
  {
   "cell_type": "code",
   "execution_count": 168,
   "metadata": {
    "tags": []
   },
   "outputs": [],
   "source": [
    "#import gym\n",
    "from gym.wrappers import FrameStack, GrayScaleObservation, ResizeObservation,AtariPreprocessing, FrameStack\n",
    "\n",
    "env = gym.make('SpaceInvaders-v4', render_mode='rgb_array')\n",
    "\n",
    "\n",
    "\n",
    "env = AtariPreprocessing(env,noop_max =30,frame_skip = 1,screen_size = 84, terminal_on_life_loss = True,grayscale_obs= True, grayscale_newaxis= True)\n",
    "\n",
    "env = FrameStack(env=env, num_stack=4,lz4_compress=True)\n",
    "# Could use this if env didnt have properties to fix it. \n",
    "# Converting to grey\n",
    "#env = GrayScaleObservation(env, keep_dim=True)\n",
    "# stack 4 frames\n",
    "#env = FrameStack(env, num_stack=4, lz4_compress=False)\n",
    "## Resize Obsercation Space\n",
    "#env = ResizeObservation(env, [64,64])\n",
    "\n"
   ]
  },
  {
   "cell_type": "code",
   "execution_count": 169,
   "metadata": {
    "tags": []
   },
   "outputs": [
    {
     "data": {
      "text/plain": [
       "(4, 84, 84, 1)"
      ]
     },
     "execution_count": 169,
     "metadata": {},
     "output_type": "execute_result"
    }
   ],
   "source": [
    "env.observation_space.shape"
   ]
  },
  {
   "cell_type": "markdown",
   "metadata": {},
   "source": [
    "## Initial deep Q learning model"
   ]
  },
  {
   "cell_type": "code",
   "execution_count": 213,
   "metadata": {
    "tags": []
   },
   "outputs": [],
   "source": [
    "BUFFER_SIZE = 100_000\n",
    "GAMMA = 0.995 # discount factor\n",
    "ALPHA = 0.001 # learning rate\n",
    "TAU = 0.001 # soft update factor\n",
    "\n",
    "STEPS_BETWEEN_LEARNING = 4\n",
    "MINI_BATCH_SIZE = 64"
   ]
  },
  {
   "cell_type": "code",
   "execution_count": 214,
   "metadata": {
    "tags": []
   },
   "outputs": [],
   "source": [
    "#env = gym.make('SpaceInvaders-v4',render_mode='rgb_array')\n"
   ]
  },
  {
   "cell_type": "code",
   "execution_count": 215,
   "metadata": {
    "tags": []
   },
   "outputs": [],
   "source": [
    "state_space_size = env.observation_space.shape\n",
    "action_space_size = env.action_space.n"
   ]
  },
  {
   "cell_type": "code",
   "execution_count": null,
   "metadata": {
    "tags": []
   },
   "outputs": [],
   "source": []
  },
  {
   "cell_type": "code",
   "execution_count": 216,
   "metadata": {
    "tags": []
   },
   "outputs": [],
   "source": [
    " from tensorflow.keras import Sequential\n",
    "from tensorflow.keras.layers import Dense, Input, Flatten\n",
    "from tensorflow.keras.optimizers import Adam\n",
    "from tensorflow.keras.losses import MSE\n",
    "import cv2"
   ]
  },
  {
   "cell_type": "code",
   "execution_count": 217,
   "metadata": {
    "tags": []
   },
   "outputs": [],
   "source": [
    "state_space_size\n",
    "state_space_flat = state_space_size"
   ]
  },
  {
   "cell_type": "code",
   "execution_count": null,
   "metadata": {
    "tags": []
   },
   "outputs": [],
   "source": []
  },
  {
   "cell_type": "code",
   "execution_count": 218,
   "metadata": {},
   "outputs": [],
   "source": [
    " q_net = tf.keras.Sequential([\n",
    "    tf.keras.layers.Conv2D(32, (8, 8), strides=(4, 4), activation='relu', input_shape=state_space_size),\n",
    "    tf.keras.layers.Conv2D(64, (4, 4), strides=(2, 2), activation='relu'),\n",
    "    tf.keras.layers.Conv2D(64, (3, 3), activation='relu'),\n",
    "    tf.keras.layers.Flatten(),\n",
    "    tf.keras.layers.Dense(512, activation='relu'),\n",
    "    tf.keras.layers.Dense(action_space_size, activation='linear')\n",
    "])\n"
   ]
  },
  {
   "cell_type": "code",
   "execution_count": 219,
   "metadata": {
    "tags": []
   },
   "outputs": [
    {
     "name": "stdout",
     "output_type": "stream",
     "text": [
      "Model: \"sequential_8\"\n",
      "_________________________________________________________________\n",
      " Layer (type)                Output Shape              Param #   \n",
      "=================================================================\n",
      " conv2d_24 (Conv2D)          (None, 4, 20, 20, 32)     2080      \n",
      "                                                                 \n",
      " conv2d_25 (Conv2D)          (None, 4, 9, 9, 64)       32832     \n",
      "                                                                 \n",
      " conv2d_26 (Conv2D)          (None, 4, 7, 7, 64)       36928     \n",
      "                                                                 \n",
      " flatten_8 (Flatten)         (None, 12544)             0         \n",
      "                                                                 \n",
      " dense_16 (Dense)            (None, 512)               6423040   \n",
      "                                                                 \n",
      " dense_17 (Dense)            (None, 6)                 3078      \n",
      "                                                                 \n",
      "=================================================================\n",
      "Total params: 6,497,958\n",
      "Trainable params: 6,497,958\n",
      "Non-trainable params: 0\n",
      "_________________________________________________________________\n"
     ]
    }
   ],
   "source": [
    "q_net.summary()"
   ]
  },
  {
   "cell_type": "code",
   "execution_count": null,
   "metadata": {
    "tags": []
   },
   "outputs": [],
   "source": []
  },
  {
   "cell_type": "code",
   "execution_count": 220,
   "metadata": {
    "tags": []
   },
   "outputs": [],
   "source": [
    " target_q_net = tf.keras.Sequential([\n",
    "    tf.keras.layers.Conv2D(32, (8, 8), strides=(4, 4), activation='relu', input_shape=state_space_size),\n",
    "    tf.keras.layers.Conv2D(64, (4, 4), strides=(2, 2), activation='relu'),\n",
    "    tf.keras.layers.Conv2D(64, (3, 3), activation='relu'),\n",
    "    tf.keras.layers.Flatten(),\n",
    "    tf.keras.layers.Dense(512, activation='relu'),\n",
    "    tf.keras.layers.Dense(action_space_size, activation='linear')\n",
    "])"
   ]
  },
  {
   "cell_type": "code",
   "execution_count": 221,
   "metadata": {
    "tags": []
   },
   "outputs": [
    {
     "data": {
      "text/plain": [
       "TensorShape([None, 4, 84, 84, 1])"
      ]
     },
     "execution_count": 221,
     "metadata": {},
     "output_type": "execute_result"
    }
   ],
   "source": [
    "target_q_net.input.shape"
   ]
  },
  {
   "cell_type": "code",
   "execution_count": 222,
   "metadata": {
    "tags": []
   },
   "outputs": [],
   "source": [
    "optimizer = Adam(learning_rate=ALPHA)"
   ]
  },
  {
   "cell_type": "code",
   "execution_count": 223,
   "metadata": {
    "tags": []
   },
   "outputs": [],
   "source": [
    "from collections import namedtuple, deque\n",
    "experience = namedtuple(\"Experience\", field_names=[\"state\", \"action\", \"reward\", \"next_state\", \"done\"])"
   ]
  },
  {
   "cell_type": "code",
   "execution_count": 224,
   "metadata": {
    "tags": []
   },
   "outputs": [],
   "source": [
    "def loss(experiences, gamma, q_net, target_q_net):\n",
    "    '''\n",
    "    y_j = R_j if episode terminates at T_{j+1}, else\n",
    "    y_j = R_j + gamma max_{a'} Q^(s_{j+1}, a')\n",
    "    '''\n",
    "    # unpack experiences into its components\n",
    "    states, actions, rewards, next_states, done_vals = experiences\n",
    "    \n",
    "    # compute max Q^(s,a)\n",
    "    max_qsa = tf.reduce_max(target_q_net(next_states), axis=-1)\n",
    "    \n",
    "    # y = R if episode terminates, else y = R + y max Q^(s,a)\n",
    "    # note: done_vals is boolean, and (1 - done_vals) == 0 if done_vals == True\n",
    "    y_targets = rewards + (gamma * max_qsa * (1 - done_vals))\n",
    "    \n",
    "    q_values = q_net(states)\n",
    "    # tf.gather_nd(params, indices) returns `indices` slices of `params`\n",
    "    q_values = tf.gather_nd(q_values, \n",
    "                            tf.stack([tf.range(q_values.shape[0]),\n",
    "                                      tf.cast(actions, tf.int32)],\n",
    "                                     axis=1\n",
    "                                    ))\n",
    "    \n",
    "    # compute MSE loss\n",
    "    return MSE(y_targets, q_values)"
   ]
  },
  {
   "cell_type": "code",
   "execution_count": 225,
   "metadata": {
    "tags": []
   },
   "outputs": [],
   "source": [
    "def learn(experiences, gamma):\n",
    "    \"\"\"\n",
    "    Fit the Q and Q target networks\n",
    "    \"\"\"\n",
    "    \n",
    "    # compute loss\n",
    "    with tf.GradientTape() as tape:\n",
    "        computed_loss = loss(experiences, gamma, q_net, target_q_net)\n",
    "        \n",
    "    # update q_net\n",
    "    gradients = tape.gradient(computed_loss, q_net.trainable_variables)\n",
    "    optimizer.apply_gradients(zip(gradients, q_net.trainable_variables))\n",
    "    \n",
    "    # update target_q_net\n",
    "    for target_weights, q_net_weights in zip(target_q_net.weights, q_net.weights):\n",
    "        target_weights.assign(TAU * q_net_weights + (1.0 - TAU) * target_weights)"
   ]
  },
  {
   "cell_type": "code",
   "execution_count": null,
   "metadata": {
    "tags": []
   },
   "outputs": [
    {
     "name": "stdout",
     "output_type": "stream",
     "text": [
      "Episode 10 | Total score average of last 100 episodes: 33.00\n",
      "Episode 20 | Total score average of last 100 episodes: 40.50\n",
      "Episode 30 | Total score average of last 100 episodes: 42.83\n",
      "Episode 40 | Total score average of last 100 episodes: 46.25\n",
      "Episode 50 | Total score average of last 100 episodes: 46.20\n",
      "Episode 60 | Total score average of last 100 episodes: 49.75\n",
      "Episode 70 | Total score average of last 100 episodes: 51.07\n",
      "Episode 80 | Total score average of last 100 episodes: 54.12\n",
      "Episode 90 | Total score average of last 100 episodes: 51.28\n",
      "Episode 100 | Total score average of last 100 episodes: 52.70\n",
      "Episode 110 | Total score average of last 100 episodes: 52.05\n",
      "Episode 120 | Total score average of last 100 episodes: 54.20\n",
      "Episode 130 | Total score average of last 100 episodes: 56.00\n",
      "Episode 140 | Total score average of last 100 episodes: 57.20\n",
      "Episode 150 | Total score average of last 100 episodes: 58.00\n",
      "Episode 157 | Total score average of last 100 episodes: 57.70"
     ]
    }
   ],
   "source": [
    "time_begin = time.time()\n",
    "episodes = 10_000 # how many times we play the game\n",
    "max_steps = 1_000 # how many actions allowed before 'time out'\n",
    "\n",
    "score_history = []\n",
    "\n",
    "avg_points = 100\n",
    "\n",
    "epsilon = 1.0 # initial epsilon for greedy policy (exploration/exploitation)\n",
    "epsilon_decay = 0.08\n",
    "epsilon_min = 0.01\n",
    "\n",
    "buffer = deque(maxlen=BUFFER_SIZE)\n",
    "\n",
    "# clone q_net into target_q_net\n",
    "target_q_net.set_weights(q_net.get_weights())\n",
    "\n",
    "for i in range(episodes):\n",
    "    state, _ = env.reset()\n",
    "    score = 0\n",
    "    \n",
    "    for t in range(max_steps):\n",
    "        state_qn = np.expand_dims(state, axis=0)\n",
    "        q_values = q_net(state_qn)\n",
    "        # make epsilon greedy choice\n",
    "        if random.random() > epsilon:\n",
    "            # exploitation\n",
    "            action = np.argmax(q_values.numpy()[0])\n",
    "        else:\n",
    "            # exploration\n",
    "            \n",
    "            action = random.choice(np.arange(int(env.action_space.n)))\n",
    "        \n",
    "        # take action and update buffer\n",
    "        next_state, reward, done, _, _ = env.step(action)\n",
    "        buffer.append(experience(state, action, reward, next_state, done))\n",
    "        \n",
    "        # check whether this is a learning step\n",
    "        if (t + 1) % STEPS_BETWEEN_LEARNING == 0 and len(buffer) > MINI_BATCH_SIZE:\n",
    "            # this is a learning step\n",
    "            experiences = random.sample(buffer, k=MINI_BATCH_SIZE)\n",
    "            states = tf.convert_to_tensor(\n",
    "                np.array([e.state for e in experiences if e is not None]),\n",
    "                dtype=tf.float32)\n",
    "            actions = tf.convert_to_tensor(\n",
    "                np.array([e.action for e in experiences if e is not None]), \n",
    "                dtype=tf.float32)\n",
    "            rewards = tf.convert_to_tensor(\n",
    "                np.array([e.reward for e in experiences if e is not None]), \n",
    "                dtype=tf.float32)\n",
    "            next_states = tf.convert_to_tensor(\n",
    "                np.array([e.next_state for e in experiences if e is not None]),\n",
    "                dtype=tf.float32)\n",
    "            done_vals = tf.convert_to_tensor(\n",
    "                np.array([e.done for e in experiences if e is not None]).astype(np.uint8),\n",
    "                dtype=tf.float32)\n",
    "            experiences = states, actions, rewards, next_states, done_vals\n",
    "            learn(experiences, GAMMA)\n",
    "            \n",
    "        state = next_state\n",
    "        score += reward\n",
    "        \n",
    "        if done: break\n",
    "        \n",
    "    score_history.append(score)\n",
    "    avg_latest_score = np.mean(score_history[-avg_points:])\n",
    "\n",
    "    # update epsilon\n",
    "    epsilon = max(epsilon_min, epsilon * epsilon_decay)\n",
    "\n",
    "    # display status\n",
    "    status_message = f'\\rEpisode {i + 1} | Total score average of last {avg_points} episodes: {avg_latest_score:.2f}'\n",
    "    print(status_message, end='')\n",
    "    if (i + 1) % 10 == 0:\n",
    "        print(status_message)\n",
    "\n",
    "    if avg_latest_score >= 200.0:\n",
    "        print(f\"\\n\\nEnvironment solved in {i+1} episodes!\")\n",
    "        q_net.save('lunar_lander_model.h5')\n",
    "        break\n",
    "            \n",
    "time_end = time.time()\n",
    "runtime = time_end - time_begin\n",
    "print(f'\\nTotal runtime: {runtime:.2f} sec. ({(runtime/60):.2f} min.)')"
   ]
  },
  {
   "cell_type": "code",
   "execution_count": null,
   "metadata": {},
   "outputs": [],
   "source": [
    "from gym.wrappers import FrameStack, GrayScaleObservation, ResizeObservation,AtariPreprocessing, FrameStack\n",
    "\n",
    "env = gym.make('SpaceInvaders-v4', render_mode='rgb_array')\n",
    "\n",
    "\n",
    "\n",
    "env = AtariPreprocessing(env,noop_max =30,frame_skip = 1,screen_size = 84, terminal_on_life_loss = True,grayscale_obs= True, grayscale_newaxis= True)\n",
    "\n",
    "env = FrameStack(env=env, num_stack=4,lz4_compress=True)"
   ]
  },
  {
   "cell_type": "code",
   "execution_count": 190,
   "metadata": {
    "tags": []
   },
   "outputs": [
    {
     "data": {
      "text/plain": [
       "(4, 84, 84, 1)"
      ]
     },
     "execution_count": 190,
     "metadata": {},
     "output_type": "execute_result"
    }
   ],
   "source": [
    "env.observation_space.shape"
   ]
  },
  {
   "cell_type": "code",
   "execution_count": null,
   "metadata": {
    "tags": []
   },
   "outputs": [],
   "source": []
  },
  {
   "cell_type": "code",
   "execution_count": 198,
   "metadata": {
    "tags": []
   },
   "outputs": [],
   "source": [
    "state, _, terminated, _, _ = env.step(action)"
   ]
  },
  {
   "cell_type": "code",
   "execution_count": 204,
   "metadata": {
    "tags": []
   },
   "outputs": [],
   "source": [
    "total_rewardos = []"
   ]
  },
  {
   "cell_type": "code",
   "execution_count": 200,
   "metadata": {
    "tags": []
   },
   "outputs": [
    {
     "data": {
      "text/plain": [
       "(4, 84, 84, 1)"
      ]
     },
     "execution_count": 200,
     "metadata": {},
     "output_type": "execute_result"
    }
   ],
   "source": [
    "state.shape"
   ]
  },
  {
   "cell_type": "code",
   "execution_count": 211,
   "metadata": {},
   "outputs": [
    {
     "name": "stdout",
     "output_type": "stream",
     "text": [
      "3\n",
      "0\n",
      "1\n",
      "5\n",
      "5\n",
      "0\n",
      "0\n",
      "0\n",
      "0\n",
      "5\n",
      "5\n",
      "0\n",
      "0\n",
      "0\n",
      "0\n",
      "1\n",
      "5\n",
      "5\n",
      "0\n",
      "0\n",
      "0\n",
      "1\n",
      "5\n",
      "2\n",
      "0\n",
      "0\n",
      "1\n",
      "5\n",
      "5\n",
      "0\n",
      "0\n",
      "0\n",
      "0\n",
      "5\n",
      "5\n",
      "5\n",
      "5\n",
      "2\n",
      "2\n",
      "2\n",
      "2\n",
      "4\n",
      "4\n",
      "4\n",
      "2\n",
      "2\n",
      "0\n",
      "2\n",
      "2\n",
      "2\n",
      "5\n",
      "5\n",
      "1\n",
      "1\n",
      "1\n",
      "5\n",
      "5\n",
      "5\n",
      "0\n",
      "4\n",
      "0\n",
      "5\n",
      "0\n",
      "4\n",
      "5\n",
      "4\n",
      "4\n",
      "4\n",
      "4\n",
      "4\n",
      "0\n",
      "0\n",
      "0\n",
      "4\n",
      "4\n",
      "4\n",
      "5\n",
      "5\n",
      "0\n",
      "0\n",
      "0\n",
      "0\n",
      "0\n",
      "0\n",
      "0\n",
      "0\n",
      "0\n",
      "0\n",
      "0\n",
      "0\n",
      "0\n",
      "0\n",
      "0\n",
      "0\n",
      "2\n",
      "0\n",
      "0\n",
      "0\n",
      "0\n",
      "0\n",
      "0\n",
      "0\n",
      "0\n",
      "0\n",
      "0\n",
      "0\n",
      "0\n",
      "0\n",
      "0\n",
      "0\n",
      "0\n",
      "0\n",
      "0\n",
      "0\n",
      "0\n",
      "0\n",
      "0\n",
      "0\n",
      "0\n",
      "0\n",
      "0\n",
      "0\n",
      "Ai got reward of140.0\n"
     ]
    }
   ],
   "source": [
    "env.reset()\n",
    "while True:\n",
    "    #state = env.render()\n",
    "    state = np.expand_dims(state, axis=0)\n",
    "    #print(state.shape)\n",
    "    q_values = q_net(state)\n",
    "    action = np.argmax(q_values.numpy()[0])\n",
    "    #print(str(action))\n",
    "    state, reward, terminated, _, _ = env.step(action)\n",
    "    #print(reward)\n",
    "    total_rewardos.append(reward)\n",
    "    \n",
    "    if terminated:\n",
    "        break\n",
    "print (\"Ai got reward of\" + str(sum(total_rewardos)))"
   ]
  },
  {
   "cell_type": "markdown",
   "metadata": {},
   "source": [
    "# Q learning netowrk"
   ]
  },
  {
   "cell_type": "code",
   "execution_count": 68,
   "metadata": {
    "tags": []
   },
   "outputs": [],
   "source": [
    "#env = gym.make('SpaceInvaders-v4',render_mode='rgb_array')\n"
   ]
  },
  {
   "cell_type": "code",
   "execution_count": 145,
   "metadata": {
    "tags": []
   },
   "outputs": [],
   "source": [
    "from gym.wrappers import FrameStack, GrayScaleObservation, ResizeObservation,AtariPreprocessing\n",
    "\n",
    "env = gym.make('SpaceInvaders-v4', render_mode='rgb_array')\n",
    "\n",
    "\n",
    "\n",
    "env = AtariPreprocessing(env,noop_max =30,frame_skip = 1,screen_size = 84, terminal_on_life_loss = True,grayscale_obs= True, grayscale_newaxis= True)\n",
    "\n",
    "#env = FrameStack(env=env, num_stack=4,lz4_compress=True)\n"
   ]
  },
  {
   "cell_type": "code",
   "execution_count": null,
   "metadata": {
    "tags": []
   },
   "outputs": [],
   "source": []
  },
  {
   "cell_type": "code",
   "execution_count": 146,
   "metadata": {
    "tags": []
   },
   "outputs": [],
   "source": [
    "action_size = env.action_space.n # action_space is 6 but we try to remove fire left and fire right\n",
    "state_size = env.observation_space.shape\n",
    "q_table = np.zeros((state_size[0], state_size[1], state_size[2], action_size))"
   ]
  },
  {
   "cell_type": "code",
   "execution_count": null,
   "metadata": {
    "tags": []
   },
   "outputs": [],
   "source": []
  },
  {
   "cell_type": "code",
   "execution_count": 147,
   "metadata": {
    "tags": []
   },
   "outputs": [
    {
     "name": "stdout",
     "output_type": "stream",
     "text": [
      "(84, 84, 1, 6)\n"
     ]
    }
   ],
   "source": [
    "print(q_table.shape)"
   ]
  },
  {
   "cell_type": "code",
   "execution_count": 148,
   "metadata": {
    "tags": []
   },
   "outputs": [],
   "source": [
    "rewards_all_episodes = []"
   ]
  },
  {
   "cell_type": "code",
   "execution_count": 149,
   "metadata": {
    "tags": []
   },
   "outputs": [],
   "source": [
    "#state_counts = [0] * (state_space_size[0], state_space_size[1], state_space_size[2], action_size)\n"
   ]
  },
  {
   "cell_type": "code",
   "execution_count": 150,
   "metadata": {
    "tags": []
   },
   "outputs": [],
   "source": [
    "exploration_count = 0\n",
    "exploitation_count = 0\n",
    "last_reward_sum = 0 # this is for step episode by eposode obs"
   ]
  },
  {
   "cell_type": "code",
   "execution_count": 151,
   "metadata": {
    "tags": []
   },
   "outputs": [],
   "source": [
    "num_episodes = 4000\n",
    "max_steps_per_episode = 1000\n",
    "\n",
    "learning_rate = 0.1\n",
    "discount_rate = 0.6\n",
    "\n",
    "exploration_rate = 1\n",
    "max_exploration_rate = 0.9\n",
    "min_exploration_rate = 0.05\n",
    "exploration_decay_rate = 0.004"
   ]
  },
  {
   "cell_type": "code",
   "execution_count": 188,
   "metadata": {
    "tags": []
   },
   "outputs": [
    {
     "data": {
      "text/plain": [
       "4"
      ]
     },
     "execution_count": 188,
     "metadata": {},
     "output_type": "execute_result"
    }
   ],
   "source": [
    "env.action_space.sample()"
   ]
  },
  {
   "cell_type": "code",
   "execution_count": 152,
   "metadata": {
    "tags": []
   },
   "outputs": [],
   "source": [
    "def try_hyperparameters(discount_rate,learning_rate,exploration_decay_rate):\n",
    "    rewards_all_episodes = []\n",
    "    \n",
    "    exploration_count = 0\n",
    "    exploitation_count = 0\n",
    "    last_reward_sum = 0\n",
    "    \n",
    "    exploration_rate = 1\n",
    "    max_exploration_rate = 0.9\n",
    "    min_exploration_rate = 0.05\n",
    "    num_episodes = 2000\n",
    "    max_steps_per_episode = 1000\n",
    "    # Q-learning algorithm\n",
    "\n",
    "    for episode in range(num_episodes):\n",
    "        state, _ = env.reset()\n",
    "\n",
    "        done = False\n",
    "        rewards_current_episode = 0\n",
    "\n",
    "        for step in range(max_steps_per_episode):\n",
    "\n",
    "            # Exmploration-exploitation trade-off\n",
    "            exploration_rate_threshold = random.uniform(0, 1)\n",
    "            if exploration_rate_threshold > exploration_rate:\n",
    "                exploitation_count += 1\n",
    "\n",
    "                action = np.argmax(q_table[state[0],state[1],state[2],:])\n",
    "            else:\n",
    "                exploration_count += 1\n",
    "                action = action = random.choice(np.arange(int(env.action_space.n)))\n",
    "\n",
    "            #print(action)\n",
    "            new_state, reward, done, truncated, info = env.step(action)\n",
    "\n",
    "            # Update Q-table for Q(s,a)\n",
    "            #print(\"state: \" + str(state) + \" Action: \" + str(action))\n",
    "            try: \n",
    "                q_table[state[0],state[1],state[2], action] = q_table[state[0],state[1],state[2], action] * (1 - learning_rate) + \\\n",
    "                    learning_rate * (reward + discount_rate * np.max(q_table[new_state[0],new_state[1],new_state[2],:]))\n",
    "            except: \n",
    "                continue\n",
    "                #print(str(state[0]), str(state[1]) + str(state[2]))\n",
    "\n",
    "            state = new_state\n",
    "            #state_counts[np.prod(state)] += 1\n",
    "            rewards_current_episode += reward\n",
    "\n",
    "            if done:\n",
    "                break\n",
    "\n",
    "        # Exploration rate decay\n",
    "        exploration_rate = min_exploration_rate + \\\n",
    "            (max_exploration_rate - min_exploration_rate) * np.exp(-exploration_decay_rate * episode)\n",
    "\n",
    "        rewards_all_episodes.append(rewards_current_episode)\n",
    "\n",
    "    _ = \"\"\"    \n",
    "        if np.sum(rewards_all_episodes) > last_reward_sum:\n",
    "            last_reward_sum = np.sum(rewards_all_episodes)\n",
    "            print(episode, state, action, last_reward_sum)\n",
    "            print(q_table)\n",
    "            input('press enter to continue')\n",
    "    \"\"\"\n",
    "    return sum(rewards_all_episodes)"
   ]
  },
  {
   "cell_type": "markdown",
   "metadata": {
    "tags": []
   },
   "source": [
    "# Calculate and print the average reward per thousand episodes\n",
    "\n",
    "rewards_per_thousand_episodes = np.split(np.array(rewards_all_episodes), num_episodes / 1)\n",
    "count = 1_000\n",
    "\n",
    "print('*** Average reward per thousand episodes ***')\n",
    "for r in rewards_per_thousand_episodes:\n",
    "    print(count, ':', str(sum(r/1_000)))\n",
    "    count += 1_000\n",
    "    \n",
    "print('\\n\\n\\n*** Q-table ***')\n",
    "print(q_table)\n",
    "\n",
    "#print('\\n\\n\\n*** State counts ***')\n",
    "#print(state_counts)\n",
    "\n",
    "print('\\n\\n\\n*** Exploration/Exploitation count ***')\n",
    "print(exploration_count, exploitation_count)"
   ]
  },
  {
   "cell_type": "code",
   "execution_count": 153,
   "metadata": {
    "tags": []
   },
   "outputs": [],
   "source": [
    "#env.close()"
   ]
  },
  {
   "cell_type": "code",
   "execution_count": 154,
   "metadata": {
    "tags": []
   },
   "outputs": [],
   "source": [
    "#env = gym.make('SpaceInvaders-v4',render_mode='human')"
   ]
  },
  {
   "cell_type": "markdown",
   "metadata": {
    "tags": []
   },
   "source": [
    "rec = EnvVideoRecorder(env)\n",
    "rec.reset()\n",
    "rec.render()"
   ]
  },
  {
   "cell_type": "markdown",
   "metadata": {
    "tags": []
   },
   "source": [
    "for episode in range(10):\n",
    "    state, _ = rec.reset()\n",
    "    done = False\n",
    "    total_reward = []\n",
    "    print(f'*** EPISODE {episode} ***')\n",
    "    time.sleep(1)\n",
    "    \n",
    "    for step in range(max_steps_per_episode):\n",
    "        rec.render()\n",
    "        \n",
    "        #time.sleep(0.1)\n",
    "        \n",
    "        action = np.argmax(q_table[state[0],state[1],state[2],:])\n",
    "        print(f'{action}', end='')\n",
    "        \n",
    "        new_state, reward, done, truncated, info = rec.step(action)\n",
    "        total_reward.append(reward)\n",
    "        if done:\n",
    "            rec.render()\n",
    "            if reward == 1:\n",
    "                print('reward' + str(sum(total_reward)))\n",
    "                print('\\nYEEAAHH!!')\n",
    "            else:\n",
    "                print('reward' + str(sum(total_reward)))\n",
    "                print('\\nBUUUUH!!!')\n",
    "            #time.sleep(1)\n",
    "            break\n",
    "            \n",
    "        state = new_state\n",
    "\n",
    "rec.save('video/frozen-lake.mp4')"
   ]
  },
  {
   "cell_type": "code",
   "execution_count": 155,
   "metadata": {
    "tags": []
   },
   "outputs": [],
   "source": [
    "## in general Ai either goes action 4 or 5 all out which is either rightFire or leftfire, so we i wanna try"
   ]
  },
  {
   "cell_type": "code",
   "execution_count": 156,
   "metadata": {
    "tags": []
   },
   "outputs": [
    {
     "data": {
      "text/plain": [
       "(84, 84, 1)"
      ]
     },
     "execution_count": 156,
     "metadata": {},
     "output_type": "execute_result"
    }
   ],
   "source": [
    "env.observation_space.shape"
   ]
  },
  {
   "cell_type": "markdown",
   "metadata": {},
   "source": []
  },
  {
   "cell_type": "code",
   "execution_count": 157,
   "metadata": {
    "tags": []
   },
   "outputs": [
    {
     "ename": "KeyboardInterrupt",
     "evalue": "",
     "output_type": "error",
     "traceback": [
      "\u001b[0;31m---------------------------------------------------------------------------\u001b[0m",
      "\u001b[0;31mKeyboardInterrupt\u001b[0m                         Traceback (most recent call last)",
      "Cell \u001b[0;32mIn[157], line 8\u001b[0m\n\u001b[1;32m      6\u001b[0m exploration_decay_rate \u001b[38;5;241m=\u001b[39m random\u001b[38;5;241m.\u001b[39muniform(\u001b[38;5;241m0.0002\u001b[39m,\u001b[38;5;241m0.02\u001b[39m)\n\u001b[1;32m      7\u001b[0m \u001b[38;5;66;03m#print(\"learning_rate: \"+ str(learning_rate) + \" discount_rate_ \"+ str(discount_rate) + \" exploration_decay_rate\" + str(exploration_decay_rate))\u001b[39;00m\n\u001b[0;32m----> 8\u001b[0m rewards \u001b[38;5;241m=\u001b[39m \u001b[43mtry_hyperparameters\u001b[49m\u001b[43m(\u001b[49m\u001b[43mlearning_rate\u001b[49m\u001b[38;5;241;43m=\u001b[39;49m\u001b[43mlearning_rate\u001b[49m\u001b[43m,\u001b[49m\u001b[43mdiscount_rate\u001b[49m\u001b[38;5;241;43m=\u001b[39;49m\u001b[43mdiscount_rate\u001b[49m\u001b[43m,\u001b[49m\u001b[43m \u001b[49m\u001b[43mexploration_decay_rate\u001b[49m\u001b[43m \u001b[49m\u001b[38;5;241;43m=\u001b[39;49m\u001b[43m \u001b[49m\u001b[43mexploration_decay_rate\u001b[49m\u001b[43m)\u001b[49m\n\u001b[1;32m      9\u001b[0m \u001b[38;5;28mprint\u001b[39m(\u001b[38;5;124m\"\u001b[39m\u001b[38;5;124mWith learning rate: \u001b[39m\u001b[38;5;124m\"\u001b[39m \u001b[38;5;241m+\u001b[39m \u001b[38;5;28mstr\u001b[39m(learning_rate) \u001b[38;5;241m+\u001b[39m \u001b[38;5;124m\"\u001b[39m\u001b[38;5;124m Discount_rate: \u001b[39m\u001b[38;5;124m\"\u001b[39m \u001b[38;5;241m+\u001b[39m \u001b[38;5;28mstr\u001b[39m(discount_rate) \u001b[38;5;241m+\u001b[39m \u001b[38;5;124m\"\u001b[39m\u001b[38;5;124m exploration_decay_rate: \u001b[39m\u001b[38;5;124m\"\u001b[39m \u001b[38;5;241m+\u001b[39m \u001b[38;5;28mstr\u001b[39m(exploration_decay_rate) \u001b[38;5;241m+\u001b[39m \u001b[38;5;124m\"\u001b[39m\u001b[38;5;124m Got the reward: \u001b[39m\u001b[38;5;124m\"\u001b[39m \u001b[38;5;241m+\u001b[39m \u001b[38;5;28mstr\u001b[39m(rewards))\n",
      "Cell \u001b[0;32mIn[152], line 33\u001b[0m, in \u001b[0;36mtry_hyperparameters\u001b[0;34m(discount_rate, learning_rate, exploration_decay_rate)\u001b[0m\n\u001b[1;32m     31\u001b[0m     action \u001b[38;5;241m=\u001b[39m env\u001b[38;5;241m.\u001b[39maction_space\u001b[38;5;241m.\u001b[39msample()\n\u001b[1;32m     32\u001b[0m \u001b[38;5;66;03m#print(action)\u001b[39;00m\n\u001b[0;32m---> 33\u001b[0m new_state, reward, done, truncated, info \u001b[38;5;241m=\u001b[39m \u001b[43menv\u001b[49m\u001b[38;5;241;43m.\u001b[39;49m\u001b[43mstep\u001b[49m\u001b[43m(\u001b[49m\u001b[43maction\u001b[49m\u001b[43m)\u001b[49m\n\u001b[1;32m     35\u001b[0m \u001b[38;5;66;03m# Update Q-table for Q(s,a)\u001b[39;00m\n\u001b[1;32m     36\u001b[0m \u001b[38;5;66;03m#print(\"state: \" + str(state) + \" Action: \" + str(action))\u001b[39;00m\n\u001b[1;32m     37\u001b[0m \u001b[38;5;28;01mtry\u001b[39;00m: \n",
      "File \u001b[0;32m/opt/anaconda3/envs/AI-Mac/lib/python3.9/site-packages/gym/wrappers/atari_preprocessing.py:146\u001b[0m, in \u001b[0;36mAtariPreprocessing.step\u001b[0;34m(self, action)\u001b[0m\n\u001b[1;32m    144\u001b[0m         \u001b[38;5;28;01melse\u001b[39;00m:\n\u001b[1;32m    145\u001b[0m             \u001b[38;5;28mself\u001b[39m\u001b[38;5;241m.\u001b[39male\u001b[38;5;241m.\u001b[39mgetScreenRGB(\u001b[38;5;28mself\u001b[39m\u001b[38;5;241m.\u001b[39mobs_buffer[\u001b[38;5;241m0\u001b[39m])\n\u001b[0;32m--> 146\u001b[0m \u001b[38;5;28;01mreturn\u001b[39;00m \u001b[38;5;28;43mself\u001b[39;49m\u001b[38;5;241;43m.\u001b[39;49m\u001b[43m_get_obs\u001b[49m\u001b[43m(\u001b[49m\u001b[43m)\u001b[49m, total_reward, terminated, truncated, info\n",
      "File \u001b[0;32m/opt/anaconda3/envs/AI-Mac/lib/python3.9/site-packages/gym/wrappers/atari_preprocessing.py:177\u001b[0m, in \u001b[0;36mAtariPreprocessing._get_obs\u001b[0;34m(self)\u001b[0m\n\u001b[1;32m    175\u001b[0m     np\u001b[38;5;241m.\u001b[39mmaximum(\u001b[38;5;28mself\u001b[39m\u001b[38;5;241m.\u001b[39mobs_buffer[\u001b[38;5;241m0\u001b[39m], \u001b[38;5;28mself\u001b[39m\u001b[38;5;241m.\u001b[39mobs_buffer[\u001b[38;5;241m1\u001b[39m], out\u001b[38;5;241m=\u001b[39m\u001b[38;5;28mself\u001b[39m\u001b[38;5;241m.\u001b[39mobs_buffer[\u001b[38;5;241m0\u001b[39m])\n\u001b[1;32m    176\u001b[0m \u001b[38;5;28;01massert\u001b[39;00m cv2 \u001b[38;5;129;01mis\u001b[39;00m \u001b[38;5;129;01mnot\u001b[39;00m \u001b[38;5;28;01mNone\u001b[39;00m\n\u001b[0;32m--> 177\u001b[0m obs \u001b[38;5;241m=\u001b[39m \u001b[43mcv2\u001b[49m\u001b[38;5;241;43m.\u001b[39;49m\u001b[43mresize\u001b[49m\u001b[43m(\u001b[49m\n\u001b[1;32m    178\u001b[0m \u001b[43m    \u001b[49m\u001b[38;5;28;43mself\u001b[39;49m\u001b[38;5;241;43m.\u001b[39;49m\u001b[43mobs_buffer\u001b[49m\u001b[43m[\u001b[49m\u001b[38;5;241;43m0\u001b[39;49m\u001b[43m]\u001b[49m\u001b[43m,\u001b[49m\n\u001b[1;32m    179\u001b[0m \u001b[43m    \u001b[49m\u001b[43m(\u001b[49m\u001b[38;5;28;43mself\u001b[39;49m\u001b[38;5;241;43m.\u001b[39;49m\u001b[43mscreen_size\u001b[49m\u001b[43m,\u001b[49m\u001b[43m \u001b[49m\u001b[38;5;28;43mself\u001b[39;49m\u001b[38;5;241;43m.\u001b[39;49m\u001b[43mscreen_size\u001b[49m\u001b[43m)\u001b[49m\u001b[43m,\u001b[49m\n\u001b[1;32m    180\u001b[0m \u001b[43m    \u001b[49m\u001b[43minterpolation\u001b[49m\u001b[38;5;241;43m=\u001b[39;49m\u001b[43mcv2\u001b[49m\u001b[38;5;241;43m.\u001b[39;49m\u001b[43mINTER_AREA\u001b[49m\u001b[43m,\u001b[49m\n\u001b[1;32m    181\u001b[0m \u001b[43m\u001b[49m\u001b[43m)\u001b[49m\n\u001b[1;32m    183\u001b[0m \u001b[38;5;28;01mif\u001b[39;00m \u001b[38;5;28mself\u001b[39m\u001b[38;5;241m.\u001b[39mscale_obs:\n\u001b[1;32m    184\u001b[0m     obs \u001b[38;5;241m=\u001b[39m np\u001b[38;5;241m.\u001b[39masarray(obs, dtype\u001b[38;5;241m=\u001b[39mnp\u001b[38;5;241m.\u001b[39mfloat32) \u001b[38;5;241m/\u001b[39m \u001b[38;5;241m255.0\u001b[39m\n",
      "\u001b[0;31mKeyboardInterrupt\u001b[0m: "
     ]
    }
   ],
   "source": [
    "## Randomized search\n",
    "exploration_decay_rate = 0\n",
    "for i in range(50):\n",
    "    learning_rate = random.uniform(0.001, 0.2)\n",
    "    discount_rate = random.uniform(0.5,0.9)\n",
    "    exploration_decay_rate = random.uniform(0.0002,0.02)\n",
    "    #print(\"learning_rate: \"+ str(learning_rate) + \" discount_rate_ \"+ str(discount_rate) + \" exploration_decay_rate\" + str(exploration_decay_rate))\n",
    "    rewards = try_hyperparameters(learning_rate=learning_rate,discount_rate=discount_rate, exploration_decay_rate = exploration_decay_rate)\n",
    "    print(\"With learning rate: \" + str(learning_rate) + \" Discount_rate: \" + str(discount_rate) + \" exploration_decay_rate: \" + str(exploration_decay_rate) + \" Got the reward: \" + str(rewards))"
   ]
  },
  {
   "cell_type": "code",
   "execution_count": 158,
   "metadata": {},
   "outputs": [],
   "source": [
    "#learning_rate = 0.1\n",
    "#discount_rate = 0.6\n",
    "#exploration_decay_rate = 0.004"
   ]
  },
  {
   "cell_type": "code",
   "execution_count": null,
   "metadata": {
    "tags": []
   },
   "outputs": [],
   "source": [
    "#grid Search \n",
    "discount_rates = [0.6]\n",
    "learning_rates = [0.01,0.03,0.05,0.07,0.1]\n",
    "exploration_decay_rates = [0.001,0.01,0.1]\n",
    "\n",
    "for discount_rate in discount_rates:\n",
    "    for learning_rate in learning_rates:\n",
    "        for exploration_decay_rate in exploration_decay_rates:\n",
    "            rewards = try_hyperparameters(learning_rate=learning_rate,discount_rate=discount_rate, exploration_decay_rate = exploration_decay_rate)\n",
    "            print(\"With learning rate: \" + str(learning_rate) + \" Discount_rate: \" + str(discount_rate) + \" exploration_decay_rate: \" + str(exploration_decay_rate) + \" Got the reward: \" + str(rewards))\n",
    "        "
   ]
  },
  {
   "cell_type": "code",
   "execution_count": 159,
   "metadata": {
    "tags": []
   },
   "outputs": [],
   "source": [
    " ## Test run with found hyperparmmeters using 10000 episodes \n",
    "rewards_all_episodes = []\n",
    "    \n",
    "learning_rate = 0.01\n",
    "discount_rate = 0.6 \n",
    "exploration_decay_rate = 0.001\n",
    "    \n",
    "exploration_count = 0\n",
    "exploitation_count = 0\n",
    "last_reward_sum = 0\n",
    "    \n",
    "exploration_rate = 1\n",
    "max_exploration_rate = 0.9\n",
    "min_exploration_rate = 0.05\n",
    "num_episodes = 10_000\n",
    "max_steps_per_episode = 1000\n",
    "# Q-learning algorithm\n",
    "\n",
    "for episode in range(num_episodes):\n",
    "    state, _ = env.reset()\n",
    "\n",
    "    done = False\n",
    "    rewards_current_episode = 0\n",
    "\n",
    "    for step in range(max_steps_per_episode):\n",
    "\n",
    "            # Exmploration-exploitation trade-off\n",
    "        exploration_rate_threshold = random.uniform(0, 1)\n",
    "        if exploration_rate_threshold > exploration_rate:\n",
    "            exploitation_count += 1\n",
    "\n",
    "            action = np.argmax(q_table[state[0],state[1],state[2],:])\n",
    "        else:\n",
    "            exploration_count += 1\n",
    "            action = env.action_space.sample()\n",
    "        #print(action)\n",
    "        new_state, reward, done, truncated, info = env.step(action)\n",
    "\n",
    "            # Update Q-table for Q(s,a)\n",
    "            #print(\"state: \" + str(state) + \" Action: \" + str(action))\n",
    "        try: \n",
    "            q_table[state[0],state[1],state[2], action] = q_table[state[0],state[1],state[2], action] * (1 - learning_rate) + \\\n",
    "                learning_rate * (reward + discount_rate * np.max(q_table[new_state[0],new_state[1],new_state[2],:]))\n",
    "        except: \n",
    "            continue\n",
    "                #print(str(state[0]), str(state[1]) + str(state[2]))\n",
    "\n",
    "        state = new_state\n",
    "        #state_counts[np.prod(state)] += 1\n",
    "        rewards_current_episode += reward\n",
    "\n",
    "        if done:\n",
    "            break\n",
    "\n",
    "    # Exploration rate decay\n",
    "    exploration_rate = min_exploration_rate + \\\n",
    "        (max_exploration_rate - min_exploration_rate) * np.exp(-exploration_decay_rate * episode)\n",
    "\n",
    "    rewards_all_episodes.append(rewards_current_episode)\n",
    "\n",
    "    _ = \"\"\"    \n",
    "        if np.sum(rewards_all_episodes) > last_reward_sum:\n",
    "            last_reward_sum = np.sum(rewards_all_episodes)\n",
    "            print(episode, state, action, last_reward_sum)\n",
    "            print(q_table)\n",
    "            input('press enter to continue')\n",
    "    \"\"\""
   ]
  },
  {
   "cell_type": "code",
   "execution_count": 160,
   "metadata": {
    "tags": []
   },
   "outputs": [
    {
     "name": "stderr",
     "output_type": "stream",
     "text": [
      "/opt/anaconda3/envs/AI-Mac/lib/python3.9/site-packages/gym/utils/passive_env_checker.py:289: UserWarning: \u001b[33mWARN: No render fps was declared in the environment (env.metadata['render_fps'] is None or not defined), rendering may occur at inconsistent fps.\u001b[0m\n",
      "  logger.warn(\n"
     ]
    },
    {
     "data": {
      "text/plain": [
       "array([[[ 0,  0,  0],\n",
       "        [ 0,  0,  0],\n",
       "        [ 0,  0,  0],\n",
       "        ...,\n",
       "        [ 0,  0,  0],\n",
       "        [ 0,  0,  0],\n",
       "        [ 0,  0,  0]],\n",
       "\n",
       "       [[ 0,  0,  0],\n",
       "        [ 0,  0,  0],\n",
       "        [ 0,  0,  0],\n",
       "        ...,\n",
       "        [ 0,  0,  0],\n",
       "        [ 0,  0,  0],\n",
       "        [ 0,  0,  0]],\n",
       "\n",
       "       [[ 0,  0,  0],\n",
       "        [ 0,  0,  0],\n",
       "        [ 0,  0,  0],\n",
       "        ...,\n",
       "        [ 0,  0,  0],\n",
       "        [ 0,  0,  0],\n",
       "        [ 0,  0,  0]],\n",
       "\n",
       "       ...,\n",
       "\n",
       "       [[80, 89, 22],\n",
       "        [80, 89, 22],\n",
       "        [80, 89, 22],\n",
       "        ...,\n",
       "        [80, 89, 22],\n",
       "        [80, 89, 22],\n",
       "        [80, 89, 22]],\n",
       "\n",
       "       [[80, 89, 22],\n",
       "        [80, 89, 22],\n",
       "        [80, 89, 22],\n",
       "        ...,\n",
       "        [80, 89, 22],\n",
       "        [80, 89, 22],\n",
       "        [80, 89, 22]],\n",
       "\n",
       "       [[80, 89, 22],\n",
       "        [80, 89, 22],\n",
       "        [80, 89, 22],\n",
       "        ...,\n",
       "        [80, 89, 22],\n",
       "        [80, 89, 22],\n",
       "        [80, 89, 22]]], dtype=uint8)"
      ]
     },
     "execution_count": 160,
     "metadata": {},
     "output_type": "execute_result"
    }
   ],
   "source": [
    "rec = EnvVideoRecorder(env)\n",
    "rec.reset()\n",
    "rec.render()"
   ]
  },
  {
   "cell_type": "code",
   "execution_count": 161,
   "metadata": {
    "tags": []
   },
   "outputs": [
    {
     "name": "stdout",
     "output_type": "stream",
     "text": [
      "*** EPISODE 0 ***\n",
      "444444444444444444444444444444444444444444444444444444444444444444444444444444444444444444444444444444444444444444444444444444444444444444444444444444444444444444444444444444444444444444444444444444444444444444444444444444444444444444444444reward115.0\n",
      "\n",
      "BUUUUH!!!\n",
      "*** EPISODE 1 ***\n",
      "444444444444444444444444444444444444444444444444444444444444444444444444444444444444444444444444444444444444444444444444444444444444444444444444444444444444444444444444444444444444444444444444444444444444444444444444444444reward115.0\n",
      "\n",
      "BUUUUH!!!\n",
      "*** EPISODE 2 ***\n",
      "444444444444444444444444444444444444444444444444444444444444444444444444444444444444444444444444444444444444444444444444444444444444444444444444444444444444444444444444444444444444444444444444444444444444444444444444444444444444444444444444444444444reward115.0\n",
      "\n",
      "BUUUUH!!!\n",
      "*** EPISODE 3 ***\n",
      "444444444444444444444444444444444444444444444444444444444444444444444444444444444444444444444444444444444444444444444444444444444444444444444444444444444444444444444444444444444444444444444444444444444444444444444444444444444444444444444444444444reward115.0\n",
      "\n",
      "BUUUUH!!!\n",
      "*** EPISODE 4 ***\n",
      "4444444444444444444444444444444444444444444444444444444444444444444444444444444444444444444444444444444444444444444444444444444444444444444444444444444444444444444444444444444444444444444444444444444444444444444444444444444444444444444444444444444reward115.0\n",
      "\n",
      "BUUUUH!!!\n",
      "*** EPISODE 5 ***\n",
      "44444444444444444444444444444444444444444444444444444444444444444444444444444444444444444444444444444444444444444444444444444444444444444444444444444444444444444444444444444444444444444444444444444444444444444444444444444444444444444444444444444reward115.0\n",
      "\n",
      "BUUUUH!!!\n",
      "*** EPISODE 6 ***\n",
      "4444444444444444444444444444444444444444444444444444444444444444444444444444444444444444444444444444444444444444444444444444444444444444444444444444444444444444444444444444444444444444444444444444444444444444444444444444444444444444444reward115.0\n",
      "\n",
      "BUUUUH!!!\n",
      "*** EPISODE 7 ***\n",
      "44444444444444444444444444444444444444444444444444444444444444444444444444444444444444444444444444444444444444444444444444444444444444444444444444444444444444444444444444444444444444444444444444444444444444444444444444444444444reward115.0\n",
      "\n",
      "BUUUUH!!!\n",
      "*** EPISODE 8 ***\n",
      "4444444444444444444444444444444444444444444444444444444444444444444444444444444444444444444444444444444444444444444444444444444444444444444444444444444444444444444444444444444444444444444444444444444444444444444444444444444reward115.0\n",
      "\n",
      "BUUUUH!!!\n",
      "*** EPISODE 9 ***\n"
     ]
    },
    {
     "name": "stderr",
     "output_type": "stream",
     "text": [
      "WARNING:imageio_ffmpeg:IMAGEIO FFMPEG_WRITER WARNING: input image is not divisible by macro_block_size=16, resizing from (160, 210) to (160, 224) to ensure video compatibility with most codecs and players. To prevent resizing, make your input image divisible by the macro_block_size or set the macro_block_size to 1 (risking incompatibility).\n"
     ]
    },
    {
     "name": "stdout",
     "output_type": "stream",
     "text": [
      "44444444444444444444444444444444444444444444444444444444444444444444444444444444444444444444444444444444444444444444444444444444444444444444444444444444444444444444444444444444444444444444444444444444444444444444444444444reward115.0\n",
      "\n",
      "BUUUUH!!!\n"
     ]
    }
   ],
   "source": [
    "for episode in range(10):\n",
    "    state, _ = rec.reset()\n",
    "    done = False\n",
    "    total_reward = []\n",
    "    print(f'*** EPISODE {episode} ***')\n",
    "    time.sleep(1)\n",
    "    \n",
    "    for step in range(max_steps_per_episode):\n",
    "        #rec.render()\n",
    "        \n",
    "        #time.sleep(0.1)\n",
    "        \n",
    "        action = np.argmax(q_table[state[0],state[1],state[2],:])\n",
    "        print(f'{action}', end='')\n",
    "        \n",
    "        new_state, reward, done, truncated, info = rec.step(action)\n",
    "        total_reward.append(reward)\n",
    "        if done:\n",
    "            rec.render()\n",
    "            if reward == 1:\n",
    "                print('reward' + str(sum(total_reward)))\n",
    "                print('\\nYEEAAHH!!')\n",
    "            else:\n",
    "                print('reward' + str(sum(total_reward)))\n",
    "                print('\\nBUUUUH!!!')\n",
    "            #time.sleep(1)\n",
    "            break\n",
    "            \n",
    "        state = new_state\n",
    "\n",
    "rec.save('video/frozen-lake.mp4')"
   ]
  },
  {
   "cell_type": "code",
   "execution_count": null,
   "metadata": {
    "tags": []
   },
   "outputs": [],
   "source": [
    "rec.embed_jupyter() "
   ]
  },
  {
   "cell_type": "code",
   "execution_count": null,
   "metadata": {},
   "outputs": [],
   "source": []
  }
 ],
 "metadata": {
  "kernelspec": {
   "display_name": "Python 3 (ipykernel)",
   "language": "python",
   "name": "python3"
  },
  "language_info": {
   "codemirror_mode": {
    "name": "ipython",
    "version": 3
   },
   "file_extension": ".py",
   "mimetype": "text/x-python",
   "name": "python",
   "nbconvert_exporter": "python",
   "pygments_lexer": "ipython3",
   "version": "3.11.3 (main, Apr  7 2023, 20:13:31) [Clang 14.0.0 (clang-1400.0.29.202)]"
  },
  "vscode": {
   "interpreter": {
    "hash": "b0fa6594d8f4cbf19f97940f81e996739fb7646882a419484c72d19e05852a7e"
   }
  }
 },
 "nbformat": 4,
 "nbformat_minor": 4
}
